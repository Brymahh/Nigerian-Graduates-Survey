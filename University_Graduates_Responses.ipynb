{
 "cells": [
  {
   "cell_type": "markdown",
   "id": "8344ab6a",
   "metadata": {
    "id": "8344ab6a"
   },
   "source": [
    "#  Project: Factors Influencing the Employability of Nigerian Graduates"
   ]
  },
  {
   "cell_type": "markdown",
   "id": "2f138e68",
   "metadata": {
    "id": "2f138e68"
   },
   "source": [
    "# Table of Contents\n",
    "<ul>\n",
    "<li><a href=\"#intro\">Introduction</a></li>\n",
    "<li><a href=\"#wrangling\">Data Wrangling</a></li>\n",
    "<li><a href=\"#rearranging\">Data Wrangling</a></li>\n",
    "<li><a href=\"#cleaning\">Data Cleaning</a></li>\n",
    "<li><a href=\"#eda\">Exploratory Data Analysis</a></li>\n",
    "</ul>"
   ]
  },
  {
   "cell_type": "markdown",
   "id": "10d3c7bc",
   "metadata": {
    "id": "10d3c7bc"
   },
   "source": [
    " <a id='intro'></a>\n",
    "## **INTRODUCTION**\n",
    "\n",
    "\n",
    "## Nigerian Graduates Survey\n",
    "\n",
    "> This dataset contains 5219 observations and 36 features/columns collected from a Survey of Fresh Graduates in the year 2018 conducted by [Stutern]('https://stutern.com'). The survey involved graduates who completed their degree within the last five years from `2018` (i.e 2013 - 2017) and asked Nigerian graduates many questions around their skills, educational background, current role, and more.  \n",
    "\n",
    "\n",
    "## The Columns Include:\n",
    "1. 'Timestamp'\n",
    "2. 'What is your gender'\n",
    "3. 'Year of graduation'\n",
    "4. 'Title of course studied'\n",
    "5. 'Polytechnic/University attended'\n",
    "6. 'What is your highest level of education?'\n",
    "7. 'What best describes your current status?'\n",
    "8. 'How many jobs have you had since graduation including your current one?'\n",
    "9. 'Have you completed your NYSC?'\n",
    "10. 'If you answered yes/ongoing to the previous question, what year did you (or will you) complete your NYSC?'\n",
    "11. 'Did you get your first full time job \\nthrough your NYSC placement?'\n",
    "12. 'Thinking about your first employment \\nafter graduation, what was your job level?'\n",
    "13. 'What is/was \\nyour job role?'\n",
    "14. 'What sector/industry is your company in? \\n(E.g. Banking, Agriculture, Telecommunication)'\n",
    "15. 'Still thinking about your first employment, \\nwhat is/was your monthly income level?'\n",
    "16. 'Did you need your higher education qualification to \\nget your first job (the actual qualification, not the subject of study)?'\n",
    "17. 'What was the most significant reason for \\ndeciding to take your first job?'\n",
    "18. 'Thinking about your current employment, \\nwhat is your job level?'\n",
    "19. 'What is your\\n job role?'\n",
    "20. 'What sector/industry is your company in? \\n(E.g. Banking, Agriculture, Telecommunication).\n",
    "21. 'What is your current\\n monthly income level?'\n",
    "22. 'Did you need your higher education \\nqualification to get this job (the actual qualification, not the subject of study)?'\n",
    "23. 'What was the most significant\\n reason for deciding to take this job?'\n",
    "24. 'Which employer in the country do\\n you think offers the best opportunities for graduates?'\n",
    "25. 'Reason \\nwhy?'\n",
    "26. 'Which sector is your most\\n preferred sector to work in?'\n",
    "27. 'What currency are \\nyou currently paid in?'\n",
    "28. 'Approximately how many hours a \\nday do you currently work?'\n",
    "29. 'As far as you are aware, what was most \\nimportant to your current employer about your qualification?'\n",
    "30. 'How do you find \\nout about your job(s)?'\n",
    "31. 'Thinking about your current employment,\\n did you work for your employer before or during your  higher education study?'\n",
    "32. 'Which form of transport \\ndo you use the most?'\n",
    "33. 'Were you able to rent an apartment or buy a car from the salary you got from your first job?'\n",
    "34. 'My course of study prepared me well for employment'\n",
    "35. 'My course of study prepared me well for further studies'\n",
    "36. 'Which of these skills/knowledge did your higher education prepare you for?\n",
    "\n",
    "\n",
    "\n",
    "## Question(s) For Analysis\n",
    "The aim of this study is to investigate the factors influencing the employability of Nigerian graduate. These factors include the type of school attended, the course studies and the influence of the compulsory National Youth Service Corps required for all Nigerian Graduates\n",
    "\n",
    "1. Can the employability of graduates from Nigerian universities be correlated with the academic programs they pursued during their undergraduate studies?\n",
    "\n",
    "2. Can the occupational outcomes of graduates be associated with the academic disciplines they studied during their tertiary education?\n",
    "\n",
    "3. Assessing Influence of a type tertiary institutions on employability for Nigerian graduates. (That is Polytechnics, Private or Public Universities.)\n",
    "\n",
    "4. Evaluating the importance of (NYSC) program to Nigerian graduates. (If it boosts their chances of employment after graduation)."
   ]
  },
  {
   "cell_type": "code",
   "execution_count": null,
   "id": "465a271a",
   "metadata": {
    "id": "465a271a"
   },
   "outputs": [],
   "source": [
    "#from google.colab import files #to enable us load the csv file into google collab\n",
    "\n",
    "import numpy as np\n",
    "import pandas as pd\n",
    "import matplotlib.pyplot as py\n",
    "import seaborn as sns\n",
    "import sklearn\n",
    "from scipy.stats import chi2_contingency"
   ]
  },
  {
   "cell_type": "markdown",
   "id": "d849ab9c",
   "metadata": {
    "id": "d849ab9c",
    "outputId": "a9c0107b-e4dc-4561-f1c4-dd58b04985b2"
   },
   "source": [
    "uploaded = files.upload()\n",
    "#upload csv file from local directory to google collab"
   ]
  },
  {
   "cell_type": "code",
   "execution_count": null,
   "id": "0299ea08",
   "metadata": {
    "id": "0299ea08"
   },
   "outputs": [],
   "source": [
    "data = pd.read_csv(\"Nigerian_Graduates_Destination_Survey_2013_2017_Responses.csv\")\n"
   ]
  },
  {
   "cell_type": "markdown",
   "id": "611fa637",
   "metadata": {
    "id": "611fa637"
   },
   "source": [
    "<a id='wrangling'></a>\n",
    "## **Data Wrangling**\n",
    "> This involves identifying erros present in this dataset"
   ]
  },
  {
   "cell_type": "code",
   "execution_count": null,
   "id": "a2faa956",
   "metadata": {
    "colab": {
     "base_uri": "https://localhost:8080/"
    },
    "id": "a2faa956",
    "outputId": "0c5531c3-62d3-4148-cd31-506c20026959"
   },
   "outputs": [
    {
     "data": {
      "text/plain": [
       "(5219, 36)"
      ]
     },
     "execution_count": 9,
     "metadata": {},
     "output_type": "execute_result"
    }
   ],
   "source": [
    "data.shape"
   ]
  },
  {
   "cell_type": "code",
   "execution_count": null,
   "id": "2fec42c1",
   "metadata": {
    "colab": {
     "base_uri": "https://localhost:8080/",
     "height": 716
    },
    "id": "2fec42c1",
    "outputId": "7b159ab8-d4e7-41b3-fe2f-8e8cc9a9b711",
    "scrolled": true
   },
   "outputs": [
    {
     "data": {
      "text/html": [
       "<div>\n",
       "<style scoped>\n",
       "    .dataframe tbody tr th:only-of-type {\n",
       "        vertical-align: middle;\n",
       "    }\n",
       "\n",
       "    .dataframe tbody tr th {\n",
       "        vertical-align: top;\n",
       "    }\n",
       "\n",
       "    .dataframe thead th {\n",
       "        text-align: right;\n",
       "    }\n",
       "</style>\n",
       "<table border=\"1\" class=\"dataframe\">\n",
       "  <thead>\n",
       "    <tr style=\"text-align: right;\">\n",
       "      <th></th>\n",
       "      <th>Timestamp</th>\n",
       "      <th>What is your gender</th>\n",
       "      <th>Year of graduation</th>\n",
       "      <th>Title of course studied</th>\n",
       "      <th>Polytechnic/University attended</th>\n",
       "      <th>What is your highest level of education?</th>\n",
       "      <th>What best describes your current status?</th>\n",
       "      <th>How many jobs have you had since graduation including your current one?</th>\n",
       "      <th>Have you completed your NYSC?</th>\n",
       "      <th>If you answered yes/ongoing to the previous question, what year did you (or will you) complete your NYSC?</th>\n",
       "      <th>...</th>\n",
       "      <th>What currency are you currently paid in?</th>\n",
       "      <th>Approximately how many hours a day do you currently work?</th>\n",
       "      <th>As far as you are aware, what was most important to your current employer about your qualification?</th>\n",
       "      <th>How do you find out about your job(s)?</th>\n",
       "      <th>Thinking about your current employment, did you work for your employer before or during your  higher education study?</th>\n",
       "      <th>Which form of transport do you use the most?</th>\n",
       "      <th>Were you able to rent an apartment or buy a car from the salary you got from your first job?</th>\n",
       "      <th>My course of study prepared me well for employment</th>\n",
       "      <th>My course of study prepared me well for further studies</th>\n",
       "      <th>Which of these skills/knowledge did your higher education prepare you for?</th>\n",
       "    </tr>\n",
       "  </thead>\n",
       "  <tbody>\n",
       "    <tr>\n",
       "      <th>0</th>\n",
       "      <td>2/8/2018 9:05:23</td>\n",
       "      <td>Male</td>\n",
       "      <td>2013</td>\n",
       "      <td>Electrical &amp; Electronic Engineering</td>\n",
       "      <td>Obafemi Awolowo University,Ile-Ife</td>\n",
       "      <td>Bachelor's degree</td>\n",
       "      <td>Working full time (paid employment)</td>\n",
       "      <td>3</td>\n",
       "      <td>NaN</td>\n",
       "      <td>NaN</td>\n",
       "      <td>...</td>\n",
       "      <td>Naira</td>\n",
       "      <td>8.0</td>\n",
       "      <td>No one thing was important</td>\n",
       "      <td>Internship</td>\n",
       "      <td>No</td>\n",
       "      <td>Bus</td>\n",
       "      <td>Yes: From my first job</td>\n",
       "      <td>No</td>\n",
       "      <td>No</td>\n",
       "      <td>Critical thinking skills, Ability to solve com...</td>\n",
       "    </tr>\n",
       "    <tr>\n",
       "      <th>1</th>\n",
       "      <td>2/15/2018 12:11:32</td>\n",
       "      <td>Male</td>\n",
       "      <td>2014</td>\n",
       "      <td>Psychology</td>\n",
       "      <td>Obafemi Awolowo University,Ile-Ife</td>\n",
       "      <td>Bachelor's degree</td>\n",
       "      <td>Working full time (paid employment)</td>\n",
       "      <td>2</td>\n",
       "      <td>Yes</td>\n",
       "      <td>2017.0</td>\n",
       "      <td>...</td>\n",
       "      <td>Naira</td>\n",
       "      <td>8.0</td>\n",
       "      <td>IT/SIWES/Internship experience (gained as part...</td>\n",
       "      <td>Internship</td>\n",
       "      <td>No</td>\n",
       "      <td>BRT</td>\n",
       "      <td>No: From my current job</td>\n",
       "      <td>Strongly Disagree</td>\n",
       "      <td>Agree</td>\n",
       "      <td>Critical thinking skills, Ability to solve com...</td>\n",
       "    </tr>\n",
       "    <tr>\n",
       "      <th>2</th>\n",
       "      <td>2/15/2018 13:47:10</td>\n",
       "      <td>Female</td>\n",
       "      <td>2013</td>\n",
       "      <td>Economics</td>\n",
       "      <td>Bells University of Technology, Otta</td>\n",
       "      <td>Bachelor's degree</td>\n",
       "      <td>Working full time (paid employment)</td>\n",
       "      <td>2</td>\n",
       "      <td>Yes</td>\n",
       "      <td>NaN</td>\n",
       "      <td>...</td>\n",
       "      <td>Naira</td>\n",
       "      <td>14.0</td>\n",
       "      <td>The subject(s) I studied</td>\n",
       "      <td>Employer's website</td>\n",
       "      <td>No</td>\n",
       "      <td>Uber/Taxify/Taxi services</td>\n",
       "      <td>No: From my current job</td>\n",
       "      <td>Disagree</td>\n",
       "      <td>Agree</td>\n",
       "      <td>Ability to work with others, Written communica...</td>\n",
       "    </tr>\n",
       "    <tr>\n",
       "      <th>3</th>\n",
       "      <td>2/16/2018 13:01:34</td>\n",
       "      <td>Male</td>\n",
       "      <td>2017</td>\n",
       "      <td>Mass Communication (Communication and Language...</td>\n",
       "      <td>Bowen University, Iwo</td>\n",
       "      <td>Master's degree</td>\n",
       "      <td>Self-employed/freelance/entrepreneur</td>\n",
       "      <td>0</td>\n",
       "      <td>Yes</td>\n",
       "      <td>NaN</td>\n",
       "      <td>...</td>\n",
       "      <td>NaN</td>\n",
       "      <td>NaN</td>\n",
       "      <td>NaN</td>\n",
       "      <td>NaN</td>\n",
       "      <td>NaN</td>\n",
       "      <td>NaN</td>\n",
       "      <td>NaN</td>\n",
       "      <td>NaN</td>\n",
       "      <td>NaN</td>\n",
       "      <td>NaN</td>\n",
       "    </tr>\n",
       "    <tr>\n",
       "      <th>4</th>\n",
       "      <td>2/16/2018 13:18:03</td>\n",
       "      <td>Female</td>\n",
       "      <td>2013</td>\n",
       "      <td>Statistics</td>\n",
       "      <td>Ekiti State University</td>\n",
       "      <td>Bachelor's degree</td>\n",
       "      <td>Working full time (paid employment)</td>\n",
       "      <td>3</td>\n",
       "      <td>Yes</td>\n",
       "      <td>2016.0</td>\n",
       "      <td>...</td>\n",
       "      <td>Naira</td>\n",
       "      <td>8.0</td>\n",
       "      <td>IT/SIWES/Internship experience (gained as part...</td>\n",
       "      <td>Personal contacts, including family and friends</td>\n",
       "      <td>No</td>\n",
       "      <td>Commercial Vehicles</td>\n",
       "      <td>No</td>\n",
       "      <td>Agree</td>\n",
       "      <td>Agree</td>\n",
       "      <td>Critical thinking skills</td>\n",
       "    </tr>\n",
       "  </tbody>\n",
       "</table>\n",
       "<p>5 rows × 36 columns</p>\n",
       "</div>"
      ],
      "text/plain": [
       "            Timestamp What is your gender  Year of graduation  \\\n",
       "0    2/8/2018 9:05:23                Male                2013   \n",
       "1  2/15/2018 12:11:32                Male                2014   \n",
       "2  2/15/2018 13:47:10              Female                2013   \n",
       "3  2/16/2018 13:01:34                Male                2017   \n",
       "4  2/16/2018 13:18:03              Female                2013   \n",
       "\n",
       "                             Title of course studied  \\\n",
       "0                Electrical & Electronic Engineering   \n",
       "1                                         Psychology   \n",
       "2                                          Economics   \n",
       "3  Mass Communication (Communication and Language...   \n",
       "4                                         Statistics   \n",
       "\n",
       "        Polytechnic/University attended  \\\n",
       "0    Obafemi Awolowo University,Ile-Ife   \n",
       "1    Obafemi Awolowo University,Ile-Ife   \n",
       "2  Bells University of Technology, Otta   \n",
       "3                 Bowen University, Iwo   \n",
       "4                Ekiti State University   \n",
       "\n",
       "  What is your highest level of education?  \\\n",
       "0                        Bachelor's degree   \n",
       "1                        Bachelor's degree   \n",
       "2                        Bachelor's degree   \n",
       "3                          Master's degree   \n",
       "4                        Bachelor's degree   \n",
       "\n",
       "  What best describes your current status?  \\\n",
       "0      Working full time (paid employment)   \n",
       "1      Working full time (paid employment)   \n",
       "2      Working full time (paid employment)   \n",
       "3     Self-employed/freelance/entrepreneur   \n",
       "4      Working full time (paid employment)   \n",
       "\n",
       "   How many jobs have you had since graduation including your current one?  \\\n",
       "0                                                  3                         \n",
       "1                                                  2                         \n",
       "2                                                  2                         \n",
       "3                                                  0                         \n",
       "4                                                  3                         \n",
       "\n",
       "  Have you completed your NYSC?  \\\n",
       "0                           NaN   \n",
       "1                           Yes   \n",
       "2                           Yes   \n",
       "3                           Yes   \n",
       "4                           Yes   \n",
       "\n",
       "   If you answered yes/ongoing to the previous question, what year did you (or will you) complete your NYSC?  \\\n",
       "0                                                NaN                                                           \n",
       "1                                             2017.0                                                           \n",
       "2                                                NaN                                                           \n",
       "3                                                NaN                                                           \n",
       "4                                             2016.0                                                           \n",
       "\n",
       "   ... What currency are you currently paid in?  \\\n",
       "0  ...                                    Naira   \n",
       "1  ...                                    Naira   \n",
       "2  ...                                    Naira   \n",
       "3  ...                                      NaN   \n",
       "4  ...                                    Naira   \n",
       "\n",
       "  Approximately how many hours a day do you currently work?  \\\n",
       "0                                                8.0          \n",
       "1                                                8.0          \n",
       "2                                               14.0          \n",
       "3                                                NaN          \n",
       "4                                                8.0          \n",
       "\n",
       "  As far as you are aware, what was most important to your current employer about your qualification?  \\\n",
       "0                         No one thing was important                                                    \n",
       "1  IT/SIWES/Internship experience (gained as part...                                                    \n",
       "2                           The subject(s) I studied                                                    \n",
       "3                                                NaN                                                    \n",
       "4  IT/SIWES/Internship experience (gained as part...                                                    \n",
       "\n",
       "            How do you find out about your job(s)?  \\\n",
       "0                                       Internship   \n",
       "1                                       Internship   \n",
       "2                               Employer's website   \n",
       "3                                              NaN   \n",
       "4  Personal contacts, including family and friends   \n",
       "\n",
       "  Thinking about your current employment, did you work for your employer before or during your  higher education study?  \\\n",
       "0                                                 No                                                                      \n",
       "1                                                 No                                                                      \n",
       "2                                                 No                                                                      \n",
       "3                                                NaN                                                                      \n",
       "4                                                 No                                                                      \n",
       "\n",
       "  Which form of transport do you use the most?  \\\n",
       "0                                          Bus   \n",
       "1                                          BRT   \n",
       "2                    Uber/Taxify/Taxi services   \n",
       "3                                          NaN   \n",
       "4                          Commercial Vehicles   \n",
       "\n",
       "  Were you able to rent an apartment or buy a car from the salary you got from your first job?  \\\n",
       "0                             Yes: From my first job                                             \n",
       "1                            No: From my current job                                             \n",
       "2                            No: From my current job                                             \n",
       "3                                                NaN                                             \n",
       "4                                                 No                                             \n",
       "\n",
       "  My course of study prepared me well for employment  \\\n",
       "0                                                 No   \n",
       "1                                  Strongly Disagree   \n",
       "2                                           Disagree   \n",
       "3                                                NaN   \n",
       "4                                              Agree   \n",
       "\n",
       "  My course of study prepared me well for further studies  \\\n",
       "0                                                 No        \n",
       "1                                              Agree        \n",
       "2                                              Agree        \n",
       "3                                                NaN        \n",
       "4                                              Agree        \n",
       "\n",
       "  Which of these skills/knowledge did your higher education prepare you for?  \n",
       "0  Critical thinking skills, Ability to solve com...                          \n",
       "1  Critical thinking skills, Ability to solve com...                          \n",
       "2  Ability to work with others, Written communica...                          \n",
       "3                                                NaN                          \n",
       "4                           Critical thinking skills                          \n",
       "\n",
       "[5 rows x 36 columns]"
      ]
     },
     "execution_count": 10,
     "metadata": {},
     "output_type": "execute_result"
    }
   ],
   "source": [
    "data.head()"
   ]
  },
  {
   "cell_type": "code",
   "execution_count": null,
   "id": "46b95fe4",
   "metadata": {
    "colab": {
     "base_uri": "https://localhost:8080/"
    },
    "id": "46b95fe4",
    "outputId": "9bec6ea1-cb1a-4848-8dea-14cc910ec164",
    "scrolled": true
   },
   "outputs": [
    {
     "name": "stdout",
     "output_type": "stream",
     "text": [
      "<class 'pandas.core.frame.DataFrame'>\n",
      "RangeIndex: 5219 entries, 0 to 5218\n",
      "Data columns (total 36 columns):\n",
      " #   Column                                                                                                                        Non-Null Count  Dtype  \n",
      "---  ------                                                                                                                        --------------  -----  \n",
      " 0   Timestamp                                                                                                                     5219 non-null   object \n",
      " 1   What is your gender                                                                                                           5219 non-null   object \n",
      " 2   Year of graduation                                                                                                            5219 non-null   int64  \n",
      " 3   Title of course studied                                                                                                       5219 non-null   object \n",
      " 4   Polytechnic/University attended                                                                                               5219 non-null   object \n",
      " 5   What is your highest level of education?                                                                                      5219 non-null   object \n",
      " 6   What best describes your current status?                                                                                      5219 non-null   object \n",
      " 7   How many jobs have you had since graduation including your current one?                                                       5219 non-null   int64  \n",
      " 8   Have you completed your NYSC?                                                                                                 5218 non-null   object \n",
      " 9   If you answered yes/ongoing to the previous question, what year did you (or will you) complete your NYSC?                     4278 non-null   float64\n",
      " 10  Did you get your first full time job through your NYSC placement?                                                             5218 non-null   object \n",
      " 11  Thinking about your first employment after graduation, what was your job level?                                               1656 non-null   object \n",
      " 12  What is/was your job role?                                                                                                    1654 non-null   object \n",
      " 13  What sector/industry is your company in? (E.g. Banking, Agriculture, Telecommunication)                                       1656 non-null   object \n",
      " 14  Still thinking about your first employment, what is/was your monthly income level?                                            1656 non-null   object \n",
      " 15  Did you need your higher education qualification to get your first job (the actual qualification, not the subject of study)?  1656 non-null   object \n",
      " 16  What was the most significant reason for deciding to take your first job?                                                     1656 non-null   object \n",
      " 17  Thinking about your current employment, what is your job level?                                                               3432 non-null   object \n",
      " 18  What is your job role?                                                                                                        3431 non-null   object \n",
      " 19  What sector/industry is your company in? (E.g. Banking, Agriculture, Telecommunication).1                                     3432 non-null   object \n",
      " 20  What is your current monthly income level?                                                                                    3432 non-null   object \n",
      " 21  Did you need your higher education qualification to get this job (the actual qualification, not the subject of study)?        3431 non-null   object \n",
      " 22  What was the most significant reason for deciding to take this job?                                                           3432 non-null   object \n",
      " 23  Which employer in the country do you think offers the best opportunities for graduates?                                       2958 non-null   object \n",
      " 24  Reason why?                                                                                                                   3109 non-null   object \n",
      " 25  Which sector is your most preferred sector to work in?                                                                        3297 non-null   object \n",
      " 26  What currency are you currently paid in?                                                                                      3432 non-null   object \n",
      " 27  Approximately how many hours a day do you currently work?                                                                     3432 non-null   float64\n",
      " 28  As far as you are aware, what was most important to your current employer about your qualification?                           3432 non-null   object \n",
      " 29  How do you find out about your job(s)?                                                                                        3432 non-null   object \n",
      " 30  Thinking about your current employment, did you work for your employer before or during your  higher education study?         3432 non-null   object \n",
      " 31  Which form of transport do you use the most?                                                                                  3432 non-null   object \n",
      " 32  Were you able to rent an apartment or buy a car from the salary you got from your first job?                                  3432 non-null   object \n",
      " 33  My course of study prepared me well for employment                                                                            3432 non-null   object \n",
      " 34  My course of study prepared me well for further studies                                                                       3432 non-null   object \n",
      " 35  Which of these skills/knowledge did your higher education prepare you for?                                                    3432 non-null   object \n",
      "dtypes: float64(2), int64(2), object(32)\n",
      "memory usage: 1.4+ MB\n"
     ]
    }
   ],
   "source": [
    "data.info()"
   ]
  },
  {
   "cell_type": "code",
   "execution_count": null,
   "id": "894c7adf",
   "metadata": {
    "id": "894c7adf",
    "outputId": "11825806-e778-4558-a021-8e22f23cccda"
   },
   "outputs": [
    {
     "data": {
      "text/plain": [
       "Index(['Timestamp', 'What is your gender', 'Year of graduation',\n",
       "       'Title of course studied', 'Polytechnic/University attended',\n",
       "       'What is your highest level of education?',\n",
       "       'What best describes your current status?',\n",
       "       'How many jobs have you had since graduation including your current one?',\n",
       "       'Have you completed your NYSC?',\n",
       "       'If you answered yes/ongoing to the previous question, what year did you (or will you) complete your NYSC?',\n",
       "       'Did you get your first full time job through your NYSC placement?',\n",
       "       'Thinking about your first employment after graduation, what was your job level?',\n",
       "       'What is/was your job role?',\n",
       "       'What sector/industry is your company in? (E.g. Banking, Agriculture, Telecommunication)',\n",
       "       'Still thinking about your first employment, what is/was your monthly income level?',\n",
       "       'Did you need your higher education qualification to get your first job (the actual qualification, not the subject of study)?',\n",
       "       'What was the most significant reason for deciding to take your first job?',\n",
       "       'Thinking about your current employment, what is your job level?',\n",
       "       'What is your job role?',\n",
       "       'What sector/industry is your company in? (E.g. Banking, Agriculture, Telecommunication).1',\n",
       "       'What is your current monthly income level?',\n",
       "       'Did you need your higher education qualification to get this job (the actual qualification, not the subject of study)?',\n",
       "       'What was the most significant reason for deciding to take this job?',\n",
       "       'Which employer in the country do you think offers the best opportunities for graduates?',\n",
       "       'Reason why?', 'Which sector is your most preferred sector to work in?',\n",
       "       'What currency are you currently paid in?',\n",
       "       'Approximately how many hours a day do you currently work?',\n",
       "       'As far as you are aware, what was most important to your current employer about your qualification?',\n",
       "       'How do you find out about your job(s)?',\n",
       "       'Thinking about your current employment, did you work for your employer before or during your  higher education study?',\n",
       "       'Which form of transport do you use the most?',\n",
       "       'Were you able to rent an apartment or buy a car from the salary you got from your first job?',\n",
       "       'My course of study prepared me well for employment',\n",
       "       'My course of study prepared me well for further studies',\n",
       "       'Which of these skills/knowledge did your higher education prepare you for?'],\n",
       "      dtype='object')"
      ]
     },
     "execution_count": 12,
     "metadata": {},
     "output_type": "execute_result"
    }
   ],
   "source": [
    "# the column names in the data\n",
    "data.columns"
   ]
  },
  {
   "cell_type": "code",
   "execution_count": null,
   "id": "832646d9",
   "metadata": {
    "id": "832646d9",
    "outputId": "d14ca161-fae1-4b9f-bb4a-7be25f687095"
   },
   "outputs": [
    {
     "data": {
      "text/plain": [
       "2"
      ]
     },
     "execution_count": 13,
     "metadata": {},
     "output_type": "execute_result"
    }
   ],
   "source": [
    "# Determining the number of duplicate values across all features(columns) in this dataset\n",
    "data.duplicated().sum()"
   ]
  },
  {
   "cell_type": "code",
   "execution_count": null,
   "id": "efb96e51",
   "metadata": {
    "id": "efb96e51",
    "outputId": "0f5b68eb-d00b-4aa7-909b-cc4c22ff7530"
   },
   "outputs": [
    {
     "data": {
      "text/html": [
       "<div>\n",
       "<style scoped>\n",
       "    .dataframe tbody tr th:only-of-type {\n",
       "        vertical-align: middle;\n",
       "    }\n",
       "\n",
       "    .dataframe tbody tr th {\n",
       "        vertical-align: top;\n",
       "    }\n",
       "\n",
       "    .dataframe thead th {\n",
       "        text-align: right;\n",
       "    }\n",
       "</style>\n",
       "<table border=\"1\" class=\"dataframe\">\n",
       "  <thead>\n",
       "    <tr style=\"text-align: right;\">\n",
       "      <th></th>\n",
       "      <th>Timestamp</th>\n",
       "      <th>What is your gender</th>\n",
       "      <th>Year of graduation</th>\n",
       "      <th>Title of course studied</th>\n",
       "      <th>Polytechnic/University attended</th>\n",
       "      <th>What is your highest level of education?</th>\n",
       "      <th>What best describes your current status?</th>\n",
       "      <th>How many jobs have you had since graduation including your current one?</th>\n",
       "      <th>Have you completed your NYSC?</th>\n",
       "      <th>If you answered yes/ongoing to the previous question, what year did you (or will you) complete your NYSC?</th>\n",
       "      <th>...</th>\n",
       "      <th>What currency are you currently paid in?</th>\n",
       "      <th>Approximately how many hours a day do you currently work?</th>\n",
       "      <th>As far as you are aware, what was most important to your current employer about your qualification?</th>\n",
       "      <th>How do you find out about your job(s)?</th>\n",
       "      <th>Thinking about your current employment, did you work for your employer before or during your  higher education study?</th>\n",
       "      <th>Which form of transport do you use the most?</th>\n",
       "      <th>Were you able to rent an apartment or buy a car from the salary you got from your first job?</th>\n",
       "      <th>My course of study prepared me well for employment</th>\n",
       "      <th>My course of study prepared me well for further studies</th>\n",
       "      <th>Which of these skills/knowledge did your higher education prepare you for?</th>\n",
       "    </tr>\n",
       "  </thead>\n",
       "  <tbody>\n",
       "    <tr>\n",
       "      <th>826</th>\n",
       "      <td>2/27/2018 11:13:21</td>\n",
       "      <td>Female</td>\n",
       "      <td>2016</td>\n",
       "      <td>Botany</td>\n",
       "      <td>Ahmadu Bello University, Zaria</td>\n",
       "      <td>Bachelor's degree</td>\n",
       "      <td>Unemployed</td>\n",
       "      <td>0</td>\n",
       "      <td>Yes</td>\n",
       "      <td>2017.0</td>\n",
       "      <td>...</td>\n",
       "      <td>NaN</td>\n",
       "      <td>NaN</td>\n",
       "      <td>NaN</td>\n",
       "      <td>NaN</td>\n",
       "      <td>NaN</td>\n",
       "      <td>NaN</td>\n",
       "      <td>NaN</td>\n",
       "      <td>NaN</td>\n",
       "      <td>NaN</td>\n",
       "      <td>NaN</td>\n",
       "    </tr>\n",
       "    <tr>\n",
       "      <th>827</th>\n",
       "      <td>2/27/2018 11:13:21</td>\n",
       "      <td>Female</td>\n",
       "      <td>2016</td>\n",
       "      <td>Botany</td>\n",
       "      <td>Ahmadu Bello University, Zaria</td>\n",
       "      <td>Bachelor's degree</td>\n",
       "      <td>Unemployed</td>\n",
       "      <td>0</td>\n",
       "      <td>Yes</td>\n",
       "      <td>2017.0</td>\n",
       "      <td>...</td>\n",
       "      <td>NaN</td>\n",
       "      <td>NaN</td>\n",
       "      <td>NaN</td>\n",
       "      <td>NaN</td>\n",
       "      <td>NaN</td>\n",
       "      <td>NaN</td>\n",
       "      <td>NaN</td>\n",
       "      <td>NaN</td>\n",
       "      <td>NaN</td>\n",
       "      <td>NaN</td>\n",
       "    </tr>\n",
       "    <tr>\n",
       "      <th>3589</th>\n",
       "      <td>4/3/2018 13:48:12</td>\n",
       "      <td>Male</td>\n",
       "      <td>2015</td>\n",
       "      <td>Medicine</td>\n",
       "      <td>University of Ibadan</td>\n",
       "      <td>Bachelor's degree</td>\n",
       "      <td>Working full time (paid employment)</td>\n",
       "      <td>4</td>\n",
       "      <td>Yes</td>\n",
       "      <td>2017.0</td>\n",
       "      <td>...</td>\n",
       "      <td>Naira</td>\n",
       "      <td>10.0</td>\n",
       "      <td>The level of study</td>\n",
       "      <td>Personal contacts, including family and friends</td>\n",
       "      <td>No</td>\n",
       "      <td>Car</td>\n",
       "      <td>Yes: From my first job</td>\n",
       "      <td>Strongly Agree</td>\n",
       "      <td>Strongly Agree</td>\n",
       "      <td>Critical thinking skills, Ability to solve com...</td>\n",
       "    </tr>\n",
       "    <tr>\n",
       "      <th>3590</th>\n",
       "      <td>4/3/2018 13:48:12</td>\n",
       "      <td>Male</td>\n",
       "      <td>2015</td>\n",
       "      <td>Medicine</td>\n",
       "      <td>University of Ibadan</td>\n",
       "      <td>Bachelor's degree</td>\n",
       "      <td>Working full time (paid employment)</td>\n",
       "      <td>4</td>\n",
       "      <td>Yes</td>\n",
       "      <td>2017.0</td>\n",
       "      <td>...</td>\n",
       "      <td>Naira</td>\n",
       "      <td>10.0</td>\n",
       "      <td>The level of study</td>\n",
       "      <td>Personal contacts, including family and friends</td>\n",
       "      <td>No</td>\n",
       "      <td>Car</td>\n",
       "      <td>Yes: From my first job</td>\n",
       "      <td>Strongly Agree</td>\n",
       "      <td>Strongly Agree</td>\n",
       "      <td>Critical thinking skills, Ability to solve com...</td>\n",
       "    </tr>\n",
       "  </tbody>\n",
       "</table>\n",
       "<p>4 rows × 36 columns</p>\n",
       "</div>"
      ],
      "text/plain": [
       "               Timestamp What is your gender  Year of graduation  \\\n",
       "826   2/27/2018 11:13:21              Female                2016   \n",
       "827   2/27/2018 11:13:21              Female                2016   \n",
       "3589   4/3/2018 13:48:12                Male                2015   \n",
       "3590   4/3/2018 13:48:12                Male                2015   \n",
       "\n",
       "     Title of course studied Polytechnic/University attended  \\\n",
       "826                   Botany  Ahmadu Bello University, Zaria   \n",
       "827                   Botany  Ahmadu Bello University, Zaria   \n",
       "3589                Medicine            University of Ibadan   \n",
       "3590                Medicine            University of Ibadan   \n",
       "\n",
       "     What is your highest level of education?  \\\n",
       "826                         Bachelor's degree   \n",
       "827                         Bachelor's degree   \n",
       "3589                        Bachelor's degree   \n",
       "3590                        Bachelor's degree   \n",
       "\n",
       "     What best describes your current status?  \\\n",
       "826                                Unemployed   \n",
       "827                                Unemployed   \n",
       "3589      Working full time (paid employment)   \n",
       "3590      Working full time (paid employment)   \n",
       "\n",
       "      How many jobs have you had since graduation including your current one?  \\\n",
       "826                                                   0                         \n",
       "827                                                   0                         \n",
       "3589                                                  4                         \n",
       "3590                                                  4                         \n",
       "\n",
       "     Have you completed your NYSC?  \\\n",
       "826                            Yes   \n",
       "827                            Yes   \n",
       "3589                           Yes   \n",
       "3590                           Yes   \n",
       "\n",
       "      If you answered yes/ongoing to the previous question, what year did you (or will you) complete your NYSC?  \\\n",
       "826                                              2017.0                                                           \n",
       "827                                              2017.0                                                           \n",
       "3589                                             2017.0                                                           \n",
       "3590                                             2017.0                                                           \n",
       "\n",
       "      ... What currency are you currently paid in?  \\\n",
       "826   ...                                      NaN   \n",
       "827   ...                                      NaN   \n",
       "3589  ...                                    Naira   \n",
       "3590  ...                                    Naira   \n",
       "\n",
       "     Approximately how many hours a day do you currently work?  \\\n",
       "826                                                 NaN          \n",
       "827                                                 NaN          \n",
       "3589                                               10.0          \n",
       "3590                                               10.0          \n",
       "\n",
       "     As far as you are aware, what was most important to your current employer about your qualification?  \\\n",
       "826                                                 NaN                                                    \n",
       "827                                                 NaN                                                    \n",
       "3589                                 The level of study                                                    \n",
       "3590                                 The level of study                                                    \n",
       "\n",
       "               How do you find out about your job(s)?  \\\n",
       "826                                               NaN   \n",
       "827                                               NaN   \n",
       "3589  Personal contacts, including family and friends   \n",
       "3590  Personal contacts, including family and friends   \n",
       "\n",
       "     Thinking about your current employment, did you work for your employer before or during your  higher education study?  \\\n",
       "826                                                 NaN                                                                      \n",
       "827                                                 NaN                                                                      \n",
       "3589                                                 No                                                                      \n",
       "3590                                                 No                                                                      \n",
       "\n",
       "     Which form of transport do you use the most?  \\\n",
       "826                                           NaN   \n",
       "827                                           NaN   \n",
       "3589                                          Car   \n",
       "3590                                          Car   \n",
       "\n",
       "     Were you able to rent an apartment or buy a car from the salary you got from your first job?  \\\n",
       "826                                                 NaN                                             \n",
       "827                                                 NaN                                             \n",
       "3589                             Yes: From my first job                                             \n",
       "3590                             Yes: From my first job                                             \n",
       "\n",
       "     My course of study prepared me well for employment  \\\n",
       "826                                                 NaN   \n",
       "827                                                 NaN   \n",
       "3589                                     Strongly Agree   \n",
       "3590                                     Strongly Agree   \n",
       "\n",
       "     My course of study prepared me well for further studies  \\\n",
       "826                                                 NaN        \n",
       "827                                                 NaN        \n",
       "3589                                     Strongly Agree        \n",
       "3590                                     Strongly Agree        \n",
       "\n",
       "     Which of these skills/knowledge did your higher education prepare you for?  \n",
       "826                                                 NaN                          \n",
       "827                                                 NaN                          \n",
       "3589  Critical thinking skills, Ability to solve com...                          \n",
       "3590  Critical thinking skills, Ability to solve com...                          \n",
       "\n",
       "[4 rows x 36 columns]"
      ]
     },
     "execution_count": 14,
     "metadata": {},
     "output_type": "execute_result"
    }
   ],
   "source": [
    "# Returns duplicate values and their pairs\n",
    "\n",
    "data[data.duplicated(keep = False)]"
   ]
  },
  {
   "cell_type": "markdown",
   "id": "71563061",
   "metadata": {
    "id": "71563061"
   },
   "source": [
    "From the above Analysis\n",
    "> 1. The column features/names are worded and very long, hence need to be renamed to shorter variables. A data dictionary would be provided to explain the subsquent names and their meanings.\n",
    "\n",
    "> 2. A subset dataframe called `new_data` containing only the feautures needed is established.\n",
    "\n",
    "> 3. Duplicated values across all column features needs to be dropped. It is practically unrealistic for thesame persons to have thesame details across all features and submit at exactly thesame time stamp (\n",
    "\n",
    "> 4. Calculation of percentage of missing values needs to be done. Column Feautures having over 50% duplicated values, needs to be assessed for relevance and then dropped/deleted.\n",
    "\n",
    "> 5. Evaluationof individual columns in the dataset and cleaning."
   ]
  },
  {
   "cell_type": "markdown",
   "id": "9f9e2f35",
   "metadata": {
    "id": "9f9e2f35"
   },
   "source": [
    "<a id='wrangling'></a>\n",
    "## **Data Cleaning**\n",
    "> Evaluation of the column features and cleaning"
   ]
  },
  {
   "cell_type": "code",
   "execution_count": null,
   "id": "892738be",
   "metadata": {
    "id": "892738be"
   },
   "outputs": [],
   "source": [
    "#dropping duplicate values\n",
    "data.drop_duplicates(inplace = True)"
   ]
  },
  {
   "cell_type": "code",
   "execution_count": null,
   "id": "180598e2",
   "metadata": {
    "id": "180598e2",
    "outputId": "2ed223c6-97f6-4d16-c3b1-daeec3364059"
   },
   "outputs": [
    {
     "data": {
      "text/plain": [
       "(5217, 36)"
      ]
     },
     "execution_count": 16,
     "metadata": {},
     "output_type": "execute_result"
    }
   ],
   "source": [
    "# Duplicate rows have been dropped, provides the new number of variables/columns and observations\n",
    "data.shape"
   ]
  },
  {
   "cell_type": "code",
   "execution_count": null,
   "id": "b14cf54a",
   "metadata": {
    "id": "b14cf54a"
   },
   "outputs": [],
   "source": [
    "# create a list of the important features\n",
    "\n",
    "columns = [\"Timestamp\",\"What is your gender\",\"Year of graduation\", \"Title of course studied\",\n",
    "           \"Polytechnic/University attended\",\"What is your highest level of education?\",\n",
    "          \"What best describes your current status?\", \"How many jobs have you had since graduation including your current one?\",\n",
    "          \"Have you completed your NYSC?\",\n",
    "           \"If you answered yes/ongoing to the previous question, what year did you (or will you) complete your NYSC?\",\n",
    "          \"Did you need your higher education qualification to get your first job (the actual qualification, not the subject of study)?\",\n",
    "          \"My course of study prepared me well for employment\"]"
   ]
  },
  {
   "cell_type": "code",
   "execution_count": null,
   "id": "d6add9b8",
   "metadata": {
    "id": "d6add9b8"
   },
   "outputs": [],
   "source": [
    "#create the new dataframe with the important features\n",
    "new_data = data.loc[:, columns]"
   ]
  },
  {
   "cell_type": "code",
   "execution_count": null,
   "id": "ac509bc8",
   "metadata": {
    "colab": {
     "base_uri": "https://localhost:8080/",
     "height": 919
    },
    "id": "ac509bc8",
    "outputId": "cf4eb09f-8f3c-4d2a-9701-6496d4b9e1da",
    "scrolled": false
   },
   "outputs": [
    {
     "data": {
      "text/html": [
       "<div>\n",
       "<style scoped>\n",
       "    .dataframe tbody tr th:only-of-type {\n",
       "        vertical-align: middle;\n",
       "    }\n",
       "\n",
       "    .dataframe tbody tr th {\n",
       "        vertical-align: top;\n",
       "    }\n",
       "\n",
       "    .dataframe thead th {\n",
       "        text-align: right;\n",
       "    }\n",
       "</style>\n",
       "<table border=\"1\" class=\"dataframe\">\n",
       "  <thead>\n",
       "    <tr style=\"text-align: right;\">\n",
       "      <th></th>\n",
       "      <th>Timestamp</th>\n",
       "      <th>What is your gender</th>\n",
       "      <th>Year of graduation</th>\n",
       "      <th>Title of course studied</th>\n",
       "      <th>Polytechnic/University attended</th>\n",
       "      <th>What is your highest level of education?</th>\n",
       "      <th>What best describes your current status?</th>\n",
       "      <th>How many jobs have you had since graduation including your current one?</th>\n",
       "      <th>Have you completed your NYSC?</th>\n",
       "      <th>If you answered yes/ongoing to the previous question, what year did you (or will you) complete your NYSC?</th>\n",
       "      <th>Did you need your higher education qualification to get your first job (the actual qualification, not the subject of study)?</th>\n",
       "      <th>My course of study prepared me well for employment</th>\n",
       "    </tr>\n",
       "  </thead>\n",
       "  <tbody>\n",
       "    <tr>\n",
       "      <th>0</th>\n",
       "      <td>2/8/2018 9:05:23</td>\n",
       "      <td>Male</td>\n",
       "      <td>2013</td>\n",
       "      <td>Electrical &amp; Electronic Engineering</td>\n",
       "      <td>Obafemi Awolowo University,Ile-Ife</td>\n",
       "      <td>Bachelor's degree</td>\n",
       "      <td>Working full time (paid employment)</td>\n",
       "      <td>3</td>\n",
       "      <td>NaN</td>\n",
       "      <td>NaN</td>\n",
       "      <td>No: the qualification was not required</td>\n",
       "      <td>No</td>\n",
       "    </tr>\n",
       "    <tr>\n",
       "      <th>1</th>\n",
       "      <td>2/15/2018 12:11:32</td>\n",
       "      <td>Male</td>\n",
       "      <td>2014</td>\n",
       "      <td>Psychology</td>\n",
       "      <td>Obafemi Awolowo University,Ile-Ife</td>\n",
       "      <td>Bachelor's degree</td>\n",
       "      <td>Working full time (paid employment)</td>\n",
       "      <td>2</td>\n",
       "      <td>Yes</td>\n",
       "      <td>2017.0</td>\n",
       "      <td>Yes: the qualification was a formal requirement</td>\n",
       "      <td>Strongly Disagree</td>\n",
       "    </tr>\n",
       "    <tr>\n",
       "      <th>2</th>\n",
       "      <td>2/15/2018 13:47:10</td>\n",
       "      <td>Female</td>\n",
       "      <td>2013</td>\n",
       "      <td>Economics</td>\n",
       "      <td>Bells University of Technology, Otta</td>\n",
       "      <td>Bachelor's degree</td>\n",
       "      <td>Working full time (paid employment)</td>\n",
       "      <td>2</td>\n",
       "      <td>Yes</td>\n",
       "      <td>NaN</td>\n",
       "      <td>Yes: the qualification was a formal requirement</td>\n",
       "      <td>Disagree</td>\n",
       "    </tr>\n",
       "    <tr>\n",
       "      <th>3</th>\n",
       "      <td>2/16/2018 13:01:34</td>\n",
       "      <td>Male</td>\n",
       "      <td>2017</td>\n",
       "      <td>Mass Communication (Communication and Language...</td>\n",
       "      <td>Bowen University, Iwo</td>\n",
       "      <td>Master's degree</td>\n",
       "      <td>Self-employed/freelance/entrepreneur</td>\n",
       "      <td>0</td>\n",
       "      <td>Yes</td>\n",
       "      <td>NaN</td>\n",
       "      <td>NaN</td>\n",
       "      <td>NaN</td>\n",
       "    </tr>\n",
       "    <tr>\n",
       "      <th>4</th>\n",
       "      <td>2/16/2018 13:18:03</td>\n",
       "      <td>Female</td>\n",
       "      <td>2013</td>\n",
       "      <td>Statistics</td>\n",
       "      <td>Ekiti State University</td>\n",
       "      <td>Bachelor's degree</td>\n",
       "      <td>Working full time (paid employment)</td>\n",
       "      <td>3</td>\n",
       "      <td>Yes</td>\n",
       "      <td>2016.0</td>\n",
       "      <td>Yes: while the qualification was not a formal ...</td>\n",
       "      <td>Agree</td>\n",
       "    </tr>\n",
       "    <tr>\n",
       "      <th>...</th>\n",
       "      <td>...</td>\n",
       "      <td>...</td>\n",
       "      <td>...</td>\n",
       "      <td>...</td>\n",
       "      <td>...</td>\n",
       "      <td>...</td>\n",
       "      <td>...</td>\n",
       "      <td>...</td>\n",
       "      <td>...</td>\n",
       "      <td>...</td>\n",
       "      <td>...</td>\n",
       "      <td>...</td>\n",
       "    </tr>\n",
       "    <tr>\n",
       "      <th>5214</th>\n",
       "      <td>5/14/2018 19:51:56</td>\n",
       "      <td>Female</td>\n",
       "      <td>2014</td>\n",
       "      <td>Physics and Astronomy</td>\n",
       "      <td>University of Lagos</td>\n",
       "      <td>Bachelor's degree</td>\n",
       "      <td>Unemployed</td>\n",
       "      <td>1</td>\n",
       "      <td>Yes</td>\n",
       "      <td>2016.0</td>\n",
       "      <td>NaN</td>\n",
       "      <td>Strongly Agree</td>\n",
       "    </tr>\n",
       "    <tr>\n",
       "      <th>5215</th>\n",
       "      <td>5/15/2018 10:17:12</td>\n",
       "      <td>Female</td>\n",
       "      <td>2017</td>\n",
       "      <td>Acturial Science</td>\n",
       "      <td>University of Lagos</td>\n",
       "      <td>Bachelor's degree</td>\n",
       "      <td>Youth Corper (NYSC)</td>\n",
       "      <td>0</td>\n",
       "      <td>No</td>\n",
       "      <td>NaN</td>\n",
       "      <td>NaN</td>\n",
       "      <td>NaN</td>\n",
       "    </tr>\n",
       "    <tr>\n",
       "      <th>5216</th>\n",
       "      <td>5/15/2018 10:33:45</td>\n",
       "      <td>Female</td>\n",
       "      <td>2014</td>\n",
       "      <td>Political Science</td>\n",
       "      <td>Others (For foreign trained students)</td>\n",
       "      <td>Bachelor's degree</td>\n",
       "      <td>Working full time (paid employment)</td>\n",
       "      <td>1</td>\n",
       "      <td>Yes</td>\n",
       "      <td>2015.0</td>\n",
       "      <td>NaN</td>\n",
       "      <td>Disagree</td>\n",
       "    </tr>\n",
       "    <tr>\n",
       "      <th>5217</th>\n",
       "      <td>5/15/2018 13:49:47</td>\n",
       "      <td>Female</td>\n",
       "      <td>2015</td>\n",
       "      <td>Business Administration</td>\n",
       "      <td>The Polytechnic Ibadan, Ibadab, Oyo State.</td>\n",
       "      <td>Higher National Diploma (HND)</td>\n",
       "      <td>Self-employed/freelance/entrepreneur</td>\n",
       "      <td>2</td>\n",
       "      <td>Yes</td>\n",
       "      <td>2017.0</td>\n",
       "      <td>Yes: the qualification was a formal requirement</td>\n",
       "      <td>Agree</td>\n",
       "    </tr>\n",
       "    <tr>\n",
       "      <th>5218</th>\n",
       "      <td>5/15/2018 23:39:09</td>\n",
       "      <td>Male</td>\n",
       "      <td>2016</td>\n",
       "      <td>Economics</td>\n",
       "      <td>Usumanu Danfodiyo University</td>\n",
       "      <td>Bachelor's degree</td>\n",
       "      <td>Unemployed</td>\n",
       "      <td>0</td>\n",
       "      <td>Yes</td>\n",
       "      <td>2018.0</td>\n",
       "      <td>NaN</td>\n",
       "      <td>NaN</td>\n",
       "    </tr>\n",
       "  </tbody>\n",
       "</table>\n",
       "<p>5217 rows × 12 columns</p>\n",
       "</div>"
      ],
      "text/plain": [
       "               Timestamp What is your gender  Year of graduation  \\\n",
       "0       2/8/2018 9:05:23                Male                2013   \n",
       "1     2/15/2018 12:11:32                Male                2014   \n",
       "2     2/15/2018 13:47:10              Female                2013   \n",
       "3     2/16/2018 13:01:34                Male                2017   \n",
       "4     2/16/2018 13:18:03              Female                2013   \n",
       "...                  ...                 ...                 ...   \n",
       "5214  5/14/2018 19:51:56              Female                2014   \n",
       "5215  5/15/2018 10:17:12              Female                2017   \n",
       "5216  5/15/2018 10:33:45              Female                2014   \n",
       "5217  5/15/2018 13:49:47              Female                2015   \n",
       "5218  5/15/2018 23:39:09                Male                2016   \n",
       "\n",
       "                                Title of course studied  \\\n",
       "0                   Electrical & Electronic Engineering   \n",
       "1                                            Psychology   \n",
       "2                                             Economics   \n",
       "3     Mass Communication (Communication and Language...   \n",
       "4                                            Statistics   \n",
       "...                                                 ...   \n",
       "5214                              Physics and Astronomy   \n",
       "5215                                   Acturial Science   \n",
       "5216                                  Political Science   \n",
       "5217                            Business Administration   \n",
       "5218                                          Economics   \n",
       "\n",
       "                 Polytechnic/University attended  \\\n",
       "0             Obafemi Awolowo University,Ile-Ife   \n",
       "1             Obafemi Awolowo University,Ile-Ife   \n",
       "2           Bells University of Technology, Otta   \n",
       "3                          Bowen University, Iwo   \n",
       "4                         Ekiti State University   \n",
       "...                                          ...   \n",
       "5214                         University of Lagos   \n",
       "5215                         University of Lagos   \n",
       "5216       Others (For foreign trained students)   \n",
       "5217  The Polytechnic Ibadan, Ibadab, Oyo State.   \n",
       "5218                Usumanu Danfodiyo University   \n",
       "\n",
       "     What is your highest level of education?  \\\n",
       "0                           Bachelor's degree   \n",
       "1                           Bachelor's degree   \n",
       "2                           Bachelor's degree   \n",
       "3                             Master's degree   \n",
       "4                           Bachelor's degree   \n",
       "...                                       ...   \n",
       "5214                        Bachelor's degree   \n",
       "5215                        Bachelor's degree   \n",
       "5216                        Bachelor's degree   \n",
       "5217            Higher National Diploma (HND)   \n",
       "5218                        Bachelor's degree   \n",
       "\n",
       "     What best describes your current status?  \\\n",
       "0         Working full time (paid employment)   \n",
       "1         Working full time (paid employment)   \n",
       "2         Working full time (paid employment)   \n",
       "3        Self-employed/freelance/entrepreneur   \n",
       "4         Working full time (paid employment)   \n",
       "...                                       ...   \n",
       "5214                               Unemployed   \n",
       "5215                      Youth Corper (NYSC)   \n",
       "5216      Working full time (paid employment)   \n",
       "5217     Self-employed/freelance/entrepreneur   \n",
       "5218                               Unemployed   \n",
       "\n",
       "      How many jobs have you had since graduation including your current one?  \\\n",
       "0                                                     3                         \n",
       "1                                                     2                         \n",
       "2                                                     2                         \n",
       "3                                                     0                         \n",
       "4                                                     3                         \n",
       "...                                                 ...                         \n",
       "5214                                                  1                         \n",
       "5215                                                  0                         \n",
       "5216                                                  1                         \n",
       "5217                                                  2                         \n",
       "5218                                                  0                         \n",
       "\n",
       "     Have you completed your NYSC?  \\\n",
       "0                              NaN   \n",
       "1                              Yes   \n",
       "2                              Yes   \n",
       "3                              Yes   \n",
       "4                              Yes   \n",
       "...                            ...   \n",
       "5214                           Yes   \n",
       "5215                            No   \n",
       "5216                           Yes   \n",
       "5217                           Yes   \n",
       "5218                           Yes   \n",
       "\n",
       "      If you answered yes/ongoing to the previous question, what year did you (or will you) complete your NYSC?  \\\n",
       "0                                                   NaN                                                           \n",
       "1                                                2017.0                                                           \n",
       "2                                                   NaN                                                           \n",
       "3                                                   NaN                                                           \n",
       "4                                                2016.0                                                           \n",
       "...                                                 ...                                                           \n",
       "5214                                             2016.0                                                           \n",
       "5215                                                NaN                                                           \n",
       "5216                                             2015.0                                                           \n",
       "5217                                             2017.0                                                           \n",
       "5218                                             2018.0                                                           \n",
       "\n",
       "     Did you need your higher education qualification to get your first job (the actual qualification, not the subject of study)?  \\\n",
       "0                No: the qualification was not required                                                                             \n",
       "1       Yes: the qualification was a formal requirement                                                                             \n",
       "2       Yes: the qualification was a formal requirement                                                                             \n",
       "3                                                   NaN                                                                             \n",
       "4     Yes: while the qualification was not a formal ...                                                                             \n",
       "...                                                 ...                                                                             \n",
       "5214                                                NaN                                                                             \n",
       "5215                                                NaN                                                                             \n",
       "5216                                                NaN                                                                             \n",
       "5217    Yes: the qualification was a formal requirement                                                                             \n",
       "5218                                                NaN                                                                             \n",
       "\n",
       "     My course of study prepared me well for employment  \n",
       "0                                                    No  \n",
       "1                                     Strongly Disagree  \n",
       "2                                              Disagree  \n",
       "3                                                   NaN  \n",
       "4                                                 Agree  \n",
       "...                                                 ...  \n",
       "5214                                     Strongly Agree  \n",
       "5215                                                NaN  \n",
       "5216                                           Disagree  \n",
       "5217                                              Agree  \n",
       "5218                                                NaN  \n",
       "\n",
       "[5217 rows x 12 columns]"
      ]
     },
     "execution_count": 19,
     "metadata": {},
     "output_type": "execute_result"
    }
   ],
   "source": [
    "# new dataframe including relevant features\n",
    "new_data"
   ]
  },
  {
   "cell_type": "code",
   "execution_count": null,
   "id": "381e9183",
   "metadata": {
    "colab": {
     "base_uri": "https://localhost:8080/"
    },
    "id": "381e9183",
    "outputId": "0a366514-c16f-486c-9e4d-55c616f379b2",
    "scrolled": false
   },
   "outputs": [
    {
     "data": {
      "text/plain": [
       "Index(['Timestamp', 'What is your gender', 'Year of graduation',\n",
       "       'Title of course studied', 'Polytechnic/University attended',\n",
       "       'What is your highest level of education?',\n",
       "       'What best describes your current status?',\n",
       "       'How many jobs have you had since graduation including your current one?',\n",
       "       'Have you completed your NYSC?',\n",
       "       'If you answered yes/ongoing to the previous question, what year did you (or will you) complete your NYSC?',\n",
       "       'Did you need your higher education qualification to get your first job (the actual qualification, not the subject of study)?',\n",
       "       'My course of study prepared me well for employment'],\n",
       "      dtype='object')"
      ]
     },
     "execution_count": 20,
     "metadata": {},
     "output_type": "execute_result"
    }
   ],
   "source": [
    "# columns in the new dataframe\n",
    "new_data.columns"
   ]
  },
  {
   "cell_type": "code",
   "execution_count": null,
   "id": "a290f492",
   "metadata": {
    "colab": {
     "base_uri": "https://localhost:8080/",
     "height": 458
    },
    "id": "a290f492",
    "outputId": "5471891d-3b67-4782-9a40-2d1d372595aa",
    "scrolled": false
   },
   "outputs": [
    {
     "data": {
      "text/html": [
       "<div>\n",
       "<style scoped>\n",
       "    .dataframe tbody tr th:only-of-type {\n",
       "        vertical-align: middle;\n",
       "    }\n",
       "\n",
       "    .dataframe tbody tr th {\n",
       "        vertical-align: top;\n",
       "    }\n",
       "\n",
       "    .dataframe thead th {\n",
       "        text-align: right;\n",
       "    }\n",
       "</style>\n",
       "<table border=\"1\" class=\"dataframe\">\n",
       "  <thead>\n",
       "    <tr style=\"text-align: right;\">\n",
       "      <th></th>\n",
       "      <th>timestamp</th>\n",
       "      <th>Gender</th>\n",
       "      <th>YOG</th>\n",
       "      <th>Course Studied</th>\n",
       "      <th>Pol/Uni Attended</th>\n",
       "      <th>Highest Education</th>\n",
       "      <th>Employment Status</th>\n",
       "      <th>Jobs Had Post Graduation</th>\n",
       "      <th>Completed NYSC</th>\n",
       "      <th>Year Complete/Completed NYSC</th>\n",
       "      <th>Was Qualification Relevant to Your First Job</th>\n",
       "      <th>Course Studied Prepared me For Employment</th>\n",
       "    </tr>\n",
       "  </thead>\n",
       "  <tbody>\n",
       "    <tr>\n",
       "      <th>0</th>\n",
       "      <td>2/8/2018 9:05:23</td>\n",
       "      <td>Male</td>\n",
       "      <td>2013</td>\n",
       "      <td>Electrical &amp; Electronic Engineering</td>\n",
       "      <td>Obafemi Awolowo University,Ile-Ife</td>\n",
       "      <td>Bachelor's degree</td>\n",
       "      <td>Working full time (paid employment)</td>\n",
       "      <td>3</td>\n",
       "      <td>NaN</td>\n",
       "      <td>NaN</td>\n",
       "      <td>No: the qualification was not required</td>\n",
       "      <td>No</td>\n",
       "    </tr>\n",
       "    <tr>\n",
       "      <th>1</th>\n",
       "      <td>2/15/2018 12:11:32</td>\n",
       "      <td>Male</td>\n",
       "      <td>2014</td>\n",
       "      <td>Psychology</td>\n",
       "      <td>Obafemi Awolowo University,Ile-Ife</td>\n",
       "      <td>Bachelor's degree</td>\n",
       "      <td>Working full time (paid employment)</td>\n",
       "      <td>2</td>\n",
       "      <td>Yes</td>\n",
       "      <td>2017.0</td>\n",
       "      <td>Yes: the qualification was a formal requirement</td>\n",
       "      <td>Strongly Disagree</td>\n",
       "    </tr>\n",
       "    <tr>\n",
       "      <th>2</th>\n",
       "      <td>2/15/2018 13:47:10</td>\n",
       "      <td>Female</td>\n",
       "      <td>2013</td>\n",
       "      <td>Economics</td>\n",
       "      <td>Bells University of Technology, Otta</td>\n",
       "      <td>Bachelor's degree</td>\n",
       "      <td>Working full time (paid employment)</td>\n",
       "      <td>2</td>\n",
       "      <td>Yes</td>\n",
       "      <td>NaN</td>\n",
       "      <td>Yes: the qualification was a formal requirement</td>\n",
       "      <td>Disagree</td>\n",
       "    </tr>\n",
       "    <tr>\n",
       "      <th>3</th>\n",
       "      <td>2/16/2018 13:01:34</td>\n",
       "      <td>Male</td>\n",
       "      <td>2017</td>\n",
       "      <td>Mass Communication (Communication and Language...</td>\n",
       "      <td>Bowen University, Iwo</td>\n",
       "      <td>Master's degree</td>\n",
       "      <td>Self-employed/freelance/entrepreneur</td>\n",
       "      <td>0</td>\n",
       "      <td>Yes</td>\n",
       "      <td>NaN</td>\n",
       "      <td>NaN</td>\n",
       "      <td>NaN</td>\n",
       "    </tr>\n",
       "    <tr>\n",
       "      <th>4</th>\n",
       "      <td>2/16/2018 13:18:03</td>\n",
       "      <td>Female</td>\n",
       "      <td>2013</td>\n",
       "      <td>Statistics</td>\n",
       "      <td>Ekiti State University</td>\n",
       "      <td>Bachelor's degree</td>\n",
       "      <td>Working full time (paid employment)</td>\n",
       "      <td>3</td>\n",
       "      <td>Yes</td>\n",
       "      <td>2016.0</td>\n",
       "      <td>Yes: while the qualification was not a formal ...</td>\n",
       "      <td>Agree</td>\n",
       "    </tr>\n",
       "  </tbody>\n",
       "</table>\n",
       "</div>"
      ],
      "text/plain": [
       "            timestamp  Gender   YOG  \\\n",
       "0    2/8/2018 9:05:23    Male  2013   \n",
       "1  2/15/2018 12:11:32    Male  2014   \n",
       "2  2/15/2018 13:47:10  Female  2013   \n",
       "3  2/16/2018 13:01:34    Male  2017   \n",
       "4  2/16/2018 13:18:03  Female  2013   \n",
       "\n",
       "                                      Course Studied  \\\n",
       "0                Electrical & Electronic Engineering   \n",
       "1                                         Psychology   \n",
       "2                                          Economics   \n",
       "3  Mass Communication (Communication and Language...   \n",
       "4                                         Statistics   \n",
       "\n",
       "                       Pol/Uni Attended  Highest Education  \\\n",
       "0    Obafemi Awolowo University,Ile-Ife  Bachelor's degree   \n",
       "1    Obafemi Awolowo University,Ile-Ife  Bachelor's degree   \n",
       "2  Bells University of Technology, Otta  Bachelor's degree   \n",
       "3                 Bowen University, Iwo    Master's degree   \n",
       "4                Ekiti State University  Bachelor's degree   \n",
       "\n",
       "                      Employment Status  Jobs Had Post Graduation  \\\n",
       "0   Working full time (paid employment)                         3   \n",
       "1   Working full time (paid employment)                         2   \n",
       "2   Working full time (paid employment)                         2   \n",
       "3  Self-employed/freelance/entrepreneur                         0   \n",
       "4   Working full time (paid employment)                         3   \n",
       "\n",
       "  Completed NYSC  Year Complete/Completed NYSC  \\\n",
       "0            NaN                           NaN   \n",
       "1            Yes                        2017.0   \n",
       "2            Yes                           NaN   \n",
       "3            Yes                           NaN   \n",
       "4            Yes                        2016.0   \n",
       "\n",
       "        Was Qualification Relevant to Your First Job  \\\n",
       "0             No: the qualification was not required   \n",
       "1    Yes: the qualification was a formal requirement   \n",
       "2    Yes: the qualification was a formal requirement   \n",
       "3                                                NaN   \n",
       "4  Yes: while the qualification was not a formal ...   \n",
       "\n",
       "  Course Studied Prepared me For Employment  \n",
       "0                                        No  \n",
       "1                         Strongly Disagree  \n",
       "2                                  Disagree  \n",
       "3                                       NaN  \n",
       "4                                     Agree  "
      ]
     },
     "execution_count": 21,
     "metadata": {},
     "output_type": "execute_result"
    }
   ],
   "source": [
    "# Renaming these columns\n",
    "new_data.columns = [\"timestamp\",'Gender', 'YOG', 'Course Studied', 'Pol/Uni Attended', 'Highest Education', 'Employment Status', 'Jobs Had Post Graduation', 'Completed NYSC', 'Year Complete/Completed NYSC', 'Was Qualification Relevant to Your First Job', 'Course Studied Prepared me For Employment']\n",
    "new_data.head()"
   ]
  },
  {
   "cell_type": "code",
   "execution_count": null,
   "id": "7f48b01b",
   "metadata": {
    "colab": {
     "base_uri": "https://localhost:8080/",
     "height": 490
    },
    "id": "7f48b01b",
    "outputId": "33975e31-74f1-48e6-ef28-47c8fb92e5c7",
    "scrolled": false
   },
   "outputs": [
    {
     "data": {
      "text/html": [
       "<div>\n",
       "<style scoped>\n",
       "    .dataframe tbody tr th:only-of-type {\n",
       "        vertical-align: middle;\n",
       "    }\n",
       "\n",
       "    .dataframe tbody tr th {\n",
       "        vertical-align: top;\n",
       "    }\n",
       "\n",
       "    .dataframe thead th {\n",
       "        text-align: right;\n",
       "    }\n",
       "</style>\n",
       "<table border=\"1\" class=\"dataframe\">\n",
       "  <thead>\n",
       "    <tr style=\"text-align: right;\">\n",
       "      <th></th>\n",
       "      <th>timestamp</th>\n",
       "      <th>Gender</th>\n",
       "      <th>YOG</th>\n",
       "      <th>Course Studied</th>\n",
       "      <th>Pol/Uni Attended</th>\n",
       "      <th>Highest Education</th>\n",
       "      <th>Employment Status</th>\n",
       "      <th>Jobs Had Post Graduation</th>\n",
       "      <th>Completed NYSC</th>\n",
       "      <th>Year Complete/Completed NYSC</th>\n",
       "      <th>Was Qualification Relevant to Your First Job</th>\n",
       "      <th>Course Studied Prepared me For Employment</th>\n",
       "    </tr>\n",
       "  </thead>\n",
       "  <tbody>\n",
       "    <tr>\n",
       "      <th>count</th>\n",
       "      <td>5217</td>\n",
       "      <td>5217</td>\n",
       "      <td>5217.000000</td>\n",
       "      <td>5217</td>\n",
       "      <td>5217</td>\n",
       "      <td>5217</td>\n",
       "      <td>5217</td>\n",
       "      <td>5217.000000</td>\n",
       "      <td>5216</td>\n",
       "      <td>4276.000000</td>\n",
       "      <td>1655</td>\n",
       "      <td>3431</td>\n",
       "    </tr>\n",
       "    <tr>\n",
       "      <th>unique</th>\n",
       "      <td>5205</td>\n",
       "      <td>3</td>\n",
       "      <td>NaN</td>\n",
       "      <td>127</td>\n",
       "      <td>158</td>\n",
       "      <td>6</td>\n",
       "      <td>10</td>\n",
       "      <td>NaN</td>\n",
       "      <td>3</td>\n",
       "      <td>NaN</td>\n",
       "      <td>4</td>\n",
       "      <td>5</td>\n",
       "    </tr>\n",
       "    <tr>\n",
       "      <th>top</th>\n",
       "      <td>3/6/2018 12:51:51</td>\n",
       "      <td>Male</td>\n",
       "      <td>NaN</td>\n",
       "      <td>Computer Science</td>\n",
       "      <td>University of Lagos</td>\n",
       "      <td>Bachelor's degree</td>\n",
       "      <td>Working full time (paid employment)</td>\n",
       "      <td>NaN</td>\n",
       "      <td>Yes</td>\n",
       "      <td>NaN</td>\n",
       "      <td>Yes: the qualification was a formal requirement</td>\n",
       "      <td>Agree</td>\n",
       "    </tr>\n",
       "    <tr>\n",
       "      <th>freq</th>\n",
       "      <td>2</td>\n",
       "      <td>2623</td>\n",
       "      <td>NaN</td>\n",
       "      <td>459</td>\n",
       "      <td>527</td>\n",
       "      <td>4400</td>\n",
       "      <td>1370</td>\n",
       "      <td>NaN</td>\n",
       "      <td>3416</td>\n",
       "      <td>NaN</td>\n",
       "      <td>884</td>\n",
       "      <td>1574</td>\n",
       "    </tr>\n",
       "    <tr>\n",
       "      <th>mean</th>\n",
       "      <td>NaN</td>\n",
       "      <td>NaN</td>\n",
       "      <td>2015.329116</td>\n",
       "      <td>NaN</td>\n",
       "      <td>NaN</td>\n",
       "      <td>NaN</td>\n",
       "      <td>NaN</td>\n",
       "      <td>1.136669</td>\n",
       "      <td>NaN</td>\n",
       "      <td>2016.578812</td>\n",
       "      <td>NaN</td>\n",
       "      <td>NaN</td>\n",
       "    </tr>\n",
       "    <tr>\n",
       "      <th>std</th>\n",
       "      <td>NaN</td>\n",
       "      <td>NaN</td>\n",
       "      <td>1.305362</td>\n",
       "      <td>NaN</td>\n",
       "      <td>NaN</td>\n",
       "      <td>NaN</td>\n",
       "      <td>NaN</td>\n",
       "      <td>1.139566</td>\n",
       "      <td>NaN</td>\n",
       "      <td>1.355124</td>\n",
       "      <td>NaN</td>\n",
       "      <td>NaN</td>\n",
       "    </tr>\n",
       "    <tr>\n",
       "      <th>min</th>\n",
       "      <td>NaN</td>\n",
       "      <td>NaN</td>\n",
       "      <td>2013.000000</td>\n",
       "      <td>NaN</td>\n",
       "      <td>NaN</td>\n",
       "      <td>NaN</td>\n",
       "      <td>NaN</td>\n",
       "      <td>0.000000</td>\n",
       "      <td>NaN</td>\n",
       "      <td>2013.000000</td>\n",
       "      <td>NaN</td>\n",
       "      <td>NaN</td>\n",
       "    </tr>\n",
       "    <tr>\n",
       "      <th>25%</th>\n",
       "      <td>NaN</td>\n",
       "      <td>NaN</td>\n",
       "      <td>2014.000000</td>\n",
       "      <td>NaN</td>\n",
       "      <td>NaN</td>\n",
       "      <td>NaN</td>\n",
       "      <td>NaN</td>\n",
       "      <td>0.000000</td>\n",
       "      <td>NaN</td>\n",
       "      <td>2016.000000</td>\n",
       "      <td>NaN</td>\n",
       "      <td>NaN</td>\n",
       "    </tr>\n",
       "    <tr>\n",
       "      <th>50%</th>\n",
       "      <td>NaN</td>\n",
       "      <td>NaN</td>\n",
       "      <td>2015.000000</td>\n",
       "      <td>NaN</td>\n",
       "      <td>NaN</td>\n",
       "      <td>NaN</td>\n",
       "      <td>NaN</td>\n",
       "      <td>1.000000</td>\n",
       "      <td>NaN</td>\n",
       "      <td>2017.000000</td>\n",
       "      <td>NaN</td>\n",
       "      <td>NaN</td>\n",
       "    </tr>\n",
       "    <tr>\n",
       "      <th>75%</th>\n",
       "      <td>NaN</td>\n",
       "      <td>NaN</td>\n",
       "      <td>2016.000000</td>\n",
       "      <td>NaN</td>\n",
       "      <td>NaN</td>\n",
       "      <td>NaN</td>\n",
       "      <td>NaN</td>\n",
       "      <td>2.000000</td>\n",
       "      <td>NaN</td>\n",
       "      <td>2017.000000</td>\n",
       "      <td>NaN</td>\n",
       "      <td>NaN</td>\n",
       "    </tr>\n",
       "    <tr>\n",
       "      <th>max</th>\n",
       "      <td>NaN</td>\n",
       "      <td>NaN</td>\n",
       "      <td>2017.000000</td>\n",
       "      <td>NaN</td>\n",
       "      <td>NaN</td>\n",
       "      <td>NaN</td>\n",
       "      <td>NaN</td>\n",
       "      <td>10.000000</td>\n",
       "      <td>NaN</td>\n",
       "      <td>2019.000000</td>\n",
       "      <td>NaN</td>\n",
       "      <td>NaN</td>\n",
       "    </tr>\n",
       "  </tbody>\n",
       "</table>\n",
       "</div>"
      ],
      "text/plain": [
       "                timestamp Gender          YOG    Course Studied  \\\n",
       "count                5217   5217  5217.000000              5217   \n",
       "unique               5205      3          NaN               127   \n",
       "top     3/6/2018 12:51:51   Male          NaN  Computer Science   \n",
       "freq                    2   2623          NaN               459   \n",
       "mean                  NaN    NaN  2015.329116               NaN   \n",
       "std                   NaN    NaN     1.305362               NaN   \n",
       "min                   NaN    NaN  2013.000000               NaN   \n",
       "25%                   NaN    NaN  2014.000000               NaN   \n",
       "50%                   NaN    NaN  2015.000000               NaN   \n",
       "75%                   NaN    NaN  2016.000000               NaN   \n",
       "max                   NaN    NaN  2017.000000               NaN   \n",
       "\n",
       "           Pol/Uni Attended  Highest Education  \\\n",
       "count                  5217               5217   \n",
       "unique                  158                  6   \n",
       "top     University of Lagos  Bachelor's degree   \n",
       "freq                    527               4400   \n",
       "mean                    NaN                NaN   \n",
       "std                     NaN                NaN   \n",
       "min                     NaN                NaN   \n",
       "25%                     NaN                NaN   \n",
       "50%                     NaN                NaN   \n",
       "75%                     NaN                NaN   \n",
       "max                     NaN                NaN   \n",
       "\n",
       "                          Employment Status  Jobs Had Post Graduation  \\\n",
       "count                                  5217               5217.000000   \n",
       "unique                                   10                       NaN   \n",
       "top     Working full time (paid employment)                       NaN   \n",
       "freq                                   1370                       NaN   \n",
       "mean                                    NaN                  1.136669   \n",
       "std                                     NaN                  1.139566   \n",
       "min                                     NaN                  0.000000   \n",
       "25%                                     NaN                  0.000000   \n",
       "50%                                     NaN                  1.000000   \n",
       "75%                                     NaN                  2.000000   \n",
       "max                                     NaN                 10.000000   \n",
       "\n",
       "       Completed NYSC  Year Complete/Completed NYSC  \\\n",
       "count            5216                   4276.000000   \n",
       "unique              3                           NaN   \n",
       "top               Yes                           NaN   \n",
       "freq             3416                           NaN   \n",
       "mean              NaN                   2016.578812   \n",
       "std               NaN                      1.355124   \n",
       "min               NaN                   2013.000000   \n",
       "25%               NaN                   2016.000000   \n",
       "50%               NaN                   2017.000000   \n",
       "75%               NaN                   2017.000000   \n",
       "max               NaN                   2019.000000   \n",
       "\n",
       "           Was Qualification Relevant to Your First Job  \\\n",
       "count                                              1655   \n",
       "unique                                                4   \n",
       "top     Yes: the qualification was a formal requirement   \n",
       "freq                                                884   \n",
       "mean                                                NaN   \n",
       "std                                                 NaN   \n",
       "min                                                 NaN   \n",
       "25%                                                 NaN   \n",
       "50%                                                 NaN   \n",
       "75%                                                 NaN   \n",
       "max                                                 NaN   \n",
       "\n",
       "       Course Studied Prepared me For Employment  \n",
       "count                                       3431  \n",
       "unique                                         5  \n",
       "top                                        Agree  \n",
       "freq                                        1574  \n",
       "mean                                         NaN  \n",
       "std                                          NaN  \n",
       "min                                          NaN  \n",
       "25%                                          NaN  \n",
       "50%                                          NaN  \n",
       "75%                                          NaN  \n",
       "max                                          NaN  "
      ]
     },
     "execution_count": 22,
     "metadata": {},
     "output_type": "execute_result"
    }
   ],
   "source": [
    "# Statistics of the Dataframe\n",
    "new_data.describe(include = \"all\")"
   ]
  },
  {
   "cell_type": "code",
   "execution_count": null,
   "id": "d5a3ea34",
   "metadata": {
    "id": "d5a3ea34",
    "outputId": "9cee7db6-ca46-4bc9-aa80-dd823c2bda56"
   },
   "outputs": [
    {
     "name": "stdout",
     "output_type": "stream",
     "text": [
      "<class 'pandas.core.frame.DataFrame'>\n",
      "Int64Index: 5217 entries, 0 to 5218\n",
      "Data columns (total 12 columns):\n",
      " #   Column                                        Non-Null Count  Dtype  \n",
      "---  ------                                        --------------  -----  \n",
      " 0   timestamp                                     5217 non-null   object \n",
      " 1   Gender                                        5217 non-null   object \n",
      " 2   YOG                                           5217 non-null   int64  \n",
      " 3   Course Studied                                5217 non-null   object \n",
      " 4   Pol/Uni Attended                              5217 non-null   object \n",
      " 5   Highest Education                             5217 non-null   object \n",
      " 6   Employment Status                             5217 non-null   object \n",
      " 7   Jobs Had Post Graduation                      5217 non-null   int64  \n",
      " 8   Completed NYSC                                5216 non-null   object \n",
      " 9   Year Complete/Completed NYSC                  4276 non-null   float64\n",
      " 10  Was Qualification Relevant to Your First Job  1655 non-null   object \n",
      " 11  Course Studied Prepared me For Employment     3431 non-null   object \n",
      "dtypes: float64(1), int64(2), object(9)\n",
      "memory usage: 529.9+ KB\n"
     ]
    }
   ],
   "source": [
    "new_data.info()"
   ]
  },
  {
   "cell_type": "code",
   "execution_count": null,
   "id": "de1538c3",
   "metadata": {
    "colab": {
     "base_uri": "https://localhost:8080/"
    },
    "id": "de1538c3",
    "outputId": "d77b4302-7f7c-4f76-82b9-623dc0b98c32",
    "scrolled": true
   },
   "outputs": [
    {
     "data": {
      "text/plain": [
       "timestamp                                          0\n",
       "Gender                                             0\n",
       "YOG                                                0\n",
       "Course Studied                                     0\n",
       "Pol/Uni Attended                                   0\n",
       "Highest Education                                  0\n",
       "Employment Status                                  0\n",
       "Jobs Had Post Graduation                           0\n",
       "Completed NYSC                                     1\n",
       "Year Complete/Completed NYSC                     941\n",
       "Was Qualification Relevant to Your First Job    3562\n",
       "Course Studied Prepared me For Employment       1786\n",
       "dtype: int64"
      ]
     },
     "execution_count": 24,
     "metadata": {},
     "output_type": "execute_result"
    }
   ],
   "source": [
    "# checking for null values\n",
    "new_data.isnull().sum()"
   ]
  },
  {
   "cell_type": "code",
   "execution_count": null,
   "id": "20a3d6ae",
   "metadata": {
    "colab": {
     "base_uri": "https://localhost:8080/",
     "height": 426
    },
    "id": "20a3d6ae",
    "outputId": "b14fb1ca-6eca-43af-e14a-f87e2f64ec97",
    "scrolled": true
   },
   "outputs": [
    {
     "data": {
      "text/html": [
       "<div>\n",
       "<style scoped>\n",
       "    .dataframe tbody tr th:only-of-type {\n",
       "        vertical-align: middle;\n",
       "    }\n",
       "\n",
       "    .dataframe tbody tr th {\n",
       "        vertical-align: top;\n",
       "    }\n",
       "\n",
       "    .dataframe thead th {\n",
       "        text-align: right;\n",
       "    }\n",
       "</style>\n",
       "<table border=\"1\" class=\"dataframe\">\n",
       "  <thead>\n",
       "    <tr style=\"text-align: right;\">\n",
       "      <th></th>\n",
       "      <th>0</th>\n",
       "    </tr>\n",
       "  </thead>\n",
       "  <tbody>\n",
       "    <tr>\n",
       "      <th>timestamp</th>\n",
       "      <td>0.0</td>\n",
       "    </tr>\n",
       "    <tr>\n",
       "      <th>Gender</th>\n",
       "      <td>0.0</td>\n",
       "    </tr>\n",
       "    <tr>\n",
       "      <th>YOG</th>\n",
       "      <td>0.0</td>\n",
       "    </tr>\n",
       "    <tr>\n",
       "      <th>Course Studied</th>\n",
       "      <td>0.0</td>\n",
       "    </tr>\n",
       "    <tr>\n",
       "      <th>Pol/Uni Attended</th>\n",
       "      <td>0.0</td>\n",
       "    </tr>\n",
       "    <tr>\n",
       "      <th>Highest Education</th>\n",
       "      <td>0.0</td>\n",
       "    </tr>\n",
       "    <tr>\n",
       "      <th>Employment Status</th>\n",
       "      <td>0.0</td>\n",
       "    </tr>\n",
       "    <tr>\n",
       "      <th>Jobs Had Post Graduation</th>\n",
       "      <td>0.0</td>\n",
       "    </tr>\n",
       "    <tr>\n",
       "      <th>Completed NYSC</th>\n",
       "      <td>0.0</td>\n",
       "    </tr>\n",
       "    <tr>\n",
       "      <th>Year Complete/Completed NYSC</th>\n",
       "      <td>18.0</td>\n",
       "    </tr>\n",
       "    <tr>\n",
       "      <th>Was Qualification Relevant to Your First Job</th>\n",
       "      <td>68.3</td>\n",
       "    </tr>\n",
       "    <tr>\n",
       "      <th>Course Studied Prepared me For Employment</th>\n",
       "      <td>34.2</td>\n",
       "    </tr>\n",
       "  </tbody>\n",
       "</table>\n",
       "</div>"
      ],
      "text/plain": [
       "                                                 0\n",
       "timestamp                                      0.0\n",
       "Gender                                         0.0\n",
       "YOG                                            0.0\n",
       "Course Studied                                 0.0\n",
       "Pol/Uni Attended                               0.0\n",
       "Highest Education                              0.0\n",
       "Employment Status                              0.0\n",
       "Jobs Had Post Graduation                       0.0\n",
       "Completed NYSC                                 0.0\n",
       "Year Complete/Completed NYSC                  18.0\n",
       "Was Qualification Relevant to Your First Job  68.3\n",
       "Course Studied Prepared me For Employment     34.2"
      ]
     },
     "execution_count": 25,
     "metadata": {},
     "output_type": "execute_result"
    }
   ],
   "source": [
    "# cheching for percentage of missing values\n",
    "pd.DataFrame((new_data.isnull().sum().values/new_data.shape[0]* 100).round(1), index= new_data.isnull().sum().index)"
   ]
  },
  {
   "cell_type": "code",
   "execution_count": null,
   "id": "ec9e4f97",
   "metadata": {
    "colab": {
     "base_uri": "https://localhost:8080/",
     "height": 934
    },
    "id": "ec9e4f97",
    "outputId": "2f821132-4000-450e-833b-4ab582becdf2",
    "scrolled": true
   },
   "outputs": [
    {
     "data": {
      "image/png": "[encoded data removed]",
      "text/plain": [
       "<Figure size 1800x1200 with 2 Axes>"
      ]
     },
     "metadata": {},
     "output_type": "display_data"
    }
   ],
   "source": [
    "# plot showing missing data. The color indicates the presence of missing values\n",
    "py.figure(figsize= (18,12))\n",
    "\n",
    "py.title('Missing Data')\n",
    "sns.heatmap(new_data.isnull())\n",
    "py.show()"
   ]
  },
  {
   "cell_type": "markdown",
   "id": "949b6390",
   "metadata": {
    "id": "949b6390"
   },
   "source": [
    "> ## We need to drop columns where the missing data is more than 50% of the available data as seen in the column `Was Qualification Relevant to Your First Job` with `68%` null values\n",
    "\n"
   ]
  },
  {
   "cell_type": "code",
   "execution_count": null,
   "id": "01b826e2",
   "metadata": {
    "id": "01b826e2"
   },
   "outputs": [],
   "source": [
    "# Dropping column with 68% missing data\n",
    "new_data.drop('Was Qualification Relevant to Your First Job', axis = 1, inplace = True)"
   ]
  },
  {
   "cell_type": "code",
   "execution_count": null,
   "id": "b339cf74",
   "metadata": {
    "id": "b339cf74",
    "outputId": "0de63ea2-7613-4fd0-c252-5616c7351cc0"
   },
   "outputs": [
    {
     "data": {
      "text/plain": [
       "(5217, 11)"
      ]
     },
     "execution_count": 30,
     "metadata": {},
     "output_type": "execute_result"
    }
   ],
   "source": [
    "# new shape of columns\n",
    "new_data.shape"
   ]
  },
  {
   "cell_type": "markdown",
   "id": "02c674cf",
   "metadata": {
    "id": "02c674cf"
   },
   "source": [
    "# CONSIDERING EACH COLUMN INDIVIDUALLY;"
   ]
  },
  {
   "cell_type": "markdown",
   "id": "d6c93f9e",
   "metadata": {
    "id": "d6c93f9e"
   },
   "source": [
    "### 1. TIMESTAMP"
   ]
  },
  {
   "cell_type": "code",
   "execution_count": null,
   "id": "OdFpQL4q4UOv",
   "metadata": {
    "id": "OdFpQL4q4UOv"
   },
   "outputs": [],
   "source": [
    "#convert timestamp data to date-time format\n",
    "\n",
    "new_data[\"timestamp\"] = pd.to_datetime(new_data[\"timestamp\"])"
   ]
  },
  {
   "cell_type": "code",
   "execution_count": null,
   "id": "KXarpEkn4UiE",
   "metadata": {
    "id": "KXarpEkn4UiE"
   },
   "outputs": [],
   "source": [
    "#extract the \"year\" from \"timestamp\" to get the year the data was collected\n",
    "new_data[\"present year\"] = new_data[\"timestamp\"].dt.year.astype(int)"
   ]
  },
  {
   "cell_type": "code",
   "execution_count": null,
   "id": "GC9TR4Dk5JLX",
   "metadata": {
    "id": "GC9TR4Dk5JLX"
   },
   "outputs": [],
   "source": [
    "#drop \"timestamp\" column\n",
    "new_data = new_data.drop([\"timestamp\"], axis = 1)"
   ]
  },
  {
   "cell_type": "markdown",
   "id": "926dbd5c",
   "metadata": {
    "id": "926dbd5c"
   },
   "source": [
    "### 2. Gender Column"
   ]
  },
  {
   "cell_type": "code",
   "execution_count": null,
   "id": "aa419147",
   "metadata": {
    "colab": {
     "base_uri": "https://localhost:8080/"
    },
    "id": "aa419147",
    "outputId": "7375be94-e8a8-4f7b-db63-32f7ccdd6d58",
    "scrolled": true
   },
   "outputs": [
    {
     "data": {
      "text/plain": [
       "Male                 2623\n",
       "Female               2591\n",
       "Prefer not to say       3\n",
       "Name: Gender, dtype: int64"
      ]
     },
     "execution_count": 34,
     "metadata": {},
     "output_type": "execute_result"
    }
   ],
   "source": [
    "#to observe all the unique data and their frequency.\n",
    "new_data[\"Gender\"].value_counts()\n",
    "\n",
    "#output shows 3 wrong data on the \"gender\" column"
   ]
  },
  {
   "cell_type": "code",
   "execution_count": null,
   "id": "e87f9745",
   "metadata": {
    "id": "e87f9745"
   },
   "outputs": [],
   "source": [
    "# As we would be considering the two genders, we need to drop the wrong data\n",
    "\n",
    "new_data.drop(new_data[new_data[\"Gender\"]== 'Prefer not to say'].index, inplace = True)"
   ]
  },
  {
   "cell_type": "code",
   "execution_count": null,
   "id": "07a3a445",
   "metadata": {
    "id": "07a3a445",
    "outputId": "f91c7373-b306-4813-8fe6-84e6317007e3"
   },
   "outputs": [
    {
     "data": {
      "text/plain": [
       "Male      2623\n",
       "Female    2591\n",
       "Name: Gender, dtype: int64"
      ]
     },
     "execution_count": 36,
     "metadata": {},
     "output_type": "execute_result"
    }
   ],
   "source": [
    "# confirming gender\n",
    "\n",
    "new_data[\"Gender\"].value_counts()\n"
   ]
  },
  {
   "cell_type": "code",
   "execution_count": null,
   "id": "87110265",
   "metadata": {
    "colab": {
     "base_uri": "https://localhost:8080/"
    },
    "id": "87110265",
    "outputId": "a1366623-a505-4c90-d9e0-6486ecb92d3f",
    "scrolled": false
   },
   "outputs": [
    {
     "data": {
      "text/plain": [
       "0"
      ]
     },
     "execution_count": 37,
     "metadata": {},
     "output_type": "execute_result"
    }
   ],
   "source": [
    " #no missing values\n",
    "new_data[\"Gender\"].isna().sum()"
   ]
  },
  {
   "cell_type": "code",
   "execution_count": null,
   "id": "3cb492a7",
   "metadata": {
    "colab": {
     "base_uri": "https://localhost:8080/"
    },
    "id": "3cb492a7",
    "outputId": "372b9b84-57dc-44a9-d45c-379b9ad3117f",
    "scrolled": true
   },
   "outputs": [
    {
     "data": {
      "text/plain": [
       "(5214, 11)"
      ]
     },
     "execution_count": 38,
     "metadata": {},
     "output_type": "execute_result"
    }
   ],
   "source": [
    "new_data.shape"
   ]
  },
  {
   "cell_type": "markdown",
   "id": "facc42f7",
   "metadata": {
    "id": "facc42f7"
   },
   "source": [
    "### 3. **Year of Graduation**"
   ]
  },
  {
   "cell_type": "code",
   "execution_count": null,
   "id": "4efa31a4",
   "metadata": {
    "colab": {
     "base_uri": "https://localhost:8080/"
    },
    "id": "4efa31a4",
    "outputId": "884f0cc2-eeb2-41c5-9eda-9a98b57f67c9",
    "scrolled": false
   },
   "outputs": [
    {
     "data": {
      "text/plain": [
       "2015    1326\n",
       "2017    1257\n",
       "2016    1213\n",
       "2014     824\n",
       "2013     594\n",
       "Name: YOG, dtype: int64"
      ]
     },
     "execution_count": 39,
     "metadata": {},
     "output_type": "execute_result"
    }
   ],
   "source": [
    "#to observe all the unique data and their frequency.\n",
    "new_data[\"YOG\"].value_counts(dropna= False)\n",
    "\n",
    "#output shows theres no wrong data"
   ]
  },
  {
   "cell_type": "code",
   "execution_count": null,
   "id": "78ad7a28",
   "metadata": {
    "colab": {
     "base_uri": "https://localhost:8080/"
    },
    "id": "78ad7a28",
    "outputId": "c68e2fa8-e8d7-4eca-b956-c6a0b7c4dce1"
   },
   "outputs": [
    {
     "data": {
      "text/plain": [
       "0"
      ]
     },
     "execution_count": 40,
     "metadata": {},
     "output_type": "execute_result"
    }
   ],
   "source": [
    " #no missing value\n",
    "new_data[\"YOG\"].isna().sum()"
   ]
  },
  {
   "cell_type": "markdown",
   "id": "bdc3f33e",
   "metadata": {
    "id": "bdc3f33e"
   },
   "source": [
    "### 4. **Course Studied**"
   ]
  },
  {
   "cell_type": "code",
   "execution_count": null,
   "id": "42fe591d",
   "metadata": {
    "colab": {
     "base_uri": "https://localhost:8080/"
    },
    "id": "42fe591d",
    "outputId": "6e2fc2c3-e33a-47b8-ec71-c86e1b8b12dd"
   },
   "outputs": [
    {
     "data": {
      "text/plain": [
       "Computer Science                                        459\n",
       "Accountancy                                             373\n",
       "Economics                                               321\n",
       "Electrical & Electronic Engineering                     213\n",
       "Mass Communication (Communication and Language Arts)    204\n",
       "Business Administration                                 196\n",
       "Biochemistry                                            176\n",
       "Microbiology                                            170\n",
       "Mechanical Engineering                                  145\n",
       "English and Literary Studies                            122\n",
       "Law                                                     121\n",
       "History and International Studies                       114\n",
       "Political Science                                       110\n",
       "Chemical Engineering                                    102\n",
       "Banking and Finance                                      95\n",
       "Computer Engineering                                     85\n",
       "Civil Engineering                                        84\n",
       "Sociology/Anthropology                                   74\n",
       "Physics and Astronomy                                    69\n",
       "Mathematics                                              66\n",
       "Name: Course Studied, dtype: int64"
      ]
     },
     "execution_count": 41,
     "metadata": {},
     "output_type": "execute_result"
    }
   ],
   "source": [
    "# Frequency of course studied\n",
    "\n",
    "new_data[\"Course Studied\"].value_counts().head(20)"
   ]
  },
  {
   "cell_type": "markdown",
   "id": "4a6c6421",
   "metadata": {
    "id": "4a6c6421"
   },
   "source": [
    "### From the above, we can see this survey recieved more responses from specific courses studied."
   ]
  },
  {
   "cell_type": "code",
   "execution_count": null,
   "id": "03cd31c3",
   "metadata": {
    "colab": {
     "base_uri": "https://localhost:8080/"
    },
    "id": "03cd31c3",
    "outputId": "7b980b59-a757-4ea1-b050-7e04dd598073"
   },
   "outputs": [
    {
     "data": {
      "text/plain": [
       "0"
      ]
     },
     "execution_count": 42,
     "metadata": {},
     "output_type": "execute_result"
    }
   ],
   "source": [
    "#no missing value\n",
    "\n",
    "new_data[\"Course Studied\"].isna().sum()"
   ]
  },
  {
   "cell_type": "markdown",
   "id": "e231f03b",
   "metadata": {
    "id": "e231f03b"
   },
   "source": [
    "### 5. **Polytechnic/University attended**"
   ]
  },
  {
   "cell_type": "code",
   "execution_count": null,
   "id": "7ede8356",
   "metadata": {
    "id": "7ede8356",
    "outputId": "15289ade-871b-43af-e262-0b0ea6583794"
   },
   "outputs": [
    {
     "data": {
      "text/plain": [
       "0"
      ]
     },
     "execution_count": 43,
     "metadata": {},
     "output_type": "execute_result"
    }
   ],
   "source": [
    "#no missing value\n",
    "\n",
    "new_data[\"Pol/Uni Attended\"].isna().sum()"
   ]
  },
  {
   "cell_type": "code",
   "execution_count": null,
   "id": "9a0e0050",
   "metadata": {
    "colab": {
     "base_uri": "https://localhost:8080/"
    },
    "id": "9a0e0050",
    "outputId": "682dc52a-31aa-4992-ab91-b38931788817",
    "scrolled": true
   },
   "outputs": [
    {
     "data": {
      "text/plain": [
       "array(['Obafemi Awolowo University,Ile-Ife',\n",
       "       'Bells University of Technology, Otta', 'Bowen University, Iwo',\n",
       "       'Ekiti State University', 'University of Benin',\n",
       "       'Covenant University Ota', 'University of Lagos',\n",
       "       'University of Ibadan', 'University of Port-Harcourt',\n",
       "       'Babcock University,Ilishan-Remo',\n",
       "       'Yaba College of Technology, Yaba, Lagos State.',\n",
       "       'University of Abuja, Gwagwalada',\n",
       "       'Federal University of Technology, Akure',\n",
       "       'Kwara State Polytechnic, Ilorin, Kwara State.',\n",
       "       'Crawford University Igbesa',\n",
       "       'Federal University of Technology, Minna.',\n",
       "       'Lagos State University Ojo, Lagos.',\n",
       "       'Heritage Polytechnic, Ikot Udota, Eket, Akwa Ibom State',\n",
       "       'Federal University, Oye-Ekiti, Ekiti State',\n",
       "       'University of Nigeria, Nsukka',\n",
       "       'Rivers State University of Science & Technology',\n",
       "       'Ambrose Alli University, Ekpoma,',\n",
       "       'Ladoke Akintola University of Technology, Ogbomoso',\n",
       "       'Federal University of Technology, Owerri',\n",
       "       'Caleb University, Lagos', 'Adekunle Ajasin University, Akungba.',\n",
       "       'University of Ilorin',\n",
       "       'Federal Polytechnic Kaura Namoda, Zamfara State.',\n",
       "       'Madonna University, Okija',\n",
       "       'Modibbo Adama University of Technology, Yola',\n",
       "       'University of Maiduguri',\n",
       "       'National Open University of Nigeria, Lagos.',\n",
       "       'Abia State University, Uturu.', 'University of Uyo',\n",
       "       'Olabisi Onabanjo University Ago-Iwoye',\n",
       "       'Anambra State University of Science & Technology, Uli',\n",
       "       'Federal Polytechnic Ado Ekiti, Ekiti State.',\n",
       "       'Delta State University Abraka',\n",
       "       'Federal Polytechnic Nekede, Owerri, Imo State.',\n",
       "       \"Redeemer's University, Mowe\", 'Osun State University, Oshogbo',\n",
       "       'Imo State University, Owerri',\n",
       "       'Benue State Polytechnic, Ugbokolo, Benue State.',\n",
       "       'Tai Solarin Univ. of Education, Ijebu-Ode',\n",
       "       'University of Agriculture, Abeokuta.',\n",
       "       'Lagos State Polytechnic, Ikorodu, Ikeja, Lagos, Lagos State.',\n",
       "       'Plateau State Polytechnic, Barkin-Ladi, Jos, Plateau State.',\n",
       "       'University of Calabar',\n",
       "       'The Polytechnic Ibadan, Ibadab, Oyo State.',\n",
       "       'Ebonyi State University, Abakaliki',\n",
       "       'Bingham University, New Karu', 'Nnamdi Azikiwe University, Awka',\n",
       "       'Nigerian-Turkish Nile University, Abuja',\n",
       "       'Institute of Management and Technology, Enugu, Enugu State.',\n",
       "       'Landmark University,Omu-Aran.',\n",
       "       'Akwa Ibom State Polytechnic, Ikot Osurua, Ikot -Ekpene, Akwa Ibom State.',\n",
       "       'Bayero University,Kano',\n",
       "       'Moshood Abiola Polytechnic, Abeokuta, Ogun State.',\n",
       "       'University of Agriculture, Makurdi.',\n",
       "       'Benue State University, Makurdi.',\n",
       "       'Michael Okpara Uni. of Agric., Umudike',\n",
       "       'Kogi State University Anyigba', 'Kaduna State University, Kaduna',\n",
       "       'D.S. Adegbenro ICT Polytechnic, Itori-Ewekoro, Ifo, Ogun State.',\n",
       "       'Federal Polytechnic Offa, Kwara State.', 'University of Jos',\n",
       "       'Crescent University,', 'Wesley Univ. of Science & Tech.,Ondo',\n",
       "       'Others (For foreign trained students)',\n",
       "       'Ahmadu Bello University, Zaria', 'Caritas University, Enugu',\n",
       "       'Veritas University', 'Oduduwa University, Ipetumodu - Osun State',\n",
       "       'Al-Hikmah University, Ilorin', 'Kwara State University, Ilorin',\n",
       "       'Igbinedion University Okada',\n",
       "       'Abubakar Tafawa Balewa University, Bauchi',\n",
       "       'Fountain Unveristy,Oshogbo',\n",
       "       'Ignatius Ajuru University of Education,Rumuolumeni.',\n",
       "       'Akwa Ibom State University of Technology, Uyo',\n",
       "       'Enugu State University of Science and Technology, Enugu',\n",
       "       'Federal University, Lafia, Nasarawa State',\n",
       "       'Lead City University, Ibadan', 'Usumanu Danfodiyo University',\n",
       "       'Joseph Ayo Babalola University, Ikeji-Arakeji',\n",
       "       'Rufus Giwa Polytechnic, Owo, Owo Ondo State.',\n",
       "       'Auchi Polytechnic, Auchi, Edo State.',\n",
       "       'Afe Babalola University, Ado-Ekiti - Ekiti State',\n",
       "       'Abdu Gusau Polytechnic, Talata Mafara, Zamfara State.',\n",
       "       'Federal University, Lokoja, Kogi State',\n",
       "       'Federal Polytechnic Ilaro, Ogun State.',\n",
       "       'Ogun State Institute of Technology, Igbesa Oba Adesola Market Road, Igbesa, Ogun State.',\n",
       "       'Ajayi Crowther University, Ibadan',\n",
       "       'American University of Nigeria, Yola',\n",
       "       'Delta State Polytechnic, Ogwashi-Uku, Delta State.',\n",
       "       'Osun State College of Technology, Esa – Oke, Osun State.',\n",
       "       'Niger Delta Unversity, Yenagoa',\n",
       "       'Cross River State University of Science &Technology, Calabar',\n",
       "       'The Polytechnic, Ile Ife, O.A.U. Ile-Ife, Osun State.',\n",
       "       'Wellspring University, Evbuobanosa - Edo State',\n",
       "       'Kano University of Science & Technology, Wudil',\n",
       "       'Allover Central Polytechnic, Sango Ota, Plot 3A & B Abiodun Popoola Street, Sango Ota, Ogun State.',\n",
       "       'Nasarawa State University, Keffi',\n",
       "       'Pan-African University, Lagos',\n",
       "       'Federal Polytechnic Ede, Osun State.',\n",
       "       'Benson Idahosa University,Benin City',\n",
       "       'Gregory University, Uturu',\n",
       "       'Grace Polytechnic, Surulere, Lagos State.',\n",
       "       'Petroleum Training Institute Effurun, Delta State.',\n",
       "       'Gateway Polytechnic, Saapade Prof. Wole Soyinka Way, Saapade Estate, Isara Ode-Remo, Ogun State.',\n",
       "       'Imo State Polytechnic, Umuagwo, Ohaji, P.M.B. 1472, Umuagwo, Ohaji Owerri, Imo State',\n",
       "       'Federal Polytechnic Bida, Niger State.',\n",
       "       'Federal University of Petroleum Resources, Effurun',\n",
       "       'Umaru Ali Shinkafi Polytechnic, Sokoto, Sokoto State.',\n",
       "       'Others (For other Nigerian institutions not listed)',\n",
       "       'Abubakar Tatari Ali Polytechnic, Jos Rd, Bauchi, Bauchi State.',\n",
       "       'Adeleke University,Ede.', 'Adamawa State University Mubi',\n",
       "       'Kogi State Polytechnic, Lokoja, Kogi State.',\n",
       "       'Achievers University, Owo',\n",
       "       'Delta State Polytechnic, Ozoro, Delta State.',\n",
       "       'Federal Polytechnic Oko, Anambra State.',\n",
       "       'Federal Polytechnic Idah, Kogi State.',\n",
       "       'Delta State Polytechnic, Otefe-Oghara, Delta State',\n",
       "       'Ibrahim Badamasi Babangida University, Lapai',\n",
       "       'Federal University, Wukari, Taraba State',\n",
       "       'Salem University,Lokoja',\n",
       "       'Osun State Polytechnic, Iree, Osun State.',\n",
       "       'Tansian University,Umunya',\n",
       "       'Abia State Polytechnic, Aba, Abia State.',\n",
       "       'Niger State Polytechnic, Zungeru, Niger State.',\n",
       "       'Jigawa State Polytechnic, Dutse, Block 40-42, Old Secretariat, Dutse, Jigawa State.',\n",
       "       'Gombe State Univeristy, Gombe',\n",
       "       'Lagos City Polytechnic, Ikeja, Lagos State.',\n",
       "       'Akanu Ibiam Federal Polytechnic Unwana, Afikpo, Ebonyi State.',\n",
       "       'Federal Polytechnic Nasarawa, Nasarawa State.',\n",
       "       'Federal University, Otuoke, Bayelsa',\n",
       "       \"Umaru Musa Yar'Adua University, Katsina\",\n",
       "       'Novena University, Ogume',\n",
       "       'Federal Polytechnic Mubi, Adamawa State.',\n",
       "       'Kebbi State University, Kebbi',\n",
       "       'Federal Polytechnic Ile-Oluji, Ondo State',\n",
       "       'Abraham Adesanya Polytechnic, Dogbolu/Akanran Ibadan Road, Atikori, Ijebu Igbo, Ogun State.',\n",
       "       'Airforce Institute of Technology (AFIT), NAF Base Kaduna',\n",
       "       'Federal University, Kashere, Gombe State',\n",
       "       'Nuhu Bamalli Polytechnic, Zaria, Kaduna State.',\n",
       "       'Ondo State University of Science & Technology, Okitipupa',\n",
       "       'Our Saviour Institute of Science, Agriculture & Technology, Enugu, Enugu State.',\n",
       "       'Taraba State University, Jalingo', 'Renaissance University,Enugu',\n",
       "       'Dorben Polytechnic, Abuja, Garki, Bwari, Abuja.',\n",
       "       'Ronik Polytechnic, Ejigbo, Ikeja, Lagos, Lagos State.',\n",
       "       'Bolmor Polytechnic, Dugbe, Ibadan, Oyo State.',\n",
       "       'Ibadan City Polytechnic, Alakia-Isebo/Iyana Church Road, Ibadan, Oyo State.',\n",
       "       'Sokoto State University, Sokoto', 'Kaduna Polytechnic, Kaduna.',\n",
       "       'Delta State Polytechnic, Ozoro',\n",
       "       'Nasarawa State Polytechnic, Lafia, Nasarawa State.'], dtype=object)"
      ]
     },
     "execution_count": 44,
     "metadata": {},
     "output_type": "execute_result"
    }
   ],
   "source": [
    "# Tertiary Institutions Attended\n",
    "\n",
    "new_data[\"Pol/Uni Attended\"].unique()"
   ]
  },
  {
   "cell_type": "code",
   "execution_count": null,
   "id": "00a16e88",
   "metadata": {
    "colab": {
     "base_uri": "https://localhost:8080/",
     "height": 545
    },
    "id": "00a16e88",
    "outputId": "080bd168-7ab2-469a-b573-39af0c8fcb81",
    "scrolled": true
   },
   "outputs": [
    {
     "data": {
      "text/html": [
       "<div>\n",
       "<style scoped>\n",
       "    .dataframe tbody tr th:only-of-type {\n",
       "        vertical-align: middle;\n",
       "    }\n",
       "\n",
       "    .dataframe tbody tr th {\n",
       "        vertical-align: top;\n",
       "    }\n",
       "\n",
       "    .dataframe thead th {\n",
       "        text-align: right;\n",
       "    }\n",
       "</style>\n",
       "<table border=\"1\" class=\"dataframe\">\n",
       "  <thead>\n",
       "    <tr style=\"text-align: right;\">\n",
       "      <th></th>\n",
       "      <th>Gender</th>\n",
       "      <th>YOG</th>\n",
       "      <th>Course Studied</th>\n",
       "      <th>Pol/Uni Attended</th>\n",
       "      <th>Highest Education</th>\n",
       "      <th>Employment Status</th>\n",
       "      <th>Jobs Had Post Graduation</th>\n",
       "      <th>Completed NYSC</th>\n",
       "      <th>Year Complete/Completed NYSC</th>\n",
       "      <th>Course Studied Prepared me For Employment</th>\n",
       "      <th>present year</th>\n",
       "      <th>InstitutionType</th>\n",
       "    </tr>\n",
       "  </thead>\n",
       "  <tbody>\n",
       "    <tr>\n",
       "      <th>0</th>\n",
       "      <td>Male</td>\n",
       "      <td>2013</td>\n",
       "      <td>Electrical &amp; Electronic Engineering</td>\n",
       "      <td>Obafemi Awolowo University,Ile-Ife</td>\n",
       "      <td>Bachelor's degree</td>\n",
       "      <td>Working full time (paid employment)</td>\n",
       "      <td>3</td>\n",
       "      <td>NaN</td>\n",
       "      <td>NaN</td>\n",
       "      <td>No</td>\n",
       "      <td>2018</td>\n",
       "      <td>University</td>\n",
       "    </tr>\n",
       "    <tr>\n",
       "      <th>1</th>\n",
       "      <td>Male</td>\n",
       "      <td>2014</td>\n",
       "      <td>Psychology</td>\n",
       "      <td>Obafemi Awolowo University,Ile-Ife</td>\n",
       "      <td>Bachelor's degree</td>\n",
       "      <td>Working full time (paid employment)</td>\n",
       "      <td>2</td>\n",
       "      <td>Yes</td>\n",
       "      <td>2017.0</td>\n",
       "      <td>Strongly Disagree</td>\n",
       "      <td>2018</td>\n",
       "      <td>University</td>\n",
       "    </tr>\n",
       "    <tr>\n",
       "      <th>2</th>\n",
       "      <td>Female</td>\n",
       "      <td>2013</td>\n",
       "      <td>Economics</td>\n",
       "      <td>Bells University of Technology, Otta</td>\n",
       "      <td>Bachelor's degree</td>\n",
       "      <td>Working full time (paid employment)</td>\n",
       "      <td>2</td>\n",
       "      <td>Yes</td>\n",
       "      <td>NaN</td>\n",
       "      <td>Disagree</td>\n",
       "      <td>2018</td>\n",
       "      <td>University</td>\n",
       "    </tr>\n",
       "    <tr>\n",
       "      <th>3</th>\n",
       "      <td>Male</td>\n",
       "      <td>2017</td>\n",
       "      <td>Mass Communication (Communication and Language...</td>\n",
       "      <td>Bowen University, Iwo</td>\n",
       "      <td>Master's degree</td>\n",
       "      <td>Self-employed/freelance/entrepreneur</td>\n",
       "      <td>0</td>\n",
       "      <td>Yes</td>\n",
       "      <td>NaN</td>\n",
       "      <td>NaN</td>\n",
       "      <td>2018</td>\n",
       "      <td>University</td>\n",
       "    </tr>\n",
       "    <tr>\n",
       "      <th>4</th>\n",
       "      <td>Female</td>\n",
       "      <td>2013</td>\n",
       "      <td>Statistics</td>\n",
       "      <td>Ekiti State University</td>\n",
       "      <td>Bachelor's degree</td>\n",
       "      <td>Working full time (paid employment)</td>\n",
       "      <td>3</td>\n",
       "      <td>Yes</td>\n",
       "      <td>2016.0</td>\n",
       "      <td>Agree</td>\n",
       "      <td>2018</td>\n",
       "      <td>University</td>\n",
       "    </tr>\n",
       "  </tbody>\n",
       "</table>\n",
       "</div>"
      ],
      "text/plain": [
       "   Gender   YOG                                     Course Studied  \\\n",
       "0    Male  2013                Electrical & Electronic Engineering   \n",
       "1    Male  2014                                         Psychology   \n",
       "2  Female  2013                                          Economics   \n",
       "3    Male  2017  Mass Communication (Communication and Language...   \n",
       "4  Female  2013                                         Statistics   \n",
       "\n",
       "                       Pol/Uni Attended  Highest Education  \\\n",
       "0    Obafemi Awolowo University,Ile-Ife  Bachelor's degree   \n",
       "1    Obafemi Awolowo University,Ile-Ife  Bachelor's degree   \n",
       "2  Bells University of Technology, Otta  Bachelor's degree   \n",
       "3                 Bowen University, Iwo    Master's degree   \n",
       "4                Ekiti State University  Bachelor's degree   \n",
       "\n",
       "                      Employment Status  Jobs Had Post Graduation  \\\n",
       "0   Working full time (paid employment)                         3   \n",
       "1   Working full time (paid employment)                         2   \n",
       "2   Working full time (paid employment)                         2   \n",
       "3  Self-employed/freelance/entrepreneur                         0   \n",
       "4   Working full time (paid employment)                         3   \n",
       "\n",
       "  Completed NYSC  Year Complete/Completed NYSC  \\\n",
       "0            NaN                           NaN   \n",
       "1            Yes                        2017.0   \n",
       "2            Yes                           NaN   \n",
       "3            Yes                           NaN   \n",
       "4            Yes                        2016.0   \n",
       "\n",
       "  Course Studied Prepared me For Employment  present year InstitutionType  \n",
       "0                                        No          2018      University  \n",
       "1                         Strongly Disagree          2018      University  \n",
       "2                                  Disagree          2018      University  \n",
       "3                                       NaN          2018      University  \n",
       "4                                     Agree          2018      University  "
      ]
     },
     "execution_count": 45,
     "metadata": {},
     "output_type": "execute_result"
    }
   ],
   "source": [
    "# Creating a new column classifying schools into University and Polytechnic\n",
    "\n",
    "new_data['InstitutionType'] = np.where(new_data['Pol/Uni Attended'].str.contains('University'), 'University', 'Polytechnic')\n",
    "new_data.head()"
   ]
  },
  {
   "cell_type": "code",
   "execution_count": null,
   "id": "466728a0",
   "metadata": {
    "id": "466728a0",
    "outputId": "259f704a-4f31-439e-f9cf-a0f5e9baddb5"
   },
   "outputs": [
    {
     "data": {
      "text/html": [
       "<div>\n",
       "<style scoped>\n",
       "    .dataframe tbody tr th:only-of-type {\n",
       "        vertical-align: middle;\n",
       "    }\n",
       "\n",
       "    .dataframe tbody tr th {\n",
       "        vertical-align: top;\n",
       "    }\n",
       "\n",
       "    .dataframe thead th {\n",
       "        text-align: right;\n",
       "    }\n",
       "</style>\n",
       "<table border=\"1\" class=\"dataframe\">\n",
       "  <thead>\n",
       "    <tr style=\"text-align: right;\">\n",
       "      <th></th>\n",
       "      <th>Pol/Uni Attended</th>\n",
       "    </tr>\n",
       "  </thead>\n",
       "  <tbody>\n",
       "    <tr>\n",
       "      <th>University of Lagos</th>\n",
       "      <td>526</td>\n",
       "    </tr>\n",
       "    <tr>\n",
       "      <th>Covenant University Ota</th>\n",
       "      <td>432</td>\n",
       "    </tr>\n",
       "    <tr>\n",
       "      <th>Obafemi Awolowo University,Ile-Ife</th>\n",
       "      <td>326</td>\n",
       "    </tr>\n",
       "    <tr>\n",
       "      <th>Babcock University,Ilishan-Remo</th>\n",
       "      <td>213</td>\n",
       "    </tr>\n",
       "    <tr>\n",
       "      <th>University of Nigeria, Nsukka</th>\n",
       "      <td>208</td>\n",
       "    </tr>\n",
       "    <tr>\n",
       "      <th>University of Ibadan</th>\n",
       "      <td>206</td>\n",
       "    </tr>\n",
       "    <tr>\n",
       "      <th>University of Benin</th>\n",
       "      <td>200</td>\n",
       "    </tr>\n",
       "    <tr>\n",
       "      <th>University of Ilorin</th>\n",
       "      <td>187</td>\n",
       "    </tr>\n",
       "    <tr>\n",
       "      <th>Others (For foreign trained students)</th>\n",
       "      <td>136</td>\n",
       "    </tr>\n",
       "    <tr>\n",
       "      <th>University of Agriculture, Abeokuta.</th>\n",
       "      <td>115</td>\n",
       "    </tr>\n",
       "    <tr>\n",
       "      <th>University of Port-Harcourt</th>\n",
       "      <td>114</td>\n",
       "    </tr>\n",
       "    <tr>\n",
       "      <th>Federal University of Technology, Akure</th>\n",
       "      <td>113</td>\n",
       "    </tr>\n",
       "    <tr>\n",
       "      <th>Ladoke Akintola University of Technology, Ogbomoso</th>\n",
       "      <td>113</td>\n",
       "    </tr>\n",
       "    <tr>\n",
       "      <th>Ekiti State University</th>\n",
       "      <td>105</td>\n",
       "    </tr>\n",
       "    <tr>\n",
       "      <th>Lagos State University Ojo, Lagos.</th>\n",
       "      <td>98</td>\n",
       "    </tr>\n",
       "    <tr>\n",
       "      <th>Bowen University, Iwo</th>\n",
       "      <td>96</td>\n",
       "    </tr>\n",
       "    <tr>\n",
       "      <th>Federal University of Technology, Owerri</th>\n",
       "      <td>86</td>\n",
       "    </tr>\n",
       "    <tr>\n",
       "      <th>Olabisi Onabanjo University Ago-Iwoye</th>\n",
       "      <td>82</td>\n",
       "    </tr>\n",
       "    <tr>\n",
       "      <th>Federal University of Technology, Minna.</th>\n",
       "      <td>71</td>\n",
       "    </tr>\n",
       "    <tr>\n",
       "      <th>Ahmadu Bello University, Zaria</th>\n",
       "      <td>70</td>\n",
       "    </tr>\n",
       "    <tr>\n",
       "      <th>Nnamdi Azikiwe University, Awka</th>\n",
       "      <td>64</td>\n",
       "    </tr>\n",
       "    <tr>\n",
       "      <th>Auchi Polytechnic, Auchi, Edo State.</th>\n",
       "      <td>61</td>\n",
       "    </tr>\n",
       "    <tr>\n",
       "      <th>Adekunle Ajasin University, Akungba.</th>\n",
       "      <td>60</td>\n",
       "    </tr>\n",
       "    <tr>\n",
       "      <th>Yaba College of Technology, Yaba, Lagos State.</th>\n",
       "      <td>55</td>\n",
       "    </tr>\n",
       "    <tr>\n",
       "      <th>Federal Polytechnic Nekede, Owerri, Imo State.</th>\n",
       "      <td>51</td>\n",
       "    </tr>\n",
       "    <tr>\n",
       "      <th>Lagos State Polytechnic, Ikorodu, Ikeja, Lagos, Lagos State.</th>\n",
       "      <td>50</td>\n",
       "    </tr>\n",
       "    <tr>\n",
       "      <th>Imo State University, Owerri</th>\n",
       "      <td>47</td>\n",
       "    </tr>\n",
       "    <tr>\n",
       "      <th>Delta State University Abraka</th>\n",
       "      <td>43</td>\n",
       "    </tr>\n",
       "    <tr>\n",
       "      <th>Redeemer's University, Mowe</th>\n",
       "      <td>42</td>\n",
       "    </tr>\n",
       "    <tr>\n",
       "      <th>Madonna University, Okija</th>\n",
       "      <td>38</td>\n",
       "    </tr>\n",
       "  </tbody>\n",
       "</table>\n",
       "</div>"
      ],
      "text/plain": [
       "                                                    Pol/Uni Attended\n",
       "University of Lagos                                              526\n",
       "Covenant University Ota                                          432\n",
       "Obafemi Awolowo University,Ile-Ife                               326\n",
       "Babcock University,Ilishan-Remo                                  213\n",
       "University of Nigeria, Nsukka                                    208\n",
       "University of Ibadan                                             206\n",
       "University of Benin                                              200\n",
       "University of Ilorin                                             187\n",
       "Others (For foreign trained students)                            136\n",
       "University of Agriculture, Abeokuta.                             115\n",
       "University of Port-Harcourt                                      114\n",
       "Federal University of Technology, Akure                          113\n",
       "Ladoke Akintola University of Technology, Ogbomoso               113\n",
       "Ekiti State University                                           105\n",
       "Lagos State University Ojo, Lagos.                                98\n",
       "Bowen University, Iwo                                             96\n",
       "Federal University of Technology, Owerri                          86\n",
       "Olabisi Onabanjo University Ago-Iwoye                             82\n",
       "Federal University of Technology, Minna.                          71\n",
       "Ahmadu Bello University, Zaria                                    70\n",
       "Nnamdi Azikiwe University, Awka                                   64\n",
       "Auchi Polytechnic, Auchi, Edo State.                              61\n",
       "Adekunle Ajasin University, Akungba.                              60\n",
       "Yaba College of Technology, Yaba, Lagos State.                    55\n",
       "Federal Polytechnic Nekede, Owerri, Imo State.                    51\n",
       "Lagos State Polytechnic, Ikorodu, Ikeja, Lagos,...                50\n",
       "Imo State University, Owerri                                      47\n",
       "Delta State University Abraka                                     43\n",
       "Redeemer's University, Mowe                                       42\n",
       "Madonna University, Okija                                         38"
      ]
     },
     "execution_count": 46,
     "metadata": {},
     "output_type": "execute_result"
    }
   ],
   "source": [
    "# Universities and the numbe rof responses obtained\n",
    "\n",
    "pd.DataFrame(new_data[\"Pol/Uni Attended\"].value_counts(dropna = False)).head(30)"
   ]
  },
  {
   "cell_type": "code",
   "execution_count": null,
   "id": "k3UBDq4OqKZX",
   "metadata": {
    "colab": {
     "base_uri": "https://localhost:8080/"
    },
    "id": "k3UBDq4OqKZX",
    "outputId": "11878b0b-5aa8-43dc-ef7e-48f34913d47e",
    "scrolled": false
   },
   "outputs": [
    {
     "data": {
      "text/plain": [
       "University     4475\n",
       "Polytechnic     739\n",
       "Name: InstitutionType, dtype: int64"
      ]
     },
     "execution_count": 47,
     "metadata": {},
     "output_type": "execute_result"
    }
   ],
   "source": [
    "#observe the unique data in our new column (institution type) and the frequency\n",
    "\n",
    "new_data[\"InstitutionType\"].value_counts()"
   ]
  },
  {
   "cell_type": "code",
   "execution_count": null,
   "id": "cfe87b01",
   "metadata": {
    "id": "cfe87b01",
    "outputId": "7140990f-7225-4b69-ed77-c9544a71ce61",
    "scrolled": true
   },
   "outputs": [
    {
     "data": {
      "text/plain": [
       "array(['Obafemi Awolowo University,Ile-Ife',\n",
       "       'Bells University of Technology, Otta', 'Bowen University, Iwo',\n",
       "       'Ekiti State University', 'University of Benin',\n",
       "       'Covenant University Ota', 'University of Lagos',\n",
       "       'University of Ibadan', 'University of Port-Harcourt',\n",
       "       'Babcock University,Ilishan-Remo',\n",
       "       'Yaba College of Technology, Yaba, Lagos State.',\n",
       "       'University of Abuja, Gwagwalada',\n",
       "       'Federal University of Technology, Akure',\n",
       "       'Kwara State Polytechnic, Ilorin, Kwara State.',\n",
       "       'Crawford University Igbesa',\n",
       "       'Federal University of Technology, Minna.',\n",
       "       'Lagos State University Ojo, Lagos.',\n",
       "       'Heritage Polytechnic, Ikot Udota, Eket, Akwa Ibom State',\n",
       "       'Federal University, Oye-Ekiti, Ekiti State',\n",
       "       'University of Nigeria, Nsukka',\n",
       "       'Rivers State University of Science & Technology',\n",
       "       'Ambrose Alli University, Ekpoma,',\n",
       "       'Ladoke Akintola University of Technology, Ogbomoso',\n",
       "       'Federal University of Technology, Owerri',\n",
       "       'Caleb University, Lagos', 'Adekunle Ajasin University, Akungba.',\n",
       "       'University of Ilorin',\n",
       "       'Federal Polytechnic Kaura Namoda, Zamfara State.',\n",
       "       'Madonna University, Okija',\n",
       "       'Modibbo Adama University of Technology, Yola',\n",
       "       'University of Maiduguri',\n",
       "       'National Open University of Nigeria, Lagos.',\n",
       "       'Abia State University, Uturu.', 'University of Uyo',\n",
       "       'Olabisi Onabanjo University Ago-Iwoye',\n",
       "       'Anambra State University of Science & Technology, Uli',\n",
       "       'Federal Polytechnic Ado Ekiti, Ekiti State.',\n",
       "       'Delta State University Abraka',\n",
       "       'Federal Polytechnic Nekede, Owerri, Imo State.',\n",
       "       \"Redeemer's University, Mowe\", 'Osun State University, Oshogbo',\n",
       "       'Imo State University, Owerri',\n",
       "       'Benue State Polytechnic, Ugbokolo, Benue State.',\n",
       "       'Tai Solarin Univ. of Education, Ijebu-Ode',\n",
       "       'University of Agriculture, Abeokuta.',\n",
       "       'Lagos State Polytechnic, Ikorodu, Ikeja, Lagos, Lagos State.',\n",
       "       'Plateau State Polytechnic, Barkin-Ladi, Jos, Plateau State.',\n",
       "       'University of Calabar',\n",
       "       'The Polytechnic Ibadan, Ibadab, Oyo State.',\n",
       "       'Ebonyi State University, Abakaliki',\n",
       "       'Bingham University, New Karu', 'Nnamdi Azikiwe University, Awka',\n",
       "       'Nigerian-Turkish Nile University, Abuja',\n",
       "       'Institute of Management and Technology, Enugu, Enugu State.',\n",
       "       'Landmark University,Omu-Aran.',\n",
       "       'Akwa Ibom State Polytechnic, Ikot Osurua, Ikot -Ekpene, Akwa Ibom State.',\n",
       "       'Bayero University,Kano',\n",
       "       'Moshood Abiola Polytechnic, Abeokuta, Ogun State.',\n",
       "       'University of Agriculture, Makurdi.',\n",
       "       'Benue State University, Makurdi.',\n",
       "       'Michael Okpara Uni. of Agric., Umudike',\n",
       "       'Kogi State University Anyigba', 'Kaduna State University, Kaduna',\n",
       "       'D.S. Adegbenro ICT Polytechnic, Itori-Ewekoro, Ifo, Ogun State.',\n",
       "       'Federal Polytechnic Offa, Kwara State.', 'University of Jos',\n",
       "       'Crescent University,', 'Wesley Univ. of Science & Tech.,Ondo',\n",
       "       'Others (For foreign trained students)',\n",
       "       'Ahmadu Bello University, Zaria', 'Caritas University, Enugu',\n",
       "       'Veritas University', 'Oduduwa University, Ipetumodu - Osun State',\n",
       "       'Al-Hikmah University, Ilorin', 'Kwara State University, Ilorin',\n",
       "       'Igbinedion University Okada',\n",
       "       'Abubakar Tafawa Balewa University, Bauchi',\n",
       "       'Fountain Unveristy,Oshogbo',\n",
       "       'Ignatius Ajuru University of Education,Rumuolumeni.',\n",
       "       'Akwa Ibom State University of Technology, Uyo',\n",
       "       'Enugu State University of Science and Technology, Enugu',\n",
       "       'Federal University, Lafia, Nasarawa State',\n",
       "       'Lead City University, Ibadan', 'Usumanu Danfodiyo University',\n",
       "       'Joseph Ayo Babalola University, Ikeji-Arakeji',\n",
       "       'Rufus Giwa Polytechnic, Owo, Owo Ondo State.',\n",
       "       'Auchi Polytechnic, Auchi, Edo State.',\n",
       "       'Afe Babalola University, Ado-Ekiti - Ekiti State',\n",
       "       'Abdu Gusau Polytechnic, Talata Mafara, Zamfara State.',\n",
       "       'Federal University, Lokoja, Kogi State',\n",
       "       'Federal Polytechnic Ilaro, Ogun State.',\n",
       "       'Ogun State Institute of Technology, Igbesa Oba Adesola Market Road, Igbesa, Ogun State.',\n",
       "       'Ajayi Crowther University, Ibadan',\n",
       "       'American University of Nigeria, Yola',\n",
       "       'Delta State Polytechnic, Ogwashi-Uku, Delta State.',\n",
       "       'Osun State College of Technology, Esa – Oke, Osun State.',\n",
       "       'Niger Delta Unversity, Yenagoa',\n",
       "       'Cross River State University of Science &Technology, Calabar',\n",
       "       'The Polytechnic, Ile Ife, O.A.U. Ile-Ife, Osun State.',\n",
       "       'Wellspring University, Evbuobanosa - Edo State',\n",
       "       'Kano University of Science & Technology, Wudil',\n",
       "       'Allover Central Polytechnic, Sango Ota, Plot 3A & B Abiodun Popoola Street, Sango Ota, Ogun State.',\n",
       "       'Nasarawa State University, Keffi',\n",
       "       'Pan-African University, Lagos',\n",
       "       'Federal Polytechnic Ede, Osun State.',\n",
       "       'Benson Idahosa University,Benin City',\n",
       "       'Gregory University, Uturu',\n",
       "       'Grace Polytechnic, Surulere, Lagos State.',\n",
       "       'Petroleum Training Institute Effurun, Delta State.',\n",
       "       'Gateway Polytechnic, Saapade Prof. Wole Soyinka Way, Saapade Estate, Isara Ode-Remo, Ogun State.',\n",
       "       'Imo State Polytechnic, Umuagwo, Ohaji, P.M.B. 1472, Umuagwo, Ohaji Owerri, Imo State',\n",
       "       'Federal Polytechnic Bida, Niger State.',\n",
       "       'Federal University of Petroleum Resources, Effurun',\n",
       "       'Umaru Ali Shinkafi Polytechnic, Sokoto, Sokoto State.',\n",
       "       'Others (For other Nigerian institutions not listed)',\n",
       "       'Abubakar Tatari Ali Polytechnic, Jos Rd, Bauchi, Bauchi State.',\n",
       "       'Adeleke University,Ede.', 'Adamawa State University Mubi',\n",
       "       'Kogi State Polytechnic, Lokoja, Kogi State.',\n",
       "       'Achievers University, Owo',\n",
       "       'Delta State Polytechnic, Ozoro, Delta State.',\n",
       "       'Federal Polytechnic Oko, Anambra State.',\n",
       "       'Federal Polytechnic Idah, Kogi State.',\n",
       "       'Delta State Polytechnic, Otefe-Oghara, Delta State',\n",
       "       'Ibrahim Badamasi Babangida University, Lapai',\n",
       "       'Federal University, Wukari, Taraba State',\n",
       "       'Salem University,Lokoja',\n",
       "       'Osun State Polytechnic, Iree, Osun State.',\n",
       "       'Tansian University,Umunya',\n",
       "       'Abia State Polytechnic, Aba, Abia State.',\n",
       "       'Niger State Polytechnic, Zungeru, Niger State.',\n",
       "       'Jigawa State Polytechnic, Dutse, Block 40-42, Old Secretariat, Dutse, Jigawa State.',\n",
       "       'Gombe State Univeristy, Gombe',\n",
       "       'Lagos City Polytechnic, Ikeja, Lagos State.',\n",
       "       'Akanu Ibiam Federal Polytechnic Unwana, Afikpo, Ebonyi State.',\n",
       "       'Federal Polytechnic Nasarawa, Nasarawa State.',\n",
       "       'Federal University, Otuoke, Bayelsa',\n",
       "       \"Umaru Musa Yar'Adua University, Katsina\",\n",
       "       'Novena University, Ogume',\n",
       "       'Federal Polytechnic Mubi, Adamawa State.',\n",
       "       'Kebbi State University, Kebbi',\n",
       "       'Federal Polytechnic Ile-Oluji, Ondo State',\n",
       "       'Abraham Adesanya Polytechnic, Dogbolu/Akanran Ibadan Road, Atikori, Ijebu Igbo, Ogun State.',\n",
       "       'Airforce Institute of Technology (AFIT), NAF Base Kaduna',\n",
       "       'Federal University, Kashere, Gombe State',\n",
       "       'Nuhu Bamalli Polytechnic, Zaria, Kaduna State.',\n",
       "       'Ondo State University of Science & Technology, Okitipupa',\n",
       "       'Our Saviour Institute of Science, Agriculture & Technology, Enugu, Enugu State.',\n",
       "       'Taraba State University, Jalingo', 'Renaissance University,Enugu',\n",
       "       'Dorben Polytechnic, Abuja, Garki, Bwari, Abuja.',\n",
       "       'Ronik Polytechnic, Ejigbo, Ikeja, Lagos, Lagos State.',\n",
       "       'Bolmor Polytechnic, Dugbe, Ibadan, Oyo State.',\n",
       "       'Ibadan City Polytechnic, Alakia-Isebo/Iyana Church Road, Ibadan, Oyo State.',\n",
       "       'Sokoto State University, Sokoto', 'Kaduna Polytechnic, Kaduna.',\n",
       "       'Delta State Polytechnic, Ozoro',\n",
       "       'Nasarawa State Polytechnic, Lafia, Nasarawa State.'], dtype=object)"
      ]
     },
     "execution_count": 48,
     "metadata": {},
     "output_type": "execute_result"
    }
   ],
   "source": [
    "new_data[\"Pol/Uni Attended\"].unique()"
   ]
  },
  {
   "cell_type": "code",
   "execution_count": null,
   "id": "941767f2",
   "metadata": {
    "id": "941767f2",
    "outputId": "54930ede-ba3a-4b56-b669-bf72f4fa38f5"
   },
   "outputs": [
    {
     "data": {
      "text/plain": [
       "158"
      ]
     },
     "execution_count": 49,
     "metadata": {},
     "output_type": "execute_result"
    }
   ],
   "source": [
    "len(new_data[\"Pol/Uni Attended\"].unique())"
   ]
  },
  {
   "cell_type": "markdown",
   "id": "e8f893d4",
   "metadata": {
    "id": "e8f893d4"
   },
   "source": [
    "> ### Grouping the Tertiary Institutions into Public and Private"
   ]
  },
  {
   "cell_type": "code",
   "execution_count": null,
   "id": "57482678",
   "metadata": {
    "id": "57482678"
   },
   "outputs": [],
   "source": [
    "# List of Private Institutions in Nigeria\n",
    "Private_Institution = ['Bowen University, Iwo',\n",
    "       'Covenant University Ota',\n",
    "       'Babcock University,Ilishan-Remo',\n",
    "       'Crawford University Igbesa',\n",
    "       'Heritage Polytechnic, Ikot Udota, Eket, Akwa Ibom State',\n",
    "       'Caleb University, Lagos',\n",
    "       'Madonna University, Okija',\n",
    "       \"Redeemer's University, Mowe\",\n",
    "       'Bingham University, New Karu',\n",
    "       'Nigerian-Turkish Nile University, Abuja',\n",
    "       'Landmark University,Omu-Aran.',\n",
    "       'Crescent University,', 'Wesley Univ. of Science & Tech.,Ondo',\n",
    "       'Others (For foreign trained students)',\n",
    "       'Caritas University, Enugu',\n",
    "       'Veritas University', 'Oduduwa University, Ipetumodu - Osun State',\n",
    "       'Al-Hikmah University, Ilorin',\n",
    "       'Igbinedion University Okada',\n",
    "       'Fountain Unveristy,Oshogbo',\n",
    "       'Lead City University, Ibadan',\n",
    "       'Joseph Ayo Babalola University, Ikeji-Arakeji',\n",
    "       'Afe Babalola University, Ado-Ekiti - Ekiti State',\n",
    "       'Ajayi Crowther University, Ibadan',\n",
    "       'American University of Nigeria, Yola',\n",
    "       'The Polytechnic, Ile Ife, O.A.U. Ile-Ife, Osun State.',\n",
    "       'Wellspring University, Evbuobanosa - Edo State',\n",
    "       'Allover Central Polytechnic, Sango Ota, Plot 3A & B Abiodun Popoola Street, Sango Ota, Ogun State.',\n",
    "       'Pan-African University, Lagos',\n",
    "       'Benson Idahosa University,Benin City',\n",
    "       'Gregory University, Uturu',\n",
    "       'Grace Polytechnic, Surulere, Lagos State.',\n",
    "       'Gateway Polytechnic, Saapade Prof. Wole Soyinka Way, Saapade Estate, Isara Ode-Remo, Ogun State.',\n",
    "       'Adeleke University,Ede.',\n",
    "       'Achievers University, Owo',\n",
    "       'Salem University,Lokoja',\n",
    "       'Tansian University,Umunya',\n",
    "       'Lagos City Polytechnic, Ikeja, Lagos State.',\n",
    "       'Novena University, Ogume',\n",
    "       'Our Saviour Institute of Science, Agriculture & Technology, Enugu, Enugu State.',\n",
    "      'Renaissance University,Enugu',\n",
    "       'Dorben Polytechnic, Abuja, Garki, Bwari, Abuja.',\n",
    "       'Ronik Polytechnic, Ejigbo, Ikeja, Lagos, Lagos State.',\n",
    "       'Bolmor Polytechnic, Dugbe, Ibadan, Oyo State.',\n",
    "       'Ibadan City Polytechnic, Alakia-Isebo/Iyana Church Road, Ibadan, Oyo State.',\n",
    "       ]"
   ]
  },
  {
   "cell_type": "code",
   "execution_count": null,
   "id": "a8baedcf",
   "metadata": {
    "id": "a8baedcf",
    "outputId": "595c0b03-f228-46e2-b3aa-2b0efb960c7d",
    "scrolled": true
   },
   "outputs": [
    {
     "data": {
      "text/plain": [
       "45"
      ]
     },
     "execution_count": 51,
     "metadata": {},
     "output_type": "execute_result"
    }
   ],
   "source": [
    "# Number of Private Institutions captured\n",
    "len(Private_Institution)"
   ]
  },
  {
   "cell_type": "code",
   "execution_count": null,
   "id": "4451a775",
   "metadata": {
    "id": "4451a775"
   },
   "outputs": [],
   "source": [
    "# List of Public Institutions in Nigeria\n",
    "Public_Institution = ['Obafemi Awolowo University,Ile-Ife','Bells University of Technology, Otta','Ekiti State University', 'University of Benin', 'University of Lagos', 'University of Ibadan', 'University of Port-Harcourt', 'Yaba College of Technology, Yaba, Lagos State.', 'University of Abuja, Gwagwalada', 'Federal University of Technology, Akure', 'Kwara State Polytechnic, Ilorin, Kwara State.', 'Federal University of Technology, Minna.', 'Lagos State University Ojo, Lagos.', 'Federal University, Oye-Ekiti, Ekiti State', 'University of Nigeria, Nsukka', 'Rivers State University of Science & Technology', 'Ambrose Alli University, Ekpoma,', 'Ladoke Akintola University of Technology, Ogbomoso','Federal University of Technology, Owerri', 'Adekunle Ajasin University, Akungba.', 'University of Ilorin', 'Federal Polytechnic Kaura Namoda, Zamfara State.','Modibbo Adama University of Technology, Yola', 'University of Maiduguri','National Open University of Nigeria, Lagos.', 'Abia State University, Uturu.', 'University of Uyo', 'Olabisi Onabanjo University Ago-Iwoye', 'Anambra State University of Science & Technology, Uli', 'Federal Polytechnic Ado Ekiti, Ekiti State.', 'Delta State University Abraka', 'Federal Polytechnic Nekede, Owerri, Imo State.', 'Osun State University, Oshogbo', 'Imo State University, Owerri', 'Benue State Polytechnic, Ugbokolo, Benue State.', 'Tai Solarin Univ. of Education, Ijebu-Ode', 'University of Agriculture, Abeokuta.', 'Lagos State Polytechnic, Ikorodu, Ikeja, Lagos, Lagos State.',\n",
    "'Plateau State Polytechnic, Barkin-Ladi, Jos, Plateau State.', 'University of Calabar', 'The Polytechnic Ibadan, Ibadab, Oyo State.', 'Ebonyi State University, Abakaliki', 'Nnamdi Azikiwe University, Awka',  'Institute of Management and Technology, Enugu, Enugu State.', 'Akwa Ibom State Polytechnic, Ikot Osurua, Ikot -Ekpene, Akwa Ibom State.', 'Bayero University,Kano', 'Moshood Abiola Polytechnic, Abeokuta, Ogun State.', 'University of Agriculture, Makurdi.', 'Benue State University, Makurdi.', 'Michael Okpara Uni. of Agric., Umudike','Kogi State University Anyigba', 'Kaduna State University, Kaduna','D.S. Adegbenro ICT Polytechnic, Itori-Ewekoro, Ifo, Ogun State.', 'Federal Polytechnic Offa, Kwara State.', 'University of Jos', 'Ahmadu Bello University, Zaria', 'Kwara State University, Ilorin',  'Abubakar Tafawa Balewa University, Bauchi',  'Ignatius Ajuru University of Education,Rumuolumeni.', 'Akwa Ibom State University of Technology, Uyo', 'Enugu State University of Science and Technology, Enugu','Federal University, Lafia, Nasarawa State', 'Usumanu Danfodiyo University', 'Auchi Polytechnic, Auchi, Edo State.', 'Rufus Giwa Polytechnic, Owo, Owo Ondo State.', 'Abdu Gusau Polytechnic, Talata Mafara, Zamfara State.','Federal University, Lokoja, Kogi State','Federal Polytechnic Ilaro, Ogun State.', 'Ogun State Institute of Technology, Igbesa Oba Adesola Market Road, Igbesa, Ogun State.', 'Delta State Polytechnic, Ogwashi-Uku, Delta State.', 'Osun State College of Technology, Esa – Oke, Osun State.', 'Niger Delta Unversity, Yenagoa','Cross River State University of Science &Technology, Calabar',  'Kano University of Science & Technology, Wudil', 'Nasarawa State University, Keffi', 'Federal Polytechnic Ede, Osun State.', 'Petroleum Training Institute Effurun, Delta State.', 'Imo State Polytechnic, Umuagwo, Ohaji, P.M.B. 1472, Umuagwo, Ohaji Owerri, Imo State','Federal Polytechnic Bida, Niger State.', 'Federal University of Petroleum Resources, Effurun', 'Umaru Ali Shinkafi Polytechnic, Sokoto, Sokoto State.', 'Others (For other Nigerian institutions not listed)', 'Abubakar Tatari Ali Polytechnic, Jos Rd, Bauchi, Bauchi State.','Adamawa State University Mubi', 'Kogi State Polytechnic, Lokoja, Kogi State.', 'Delta State Polytechnic, Ozoro, Delta State.','Federal Polytechnic Oko, Anambra State.', 'Federal Polytechnic Idah, Kogi State.', 'Delta State Polytechnic, Otefe-Oghara, Delta State',  'Ibrahim Badamasi Babangida University, Lapai', 'Federal University, Wukari, Taraba State', 'Osun State Polytechnic, Iree, Osun State.',\n",
    "'Abia State Polytechnic, Aba, Abia State.', 'Niger State Polytechnic, Zungeru, Niger State.','Jigawa State Polytechnic, Dutse, Block 40-42, Old Secretariat, Dutse, Jigawa State.', 'Gombe State Univeristy, Gombe','Akanu Ibiam Federal Polytechnic Unwana, Afikpo, Ebonyi State.', 'Federal Polytechnic Nasarawa, Nasarawa State.','Federal University, Otuoke, Bayelsa',  \"Umaru Musa Yar'Adua University, Katsina\", 'Federal Polytechnic Mubi, Adamawa State.', 'Kebbi State University, Kebbi', 'Federal Polytechnic Ile-Oluji, Ondo State', 'Abraham Adesanya Polytechnic, Dogbolu/Akanran Ibadan Road, Atikori, Ijebu Igbo, Ogun State.', 'Airforce Institute of Technology (AFIT), NAF Base Kaduna', 'Federal University, Kashere, Gombe State', 'Nuhu Bamalli Polytechnic, Zaria, Kaduna State.', 'Ondo State University of Science & Technology, Okitipupa',  'Taraba State University, Jalingo', 'Sokoto State University, Sokoto', 'Kaduna Polytechnic, Kaduna.', 'Delta State Polytechnic, Ozoro', 'Nasarawa State Polytechnic, Lafia, Nasarawa State.']"
   ]
  },
  {
   "cell_type": "code",
   "execution_count": null,
   "id": "ed3c499a",
   "metadata": {
    "id": "ed3c499a",
    "outputId": "4a3ad681-32b7-4633-e76d-047be05009be"
   },
   "outputs": [
    {
     "data": {
      "text/plain": [
       "113"
      ]
     },
     "execution_count": 53,
     "metadata": {},
     "output_type": "execute_result"
    }
   ],
   "source": [
    "# Number of Public Institutions captured\n",
    "len(Public_Institution)"
   ]
  },
  {
   "cell_type": "markdown",
   "id": "3c900c7b",
   "metadata": {
    "id": "3c900c7b"
   },
   "source": [
    "> ## Creating New Column - `Category`"
   ]
  },
  {
   "cell_type": "code",
   "execution_count": null,
   "id": "9d248fac",
   "metadata": {
    "id": "9d248fac"
   },
   "outputs": [],
   "source": [
    "new_data['Category'] = 'Public'"
   ]
  },
  {
   "cell_type": "code",
   "execution_count": null,
   "id": "b3ee2c6f",
   "metadata": {
    "id": "b3ee2c6f"
   },
   "outputs": [],
   "source": [
    "new_data.loc[new_data['Pol/Uni Attended'].isin(Private_Institution), 'Category'] = 'Private'"
   ]
  },
  {
   "cell_type": "code",
   "execution_count": null,
   "id": "038ee3b1",
   "metadata": {
    "id": "038ee3b1",
    "outputId": "75d785aa-ffca-4470-e34d-ce89ba9b0da6",
    "scrolled": true
   },
   "outputs": [
    {
     "data": {
      "text/plain": [
       "Public     3965\n",
       "Private    1249\n",
       "Name: Category, dtype: int64"
      ]
     },
     "execution_count": 56,
     "metadata": {},
     "output_type": "execute_result"
    }
   ],
   "source": [
    "new_data['Category'].value_counts()"
   ]
  },
  {
   "cell_type": "code",
   "execution_count": null,
   "id": "257704f6",
   "metadata": {
    "id": "257704f6",
    "outputId": "f6e8ce99-1b59-4013-c530-d9a682fe25b2"
   },
   "outputs": [
    {
     "data": {
      "text/html": [
       "<div>\n",
       "<style scoped>\n",
       "    .dataframe tbody tr th:only-of-type {\n",
       "        vertical-align: middle;\n",
       "    }\n",
       "\n",
       "    .dataframe tbody tr th {\n",
       "        vertical-align: top;\n",
       "    }\n",
       "\n",
       "    .dataframe thead th {\n",
       "        text-align: right;\n",
       "    }\n",
       "</style>\n",
       "<table border=\"1\" class=\"dataframe\">\n",
       "  <thead>\n",
       "    <tr style=\"text-align: right;\">\n",
       "      <th></th>\n",
       "      <th>Gender</th>\n",
       "      <th>YOG</th>\n",
       "      <th>Course Studied</th>\n",
       "      <th>Pol/Uni Attended</th>\n",
       "      <th>Highest Education</th>\n",
       "      <th>Employment Status</th>\n",
       "      <th>Jobs Had Post Graduation</th>\n",
       "      <th>Completed NYSC</th>\n",
       "      <th>Year Complete/Completed NYSC</th>\n",
       "      <th>Course Studied Prepared me For Employment</th>\n",
       "      <th>present year</th>\n",
       "      <th>InstitutionType</th>\n",
       "      <th>Category</th>\n",
       "    </tr>\n",
       "  </thead>\n",
       "  <tbody>\n",
       "    <tr>\n",
       "      <th>0</th>\n",
       "      <td>Male</td>\n",
       "      <td>2013</td>\n",
       "      <td>Electrical &amp; Electronic Engineering</td>\n",
       "      <td>Obafemi Awolowo University,Ile-Ife</td>\n",
       "      <td>Bachelor's degree</td>\n",
       "      <td>Working full time (paid employment)</td>\n",
       "      <td>3</td>\n",
       "      <td>NaN</td>\n",
       "      <td>NaN</td>\n",
       "      <td>No</td>\n",
       "      <td>2018</td>\n",
       "      <td>University</td>\n",
       "      <td>Public</td>\n",
       "    </tr>\n",
       "    <tr>\n",
       "      <th>1</th>\n",
       "      <td>Male</td>\n",
       "      <td>2014</td>\n",
       "      <td>Psychology</td>\n",
       "      <td>Obafemi Awolowo University,Ile-Ife</td>\n",
       "      <td>Bachelor's degree</td>\n",
       "      <td>Working full time (paid employment)</td>\n",
       "      <td>2</td>\n",
       "      <td>Yes</td>\n",
       "      <td>2017.0</td>\n",
       "      <td>Strongly Disagree</td>\n",
       "      <td>2018</td>\n",
       "      <td>University</td>\n",
       "      <td>Public</td>\n",
       "    </tr>\n",
       "    <tr>\n",
       "      <th>2</th>\n",
       "      <td>Female</td>\n",
       "      <td>2013</td>\n",
       "      <td>Economics</td>\n",
       "      <td>Bells University of Technology, Otta</td>\n",
       "      <td>Bachelor's degree</td>\n",
       "      <td>Working full time (paid employment)</td>\n",
       "      <td>2</td>\n",
       "      <td>Yes</td>\n",
       "      <td>NaN</td>\n",
       "      <td>Disagree</td>\n",
       "      <td>2018</td>\n",
       "      <td>University</td>\n",
       "      <td>Public</td>\n",
       "    </tr>\n",
       "    <tr>\n",
       "      <th>3</th>\n",
       "      <td>Male</td>\n",
       "      <td>2017</td>\n",
       "      <td>Mass Communication (Communication and Language...</td>\n",
       "      <td>Bowen University, Iwo</td>\n",
       "      <td>Master's degree</td>\n",
       "      <td>Self-employed/freelance/entrepreneur</td>\n",
       "      <td>0</td>\n",
       "      <td>Yes</td>\n",
       "      <td>NaN</td>\n",
       "      <td>NaN</td>\n",
       "      <td>2018</td>\n",
       "      <td>University</td>\n",
       "      <td>Private</td>\n",
       "    </tr>\n",
       "    <tr>\n",
       "      <th>4</th>\n",
       "      <td>Female</td>\n",
       "      <td>2013</td>\n",
       "      <td>Statistics</td>\n",
       "      <td>Ekiti State University</td>\n",
       "      <td>Bachelor's degree</td>\n",
       "      <td>Working full time (paid employment)</td>\n",
       "      <td>3</td>\n",
       "      <td>Yes</td>\n",
       "      <td>2016.0</td>\n",
       "      <td>Agree</td>\n",
       "      <td>2018</td>\n",
       "      <td>University</td>\n",
       "      <td>Public</td>\n",
       "    </tr>\n",
       "  </tbody>\n",
       "</table>\n",
       "</div>"
      ],
      "text/plain": [
       "   Gender   YOG                                     Course Studied  \\\n",
       "0    Male  2013                Electrical & Electronic Engineering   \n",
       "1    Male  2014                                         Psychology   \n",
       "2  Female  2013                                          Economics   \n",
       "3    Male  2017  Mass Communication (Communication and Language...   \n",
       "4  Female  2013                                         Statistics   \n",
       "\n",
       "                       Pol/Uni Attended  Highest Education  \\\n",
       "0    Obafemi Awolowo University,Ile-Ife  Bachelor's degree   \n",
       "1    Obafemi Awolowo University,Ile-Ife  Bachelor's degree   \n",
       "2  Bells University of Technology, Otta  Bachelor's degree   \n",
       "3                 Bowen University, Iwo    Master's degree   \n",
       "4                Ekiti State University  Bachelor's degree   \n",
       "\n",
       "                      Employment Status  Jobs Had Post Graduation  \\\n",
       "0   Working full time (paid employment)                         3   \n",
       "1   Working full time (paid employment)                         2   \n",
       "2   Working full time (paid employment)                         2   \n",
       "3  Self-employed/freelance/entrepreneur                         0   \n",
       "4   Working full time (paid employment)                         3   \n",
       "\n",
       "  Completed NYSC  Year Complete/Completed NYSC  \\\n",
       "0            NaN                           NaN   \n",
       "1            Yes                        2017.0   \n",
       "2            Yes                           NaN   \n",
       "3            Yes                           NaN   \n",
       "4            Yes                        2016.0   \n",
       "\n",
       "  Course Studied Prepared me For Employment  present year InstitutionType  \\\n",
       "0                                        No          2018      University   \n",
       "1                         Strongly Disagree          2018      University   \n",
       "2                                  Disagree          2018      University   \n",
       "3                                       NaN          2018      University   \n",
       "4                                     Agree          2018      University   \n",
       "\n",
       "  Category  \n",
       "0   Public  \n",
       "1   Public  \n",
       "2   Public  \n",
       "3  Private  \n",
       "4   Public  "
      ]
     },
     "execution_count": 57,
     "metadata": {},
     "output_type": "execute_result"
    }
   ],
   "source": [
    "new_data.head()"
   ]
  },
  {
   "cell_type": "markdown",
   "id": "a0ed1b4c",
   "metadata": {
    "id": "a0ed1b4c"
   },
   "source": [
    "### 6. **Highest Education Level**"
   ]
  },
  {
   "cell_type": "code",
   "execution_count": null,
   "id": "f87ab0e4",
   "metadata": {
    "colab": {
     "base_uri": "https://localhost:8080/"
    },
    "id": "f87ab0e4",
    "outputId": "7fe444bf-eeb1-4eda-e5fe-85131645288f"
   },
   "outputs": [
    {
     "data": {
      "text/plain": [
       "Bachelor's degree                  4397\n",
       "Higher National Diploma (HND)       368\n",
       "Master's degree                     306\n",
       "Ordinary National Diploma (OND)     116\n",
       "MBA degree                           20\n",
       "PhDs/Doctorate Degree                 7\n",
       "Name: Highest Education, dtype: int64"
      ]
     },
     "execution_count": 58,
     "metadata": {},
     "output_type": "execute_result"
    }
   ],
   "source": [
    "#observe unique data and the frequency\n",
    "new_data['Highest Education'].value_counts(dropna= False)"
   ]
  },
  {
   "cell_type": "code",
   "execution_count": null,
   "id": "de6dd03a",
   "metadata": {
    "colab": {
     "base_uri": "https://localhost:8080/"
    },
    "id": "de6dd03a",
    "outputId": "d3f21fb5-5753-43c6-f310-9c3a86ebc07f"
   },
   "outputs": [
    {
     "data": {
      "text/plain": [
       "0"
      ]
     },
     "execution_count": 59,
     "metadata": {},
     "output_type": "execute_result"
    }
   ],
   "source": [
    "#check for missing values\n",
    "new_data['Highest Education'].isnull().sum()"
   ]
  },
  {
   "cell_type": "markdown",
   "id": "bNeIwZdkyR5I",
   "metadata": {
    "id": "bNeIwZdkyR5I"
   },
   "source": [
    "### 7. **Employment Status**"
   ]
  },
  {
   "cell_type": "code",
   "execution_count": null,
   "id": "NQJCJroFyo9I",
   "metadata": {
    "colab": {
     "base_uri": "https://localhost:8080/"
    },
    "id": "NQJCJroFyo9I",
    "outputId": "c5e0abc5-5172-46e3-dd7b-b4c4c413eac3"
   },
   "outputs": [
    {
     "data": {
      "text/plain": [
       "Working full time (paid employment)                                                           1370\n",
       "Unemployed                                                                                    1232\n",
       "Youth Corper (NYSC)                                                                            842\n",
       "Self-employed/freelance/entrepreneur                                                           698\n",
       "Voluntary or other unpaid work or on an internship                                             417\n",
       "Engaged in full-time further study, training or research                                       167\n",
       "Due to start a job in the next month/developing a professional portfolio/creative practice     149\n",
       "Taking time out to prepare for further studies, GMAT, professional exams                       129\n",
       "Doing something else (e.g. looking after home or family)                                       127\n",
       "Engaged in part-time further study, training or research                                        83\n",
       "Name: Employment Status, dtype: int64"
      ]
     },
     "execution_count": 60,
     "metadata": {},
     "output_type": "execute_result"
    }
   ],
   "source": [
    "#observe unique data and the frequency\n",
    "new_data[\"Employment Status\"].value_counts(dropna = False)"
   ]
  },
  {
   "cell_type": "code",
   "execution_count": null,
   "id": "u4uXMNety1n-",
   "metadata": {
    "colab": {
     "base_uri": "https://localhost:8080/"
    },
    "id": "u4uXMNety1n-",
    "outputId": "35182d1f-b699-41af-df4e-cecea6b08e0f"
   },
   "outputs": [
    {
     "data": {
      "text/plain": [
       "0"
      ]
     },
     "execution_count": 61,
     "metadata": {},
     "output_type": "execute_result"
    }
   ],
   "source": [
    "#checking for missing data\n",
    "new_data[\"Employment Status\"].isna().sum()"
   ]
  },
  {
   "cell_type": "markdown",
   "id": "42c1c143",
   "metadata": {
    "id": "42c1c143"
   },
   "source": [
    "### Grouping the Emploment status into the following categories:\n",
    "1. Employed\n",
    "2. Studying\n",
    "3. Unemployed\n",
    "4. Self Employed\n",
    "5. NYSC\n",
    "6. Studying"
   ]
  },
  {
   "cell_type": "code",
   "execution_count": null,
   "id": "2rjX85nV5ozc",
   "metadata": {
    "id": "2rjX85nV5ozc"
   },
   "outputs": [],
   "source": [
    "# change the employment status to\n",
    "    #\"employed\"\n",
    "    #\"unemployed\"\n",
    "    #\"self_employed\"\n",
    "    #\"nysc\"\n",
    "    #\"studying\"\n",
    "\n",
    "new_data[\"Employment Status\"].replace({\"Working full time (paid employment)\" : \"Employed\",\n",
    "                                       \"Youth Corper (NYSC)\" :\"NYSC\",\n",
    "                                      \"Self-employed/freelance/entrepreneur\" : \"Self Employed\",\n",
    "                                      \"Voluntary or other unpaid work or on an internship\": \"Unemployed\",\n",
    "                                      \"Engaged in full-time further study, training or research\" : \"Studying\",\n",
    "                                      \"Due to start a job in the next month/developing a professional portfolio/creative practice\" : \"Employed\",\n",
    "                                       \"Taking time out to prepare for further studies, GMAT, professional exams\" : \"Studying\",\n",
    "                                        \"Doing something else (e.g. looking after home or family)\" : \"Unemployed\",\n",
    "                                      \"Engaged in part-time further study, training or research\" : \"Studying\" }, inplace = True)\n",
    "\n"
   ]
  },
  {
   "cell_type": "code",
   "execution_count": null,
   "id": "vVZs7Bcx94cW",
   "metadata": {
    "colab": {
     "base_uri": "https://localhost:8080/"
    },
    "id": "vVZs7Bcx94cW",
    "outputId": "1853a3cf-d54c-41f5-e894-969689faa1bc"
   },
   "outputs": [
    {
     "data": {
      "text/plain": [
       "Unemployed       1776\n",
       "Employed         1519\n",
       "NYSC              842\n",
       "Self Employed     698\n",
       "Studying          379\n",
       "Name: Employment Status, dtype: int64"
      ]
     },
     "execution_count": 63,
     "metadata": {},
     "output_type": "execute_result"
    }
   ],
   "source": [
    " #new set of unique data on \"employment status\"\n",
    "new_data[\"Employment Status\"].value_counts(dropna = False)"
   ]
  },
  {
   "cell_type": "markdown",
   "id": "tZ8xfSbD0Vlg",
   "metadata": {
    "id": "tZ8xfSbD0Vlg"
   },
   "source": [
    "### 8. **Number of Jobs Had Post Graduation**"
   ]
  },
  {
   "cell_type": "code",
   "execution_count": null,
   "id": "w-iAmlUNzYob",
   "metadata": {
    "colab": {
     "base_uri": "https://localhost:8080/"
    },
    "id": "w-iAmlUNzYob",
    "outputId": "923471ad-6116-4789-8acf-329637deaa10"
   },
   "outputs": [
    {
     "data": {
      "text/plain": [
       "0     1784\n",
       "1     1776\n",
       "2     1051\n",
       "3      456\n",
       "4      100\n",
       "5       30\n",
       "10       6\n",
       "6        6\n",
       "7        4\n",
       "8        1\n",
       "Name: Jobs Had Post Graduation, dtype: int64"
      ]
     },
     "execution_count": 64,
     "metadata": {},
     "output_type": "execute_result"
    }
   ],
   "source": [
    "#no wrong data\n",
    "new_data[\"Jobs Had Post Graduation\"].value_counts(dropna = False)"
   ]
  },
  {
   "cell_type": "code",
   "execution_count": null,
   "id": "awjXmnI0z3RD",
   "metadata": {
    "colab": {
     "base_uri": "https://localhost:8080/"
    },
    "id": "awjXmnI0z3RD",
    "outputId": "9af9efce-fa49-4011-edc3-88033c7de8d8"
   },
   "outputs": [
    {
     "data": {
      "text/plain": [
       "0"
      ]
     },
     "execution_count": 65,
     "metadata": {},
     "output_type": "execute_result"
    }
   ],
   "source": [
    "#no missing data\n",
    "new_data[\"Jobs Had Post Graduation\"].isna().sum()"
   ]
  },
  {
   "cell_type": "markdown",
   "id": "BrFRfuiJ9aHQ",
   "metadata": {
    "id": "BrFRfuiJ9aHQ"
   },
   "source": [
    "### 9. **Completed NYSC**"
   ]
  },
  {
   "cell_type": "code",
   "execution_count": null,
   "id": "Jo184ftB9Qek",
   "metadata": {
    "colab": {
     "base_uri": "https://localhost:8080/"
    },
    "id": "Jo184ftB9Qek",
    "outputId": "37e9291f-4c5b-4e02-d5e3-b7064f14a5a8"
   },
   "outputs": [
    {
     "data": {
      "text/plain": [
       "Yes        3415\n",
       "No         1021\n",
       "Ongoing     777\n",
       "NaN           1\n",
       "Name: Completed NYSC, dtype: int64"
      ]
     },
     "execution_count": 66,
     "metadata": {},
     "output_type": "execute_result"
    }
   ],
   "source": [
    "#unique data on \"NYSC\"\n",
    "new_data[\"Completed NYSC\"].value_counts(dropna = False)"
   ]
  },
  {
   "cell_type": "code",
   "execution_count": null,
   "id": "SBrX0jVZ_GiE",
   "metadata": {
    "colab": {
     "base_uri": "https://localhost:8080/"
    },
    "id": "SBrX0jVZ_GiE",
    "outputId": "cbee9586-606c-4d06-f155-f4cf0ee6c530"
   },
   "outputs": [
    {
     "data": {
      "text/plain": [
       "1"
      ]
     },
     "execution_count": 67,
     "metadata": {},
     "output_type": "execute_result"
    }
   ],
   "source": [
    "# 1 missing value\n",
    "new_data[\"Completed NYSC\"].isna().sum()"
   ]
  },
  {
   "cell_type": "code",
   "execution_count": null,
   "id": "MdwgWm67C-XM",
   "metadata": {
    "id": "MdwgWm67C-XM"
   },
   "outputs": [],
   "source": [
    "#drop missing value\n",
    "new_data.drop(new_data[new_data[\"Completed NYSC\"].isna()== True].index, inplace = True)"
   ]
  },
  {
   "cell_type": "code",
   "execution_count": null,
   "id": "y9ASgmenDS4j",
   "metadata": {
    "colab": {
     "base_uri": "https://localhost:8080/"
    },
    "id": "y9ASgmenDS4j",
    "outputId": "f5caa2e9-4a46-4ca8-9372-6c8837d422b8"
   },
   "outputs": [
    {
     "data": {
      "text/plain": [
       "0"
      ]
     },
     "execution_count": 69,
     "metadata": {},
     "output_type": "execute_result"
    }
   ],
   "source": [
    "new_data[\"Completed NYSC\"].isna().sum() # 1 missing value #no more missing value"
   ]
  },
  {
   "cell_type": "code",
   "execution_count": null,
   "id": "4936888a",
   "metadata": {
    "id": "4936888a"
   },
   "outputs": [],
   "source": [
    "# Grouping the `new_data[\"Completed NYSC\"]` column into `Yes' and `No`\n",
    "# Replace all `Ongoing` values with `No' to have two categories\n",
    "new_data[\"Completed NYSC\"].replace({'Ongoing': 'No'}, inplace = True)"
   ]
  },
  {
   "cell_type": "code",
   "execution_count": null,
   "id": "25c09a24",
   "metadata": {
    "id": "25c09a24",
    "outputId": "127562c3-f268-43d0-da28-ab41d5ce2009",
    "scrolled": true
   },
   "outputs": [
    {
     "data": {
      "text/plain": [
       "Yes    3415\n",
       "No     1798\n",
       "Name: Completed NYSC, dtype: int64"
      ]
     },
     "execution_count": 71,
     "metadata": {},
     "output_type": "execute_result"
    }
   ],
   "source": [
    "#unique data on \"NYSC\"\n",
    "new_data[\"Completed NYSC\"].value_counts(dropna = False)"
   ]
  },
  {
   "cell_type": "markdown",
   "id": "NxUIkU7UIa2_",
   "metadata": {
    "id": "NxUIkU7UIa2_"
   },
   "source": [
    "### 10. **Year Complete/Completed NYSC**"
   ]
  },
  {
   "cell_type": "code",
   "execution_count": null,
   "id": "uAf6gIuc_gdb",
   "metadata": {
    "colab": {
     "base_uri": "https://localhost:8080/"
    },
    "id": "uAf6gIuc_gdb",
    "outputId": "055e9929-f354-4390-fa98-7ac037218b5d"
   },
   "outputs": [
    {
     "data": {
      "text/plain": [
       "2017.0    1511\n",
       "NaN        938\n",
       "2018.0     832\n",
       "2016.0     790\n",
       "2015.0     541\n",
       "2014.0     303\n",
       "2019.0     223\n",
       "2013.0      75\n",
       "Name: Year Complete/Completed NYSC, dtype: int64"
      ]
     },
     "execution_count": 72,
     "metadata": {},
     "output_type": "execute_result"
    }
   ],
   "source": [
    "# Frequency of unique values\n",
    "new_data[\"Year Complete/Completed NYSC\"].value_counts(dropna = False)"
   ]
  },
  {
   "cell_type": "code",
   "execution_count": null,
   "id": "5762ecc6",
   "metadata": {
    "id": "5762ecc6",
    "outputId": "1c162d5e-6207-4742-9d3c-6ee8300ba890",
    "scrolled": true
   },
   "outputs": [
    {
     "data": {
      "text/plain": [
       "dtype('float64')"
      ]
     },
     "execution_count": 73,
     "metadata": {},
     "output_type": "execute_result"
    }
   ],
   "source": [
    "# data type of column\n",
    "new_data[\"Year Complete/Completed NYSC\"].dtype\n",
    "\n",
    "\n",
    "# Since year is a discrete variable, convert the 'float' to an 'int'"
   ]
  },
  {
   "cell_type": "code",
   "execution_count": null,
   "id": "fgTyzJdUIwfl",
   "metadata": {
    "colab": {
     "base_uri": "https://localhost:8080/"
    },
    "id": "fgTyzJdUIwfl",
    "outputId": "1290fb3e-f11b-441e-cd76-91d6a44920a5",
    "scrolled": false
   },
   "outputs": [
    {
     "data": {
      "text/plain": [
       "938"
      ]
     },
     "execution_count": 74,
     "metadata": {},
     "output_type": "execute_result"
    }
   ],
   "source": [
    "new_data[\"Year Complete/Completed NYSC\"].isna().sum()"
   ]
  },
  {
   "cell_type": "code",
   "execution_count": null,
   "id": "b530de1e",
   "metadata": {
    "id": "b530de1e",
    "outputId": "e83686ca-ec57-4d9a-9dfe-19ecd48e205a",
    "scrolled": false
   },
   "outputs": [
    {
     "data": {
      "image/png": "[encoded data removed]",
      "text/plain": [
       "<Figure size 1800x1200 with 2 Axes>"
      ]
     },
     "metadata": {},
     "output_type": "display_data"
    }
   ],
   "source": [
    "# plot showing missing data. The color indicates the presence of missing values\n",
    "py.figure(figsize= (18,12))\n",
    "\n",
    "py.title('Missing Data')\n",
    "sns.heatmap(new_data.isnull())\n",
    "py.show()"
   ]
  },
  {
   "cell_type": "markdown",
   "id": "91175128",
   "metadata": {
    "id": "91175128"
   },
   "source": [
    "> In Nigeria, Graduates from private institutions do complete their NYSC within the first year of graduation, while Gradutes from Public and Goverment Institutions complete their National Youth Service Corps within the first two years of graduation.\n",
    "\n",
    "To cater for the missing values in the the `Year Complete/Completed NYSC` column, We will follow this process;\n",
    "- For all individuals from `Private Institutions` with NaN values, add +1 to their `YOG (Year of Graduation)`.\n",
    "- For all individuals from `Public Institutions` with NaN values, add +2 to their `YOG (Year of Graduation)`."
   ]
  },
  {
   "cell_type": "code",
   "execution_count": null,
   "id": "51110b1d",
   "metadata": {
    "id": "51110b1d",
    "outputId": "437cac95-6413-4428-d434-9fd527b87e07"
   },
   "outputs": [
    {
     "data": {
      "text/html": [
       "<div>\n",
       "<style scoped>\n",
       "    .dataframe tbody tr th:only-of-type {\n",
       "        vertical-align: middle;\n",
       "    }\n",
       "\n",
       "    .dataframe tbody tr th {\n",
       "        vertical-align: top;\n",
       "    }\n",
       "\n",
       "    .dataframe thead th {\n",
       "        text-align: right;\n",
       "    }\n",
       "</style>\n",
       "<table border=\"1\" class=\"dataframe\">\n",
       "  <thead>\n",
       "    <tr style=\"text-align: right;\">\n",
       "      <th></th>\n",
       "      <th>Gender</th>\n",
       "      <th>YOG</th>\n",
       "      <th>Course Studied</th>\n",
       "      <th>Pol/Uni Attended</th>\n",
       "      <th>Highest Education</th>\n",
       "      <th>Employment Status</th>\n",
       "      <th>Jobs Had Post Graduation</th>\n",
       "      <th>Completed NYSC</th>\n",
       "      <th>Year Complete/Completed NYSC</th>\n",
       "      <th>Course Studied Prepared me For Employment</th>\n",
       "      <th>present year</th>\n",
       "      <th>InstitutionType</th>\n",
       "      <th>Category</th>\n",
       "    </tr>\n",
       "  </thead>\n",
       "  <tbody>\n",
       "    <tr>\n",
       "      <th>1</th>\n",
       "      <td>Male</td>\n",
       "      <td>2014</td>\n",
       "      <td>Psychology</td>\n",
       "      <td>Obafemi Awolowo University,Ile-Ife</td>\n",
       "      <td>Bachelor's degree</td>\n",
       "      <td>Employed</td>\n",
       "      <td>2</td>\n",
       "      <td>Yes</td>\n",
       "      <td>2017.0</td>\n",
       "      <td>Strongly Disagree</td>\n",
       "      <td>2018</td>\n",
       "      <td>University</td>\n",
       "      <td>Public</td>\n",
       "    </tr>\n",
       "    <tr>\n",
       "      <th>2</th>\n",
       "      <td>Female</td>\n",
       "      <td>2013</td>\n",
       "      <td>Economics</td>\n",
       "      <td>Bells University of Technology, Otta</td>\n",
       "      <td>Bachelor's degree</td>\n",
       "      <td>Employed</td>\n",
       "      <td>2</td>\n",
       "      <td>Yes</td>\n",
       "      <td>NaN</td>\n",
       "      <td>Disagree</td>\n",
       "      <td>2018</td>\n",
       "      <td>University</td>\n",
       "      <td>Public</td>\n",
       "    </tr>\n",
       "    <tr>\n",
       "      <th>3</th>\n",
       "      <td>Male</td>\n",
       "      <td>2017</td>\n",
       "      <td>Mass Communication (Communication and Language...</td>\n",
       "      <td>Bowen University, Iwo</td>\n",
       "      <td>Master's degree</td>\n",
       "      <td>Self Employed</td>\n",
       "      <td>0</td>\n",
       "      <td>Yes</td>\n",
       "      <td>NaN</td>\n",
       "      <td>NaN</td>\n",
       "      <td>2018</td>\n",
       "      <td>University</td>\n",
       "      <td>Private</td>\n",
       "    </tr>\n",
       "    <tr>\n",
       "      <th>4</th>\n",
       "      <td>Female</td>\n",
       "      <td>2013</td>\n",
       "      <td>Statistics</td>\n",
       "      <td>Ekiti State University</td>\n",
       "      <td>Bachelor's degree</td>\n",
       "      <td>Employed</td>\n",
       "      <td>3</td>\n",
       "      <td>Yes</td>\n",
       "      <td>2016.0</td>\n",
       "      <td>Agree</td>\n",
       "      <td>2018</td>\n",
       "      <td>University</td>\n",
       "      <td>Public</td>\n",
       "    </tr>\n",
       "    <tr>\n",
       "      <th>5</th>\n",
       "      <td>Male</td>\n",
       "      <td>2015</td>\n",
       "      <td>Electrical &amp; Electronic Engineering</td>\n",
       "      <td>University of Benin</td>\n",
       "      <td>Bachelor's degree</td>\n",
       "      <td>Employed</td>\n",
       "      <td>2</td>\n",
       "      <td>No</td>\n",
       "      <td>2013.0</td>\n",
       "      <td>Agree</td>\n",
       "      <td>2018</td>\n",
       "      <td>University</td>\n",
       "      <td>Public</td>\n",
       "    </tr>\n",
       "  </tbody>\n",
       "</table>\n",
       "</div>"
      ],
      "text/plain": [
       "   Gender   YOG                                     Course Studied  \\\n",
       "1    Male  2014                                         Psychology   \n",
       "2  Female  2013                                          Economics   \n",
       "3    Male  2017  Mass Communication (Communication and Language...   \n",
       "4  Female  2013                                         Statistics   \n",
       "5    Male  2015                Electrical & Electronic Engineering   \n",
       "\n",
       "                       Pol/Uni Attended  Highest Education Employment Status  \\\n",
       "1    Obafemi Awolowo University,Ile-Ife  Bachelor's degree          Employed   \n",
       "2  Bells University of Technology, Otta  Bachelor's degree          Employed   \n",
       "3                 Bowen University, Iwo    Master's degree     Self Employed   \n",
       "4                Ekiti State University  Bachelor's degree          Employed   \n",
       "5                   University of Benin  Bachelor's degree          Employed   \n",
       "\n",
       "   Jobs Had Post Graduation Completed NYSC  Year Complete/Completed NYSC  \\\n",
       "1                         2            Yes                        2017.0   \n",
       "2                         2            Yes                           NaN   \n",
       "3                         0            Yes                           NaN   \n",
       "4                         3            Yes                        2016.0   \n",
       "5                         2             No                        2013.0   \n",
       "\n",
       "  Course Studied Prepared me For Employment  present year InstitutionType  \\\n",
       "1                         Strongly Disagree          2018      University   \n",
       "2                                  Disagree          2018      University   \n",
       "3                                       NaN          2018      University   \n",
       "4                                     Agree          2018      University   \n",
       "5                                     Agree          2018      University   \n",
       "\n",
       "  Category  \n",
       "1   Public  \n",
       "2   Public  \n",
       "3  Private  \n",
       "4   Public  \n",
       "5   Public  "
      ]
     },
     "execution_count": 76,
     "metadata": {},
     "output_type": "execute_result"
    }
   ],
   "source": [
    "new_data.head()"
   ]
  },
  {
   "cell_type": "code",
   "execution_count": null,
   "id": "54d190f7",
   "metadata": {
    "id": "54d190f7",
    "outputId": "d34b57d7-8a70-48a9-be8d-aed506b3dd47"
   },
   "outputs": [
    {
     "data": {
      "text/plain": [
       "YOG                               int64\n",
       "Year Complete/Completed NYSC    float64\n",
       "dtype: object"
      ]
     },
     "execution_count": 77,
     "metadata": {},
     "output_type": "execute_result"
    }
   ],
   "source": [
    "new_data[['YOG', \"Year Complete/Completed NYSC\"]].dtypes"
   ]
  },
  {
   "cell_type": "code",
   "execution_count": null,
   "id": "1203d033",
   "metadata": {
    "id": "1203d033",
    "outputId": "5ec1b7b6-a9f0-4c5d-d42e-09920111b63a",
    "scrolled": true
   },
   "outputs": [
    {
     "data": {
      "text/plain": [
       "1       2014.0\n",
       "2       2013.0\n",
       "3       2017.0\n",
       "4       2013.0\n",
       "5       2015.0\n",
       "         ...  \n",
       "5214    2014.0\n",
       "5215    2017.0\n",
       "5216    2014.0\n",
       "5217    2015.0\n",
       "5218    2016.0\n",
       "Name: YOG, Length: 5213, dtype: float64"
      ]
     },
     "execution_count": 78,
     "metadata": {},
     "output_type": "execute_result"
    }
   ],
   "source": [
    "# The `Year Complete/Completed NYSC` has NaN values, we thus have to convert the column `YOG` to float, so it can be added\n",
    "new_data['YOG'].astype(float)"
   ]
  },
  {
   "cell_type": "markdown",
   "id": "e9589c6b",
   "metadata": {
    "id": "e9589c6b"
   },
   "source": [
    ">### We would update all rows containing `Private` as category"
   ]
  },
  {
   "cell_type": "code",
   "execution_count": null,
   "id": "1b542de4",
   "metadata": {
    "id": "1b542de4",
    "outputId": "da202a2d-efd0-46fb-de3e-348cd75dc223",
    "scrolled": true
   },
   "outputs": [
    {
     "data": {
      "text/html": [
       "<div>\n",
       "<style scoped>\n",
       "    .dataframe tbody tr th:only-of-type {\n",
       "        vertical-align: middle;\n",
       "    }\n",
       "\n",
       "    .dataframe tbody tr th {\n",
       "        vertical-align: top;\n",
       "    }\n",
       "\n",
       "    .dataframe thead th {\n",
       "        text-align: right;\n",
       "    }\n",
       "</style>\n",
       "<table border=\"1\" class=\"dataframe\">\n",
       "  <thead>\n",
       "    <tr style=\"text-align: right;\">\n",
       "      <th></th>\n",
       "      <th>Gender</th>\n",
       "      <th>YOG</th>\n",
       "      <th>Course Studied</th>\n",
       "      <th>Pol/Uni Attended</th>\n",
       "      <th>Highest Education</th>\n",
       "      <th>Employment Status</th>\n",
       "      <th>Jobs Had Post Graduation</th>\n",
       "      <th>Completed NYSC</th>\n",
       "      <th>Year Complete/Completed NYSC</th>\n",
       "      <th>Course Studied Prepared me For Employment</th>\n",
       "      <th>present year</th>\n",
       "      <th>InstitutionType</th>\n",
       "      <th>Category</th>\n",
       "    </tr>\n",
       "  </thead>\n",
       "  <tbody>\n",
       "    <tr>\n",
       "      <th>3</th>\n",
       "      <td>Male</td>\n",
       "      <td>2017</td>\n",
       "      <td>Mass Communication (Communication and Language...</td>\n",
       "      <td>Bowen University, Iwo</td>\n",
       "      <td>Master's degree</td>\n",
       "      <td>Self Employed</td>\n",
       "      <td>0</td>\n",
       "      <td>Yes</td>\n",
       "      <td>NaN</td>\n",
       "      <td>NaN</td>\n",
       "      <td>2018</td>\n",
       "      <td>University</td>\n",
       "      <td>Private</td>\n",
       "    </tr>\n",
       "    <tr>\n",
       "      <th>6</th>\n",
       "      <td>Male</td>\n",
       "      <td>2013</td>\n",
       "      <td>Economics</td>\n",
       "      <td>Bowen University, Iwo</td>\n",
       "      <td>Higher National Diploma (HND)</td>\n",
       "      <td>Employed</td>\n",
       "      <td>4</td>\n",
       "      <td>Yes</td>\n",
       "      <td>2016.0</td>\n",
       "      <td>Strongly Disagree</td>\n",
       "      <td>2018</td>\n",
       "      <td>University</td>\n",
       "      <td>Private</td>\n",
       "    </tr>\n",
       "    <tr>\n",
       "      <th>8</th>\n",
       "      <td>Female</td>\n",
       "      <td>2017</td>\n",
       "      <td>Industrial Relations and Personnel Management</td>\n",
       "      <td>Covenant University Ota</td>\n",
       "      <td>Bachelor's degree</td>\n",
       "      <td>NYSC</td>\n",
       "      <td>2</td>\n",
       "      <td>No</td>\n",
       "      <td>2018.0</td>\n",
       "      <td>Agree</td>\n",
       "      <td>2018</td>\n",
       "      <td>University</td>\n",
       "      <td>Private</td>\n",
       "    </tr>\n",
       "    <tr>\n",
       "      <th>11</th>\n",
       "      <td>Male</td>\n",
       "      <td>2016</td>\n",
       "      <td>Banking and Finance</td>\n",
       "      <td>Covenant University Ota</td>\n",
       "      <td>Bachelor's degree</td>\n",
       "      <td>Employed</td>\n",
       "      <td>2</td>\n",
       "      <td>Yes</td>\n",
       "      <td>2017.0</td>\n",
       "      <td>Agree</td>\n",
       "      <td>2018</td>\n",
       "      <td>University</td>\n",
       "      <td>Private</td>\n",
       "    </tr>\n",
       "    <tr>\n",
       "      <th>18</th>\n",
       "      <td>Female</td>\n",
       "      <td>2017</td>\n",
       "      <td>Economics</td>\n",
       "      <td>Babcock University,Ilishan-Remo</td>\n",
       "      <td>Bachelor's degree</td>\n",
       "      <td>NYSC</td>\n",
       "      <td>2</td>\n",
       "      <td>No</td>\n",
       "      <td>2018.0</td>\n",
       "      <td>Agree</td>\n",
       "      <td>2018</td>\n",
       "      <td>University</td>\n",
       "      <td>Private</td>\n",
       "    </tr>\n",
       "  </tbody>\n",
       "</table>\n",
       "</div>"
      ],
      "text/plain": [
       "    Gender   YOG                                     Course Studied  \\\n",
       "3     Male  2017  Mass Communication (Communication and Language...   \n",
       "6     Male  2013                                          Economics   \n",
       "8   Female  2017      Industrial Relations and Personnel Management   \n",
       "11    Male  2016                                Banking and Finance   \n",
       "18  Female  2017                                          Economics   \n",
       "\n",
       "                   Pol/Uni Attended              Highest Education  \\\n",
       "3             Bowen University, Iwo                Master's degree   \n",
       "6             Bowen University, Iwo  Higher National Diploma (HND)   \n",
       "8           Covenant University Ota              Bachelor's degree   \n",
       "11          Covenant University Ota              Bachelor's degree   \n",
       "18  Babcock University,Ilishan-Remo              Bachelor's degree   \n",
       "\n",
       "   Employment Status  Jobs Had Post Graduation Completed NYSC  \\\n",
       "3      Self Employed                         0            Yes   \n",
       "6           Employed                         4            Yes   \n",
       "8               NYSC                         2             No   \n",
       "11          Employed                         2            Yes   \n",
       "18              NYSC                         2             No   \n",
       "\n",
       "    Year Complete/Completed NYSC Course Studied Prepared me For Employment  \\\n",
       "3                            NaN                                       NaN   \n",
       "6                         2016.0                         Strongly Disagree   \n",
       "8                         2018.0                                     Agree   \n",
       "11                        2017.0                                     Agree   \n",
       "18                        2018.0                                     Agree   \n",
       "\n",
       "    present year InstitutionType Category  \n",
       "3           2018      University  Private  \n",
       "6           2018      University  Private  \n",
       "8           2018      University  Private  \n",
       "11          2018      University  Private  \n",
       "18          2018      University  Private  "
      ]
     },
     "execution_count": 79,
     "metadata": {},
     "output_type": "execute_result"
    }
   ],
   "source": [
    "# Filtering the rows where Category == 'Private' and creating a dataframe copy\n",
    "private_school = new_data.loc[new_data['Category'] == 'Private'].copy()\n",
    "private_school.head()\n"
   ]
  },
  {
   "cell_type": "code",
   "execution_count": null,
   "id": "fbaaedc5",
   "metadata": {
    "id": "fbaaedc5",
    "outputId": "597fa4e3-c1d5-4650-f3e2-9736cef1a144",
    "scrolled": false
   },
   "outputs": [
    {
     "data": {
      "text/html": [
       "<div>\n",
       "<style scoped>\n",
       "    .dataframe tbody tr th:only-of-type {\n",
       "        vertical-align: middle;\n",
       "    }\n",
       "\n",
       "    .dataframe tbody tr th {\n",
       "        vertical-align: top;\n",
       "    }\n",
       "\n",
       "    .dataframe thead th {\n",
       "        text-align: right;\n",
       "    }\n",
       "</style>\n",
       "<table border=\"1\" class=\"dataframe\">\n",
       "  <thead>\n",
       "    <tr style=\"text-align: right;\">\n",
       "      <th></th>\n",
       "      <th>Gender</th>\n",
       "      <th>YOG</th>\n",
       "      <th>Course Studied</th>\n",
       "      <th>Pol/Uni Attended</th>\n",
       "      <th>Highest Education</th>\n",
       "      <th>Employment Status</th>\n",
       "      <th>Jobs Had Post Graduation</th>\n",
       "      <th>Completed NYSC</th>\n",
       "      <th>Year Complete/Completed NYSC</th>\n",
       "      <th>Course Studied Prepared me For Employment</th>\n",
       "      <th>present year</th>\n",
       "      <th>InstitutionType</th>\n",
       "      <th>Category</th>\n",
       "    </tr>\n",
       "  </thead>\n",
       "  <tbody>\n",
       "    <tr>\n",
       "      <th>3</th>\n",
       "      <td>Male</td>\n",
       "      <td>2017</td>\n",
       "      <td>Mass Communication (Communication and Language...</td>\n",
       "      <td>Bowen University, Iwo</td>\n",
       "      <td>Master's degree</td>\n",
       "      <td>Self Employed</td>\n",
       "      <td>0</td>\n",
       "      <td>Yes</td>\n",
       "      <td>2018.0</td>\n",
       "      <td>NaN</td>\n",
       "      <td>2018</td>\n",
       "      <td>University</td>\n",
       "      <td>Private</td>\n",
       "    </tr>\n",
       "    <tr>\n",
       "      <th>6</th>\n",
       "      <td>Male</td>\n",
       "      <td>2013</td>\n",
       "      <td>Economics</td>\n",
       "      <td>Bowen University, Iwo</td>\n",
       "      <td>Higher National Diploma (HND)</td>\n",
       "      <td>Employed</td>\n",
       "      <td>4</td>\n",
       "      <td>Yes</td>\n",
       "      <td>2016.0</td>\n",
       "      <td>Strongly Disagree</td>\n",
       "      <td>2018</td>\n",
       "      <td>University</td>\n",
       "      <td>Private</td>\n",
       "    </tr>\n",
       "    <tr>\n",
       "      <th>8</th>\n",
       "      <td>Female</td>\n",
       "      <td>2017</td>\n",
       "      <td>Industrial Relations and Personnel Management</td>\n",
       "      <td>Covenant University Ota</td>\n",
       "      <td>Bachelor's degree</td>\n",
       "      <td>NYSC</td>\n",
       "      <td>2</td>\n",
       "      <td>No</td>\n",
       "      <td>2018.0</td>\n",
       "      <td>Agree</td>\n",
       "      <td>2018</td>\n",
       "      <td>University</td>\n",
       "      <td>Private</td>\n",
       "    </tr>\n",
       "    <tr>\n",
       "      <th>11</th>\n",
       "      <td>Male</td>\n",
       "      <td>2016</td>\n",
       "      <td>Banking and Finance</td>\n",
       "      <td>Covenant University Ota</td>\n",
       "      <td>Bachelor's degree</td>\n",
       "      <td>Employed</td>\n",
       "      <td>2</td>\n",
       "      <td>Yes</td>\n",
       "      <td>2017.0</td>\n",
       "      <td>Agree</td>\n",
       "      <td>2018</td>\n",
       "      <td>University</td>\n",
       "      <td>Private</td>\n",
       "    </tr>\n",
       "    <tr>\n",
       "      <th>18</th>\n",
       "      <td>Female</td>\n",
       "      <td>2017</td>\n",
       "      <td>Economics</td>\n",
       "      <td>Babcock University,Ilishan-Remo</td>\n",
       "      <td>Bachelor's degree</td>\n",
       "      <td>NYSC</td>\n",
       "      <td>2</td>\n",
       "      <td>No</td>\n",
       "      <td>2018.0</td>\n",
       "      <td>Agree</td>\n",
       "      <td>2018</td>\n",
       "      <td>University</td>\n",
       "      <td>Private</td>\n",
       "    </tr>\n",
       "  </tbody>\n",
       "</table>\n",
       "</div>"
      ],
      "text/plain": [
       "    Gender   YOG                                     Course Studied  \\\n",
       "3     Male  2017  Mass Communication (Communication and Language...   \n",
       "6     Male  2013                                          Economics   \n",
       "8   Female  2017      Industrial Relations and Personnel Management   \n",
       "11    Male  2016                                Banking and Finance   \n",
       "18  Female  2017                                          Economics   \n",
       "\n",
       "                   Pol/Uni Attended              Highest Education  \\\n",
       "3             Bowen University, Iwo                Master's degree   \n",
       "6             Bowen University, Iwo  Higher National Diploma (HND)   \n",
       "8           Covenant University Ota              Bachelor's degree   \n",
       "11          Covenant University Ota              Bachelor's degree   \n",
       "18  Babcock University,Ilishan-Remo              Bachelor's degree   \n",
       "\n",
       "   Employment Status  Jobs Had Post Graduation Completed NYSC  \\\n",
       "3      Self Employed                         0            Yes   \n",
       "6           Employed                         4            Yes   \n",
       "8               NYSC                         2             No   \n",
       "11          Employed                         2            Yes   \n",
       "18              NYSC                         2             No   \n",
       "\n",
       "    Year Complete/Completed NYSC Course Studied Prepared me For Employment  \\\n",
       "3                         2018.0                                       NaN   \n",
       "6                         2016.0                         Strongly Disagree   \n",
       "8                         2018.0                                     Agree   \n",
       "11                        2017.0                                     Agree   \n",
       "18                        2018.0                                     Agree   \n",
       "\n",
       "    present year InstitutionType Category  \n",
       "3           2018      University  Private  \n",
       "6           2018      University  Private  \n",
       "8           2018      University  Private  \n",
       "11          2018      University  Private  \n",
       "18          2018      University  Private  "
      ]
     },
     "execution_count": 80,
     "metadata": {},
     "output_type": "execute_result"
    }
   ],
   "source": [
    "# Filling the NaN values in the `Year Complete/Completed NYSC` column by adding 1 to the graduation year\n",
    "\n",
    "private_school['Year Complete/Completed NYSC'] = private_school['Year Complete/Completed NYSC'].fillna(private_school['YOG'] + 1)\n",
    "\n",
    "private_school.head()\n",
    "\n",
    "# the NaN value in the first column of the `Year Complete/Completed NYSC` has been replaced with an addition of 1 year to the graduation year"
   ]
  },
  {
   "cell_type": "code",
   "execution_count": null,
   "id": "63be7ef3",
   "metadata": {
    "id": "63be7ef3"
   },
   "outputs": [],
   "source": [
    "# Updating the original dataFrame with this changes\n",
    "new_data.update(private_school)"
   ]
  },
  {
   "cell_type": "code",
   "execution_count": null,
   "id": "74cbc7f3",
   "metadata": {
    "id": "74cbc7f3",
    "outputId": "179a5a20-3246-403f-d039-11abb3fb57e0"
   },
   "outputs": [
    {
     "data": {
      "text/plain": [
       "2017.0    1526\n",
       "2018.0     925\n",
       "NaN        807\n",
       "2016.0     800\n",
       "2015.0     546\n",
       "2014.0     311\n",
       "2019.0     223\n",
       "2013.0      75\n",
       "Name: Year Complete/Completed NYSC, dtype: int64"
      ]
     },
     "execution_count": 82,
     "metadata": {},
     "output_type": "execute_result"
    }
   ],
   "source": [
    "new_data[\"Year Complete/Completed NYSC\"].value_counts(dropna = False)"
   ]
  },
  {
   "cell_type": "markdown",
   "id": "94a10b70",
   "metadata": {
    "id": "94a10b70"
   },
   "source": [
    ">### Updating all rows containing `Public` as category"
   ]
  },
  {
   "cell_type": "code",
   "execution_count": null,
   "id": "5e453041",
   "metadata": {
    "id": "5e453041",
    "outputId": "57e98f1c-1a84-4a86-bdcd-14ca91da3d6f"
   },
   "outputs": [
    {
     "data": {
      "text/html": [
       "<div>\n",
       "<style scoped>\n",
       "    .dataframe tbody tr th:only-of-type {\n",
       "        vertical-align: middle;\n",
       "    }\n",
       "\n",
       "    .dataframe tbody tr th {\n",
       "        vertical-align: top;\n",
       "    }\n",
       "\n",
       "    .dataframe thead th {\n",
       "        text-align: right;\n",
       "    }\n",
       "</style>\n",
       "<table border=\"1\" class=\"dataframe\">\n",
       "  <thead>\n",
       "    <tr style=\"text-align: right;\">\n",
       "      <th></th>\n",
       "      <th>Gender</th>\n",
       "      <th>YOG</th>\n",
       "      <th>Course Studied</th>\n",
       "      <th>Pol/Uni Attended</th>\n",
       "      <th>Highest Education</th>\n",
       "      <th>Employment Status</th>\n",
       "      <th>Jobs Had Post Graduation</th>\n",
       "      <th>Completed NYSC</th>\n",
       "      <th>Year Complete/Completed NYSC</th>\n",
       "      <th>Course Studied Prepared me For Employment</th>\n",
       "      <th>present year</th>\n",
       "      <th>InstitutionType</th>\n",
       "      <th>Category</th>\n",
       "    </tr>\n",
       "  </thead>\n",
       "  <tbody>\n",
       "    <tr>\n",
       "      <th>1</th>\n",
       "      <td>Male</td>\n",
       "      <td>2014.0</td>\n",
       "      <td>Psychology</td>\n",
       "      <td>Obafemi Awolowo University,Ile-Ife</td>\n",
       "      <td>Bachelor's degree</td>\n",
       "      <td>Employed</td>\n",
       "      <td>2.0</td>\n",
       "      <td>Yes</td>\n",
       "      <td>2017.0</td>\n",
       "      <td>Strongly Disagree</td>\n",
       "      <td>2018.0</td>\n",
       "      <td>University</td>\n",
       "      <td>Public</td>\n",
       "    </tr>\n",
       "    <tr>\n",
       "      <th>2</th>\n",
       "      <td>Female</td>\n",
       "      <td>2013.0</td>\n",
       "      <td>Economics</td>\n",
       "      <td>Bells University of Technology, Otta</td>\n",
       "      <td>Bachelor's degree</td>\n",
       "      <td>Employed</td>\n",
       "      <td>2.0</td>\n",
       "      <td>Yes</td>\n",
       "      <td>NaN</td>\n",
       "      <td>Disagree</td>\n",
       "      <td>2018.0</td>\n",
       "      <td>University</td>\n",
       "      <td>Public</td>\n",
       "    </tr>\n",
       "    <tr>\n",
       "      <th>4</th>\n",
       "      <td>Female</td>\n",
       "      <td>2013.0</td>\n",
       "      <td>Statistics</td>\n",
       "      <td>Ekiti State University</td>\n",
       "      <td>Bachelor's degree</td>\n",
       "      <td>Employed</td>\n",
       "      <td>3.0</td>\n",
       "      <td>Yes</td>\n",
       "      <td>2016.0</td>\n",
       "      <td>Agree</td>\n",
       "      <td>2018.0</td>\n",
       "      <td>University</td>\n",
       "      <td>Public</td>\n",
       "    </tr>\n",
       "    <tr>\n",
       "      <th>5</th>\n",
       "      <td>Male</td>\n",
       "      <td>2015.0</td>\n",
       "      <td>Electrical &amp; Electronic Engineering</td>\n",
       "      <td>University of Benin</td>\n",
       "      <td>Bachelor's degree</td>\n",
       "      <td>Employed</td>\n",
       "      <td>2.0</td>\n",
       "      <td>No</td>\n",
       "      <td>2013.0</td>\n",
       "      <td>Agree</td>\n",
       "      <td>2018.0</td>\n",
       "      <td>University</td>\n",
       "      <td>Public</td>\n",
       "    </tr>\n",
       "    <tr>\n",
       "      <th>7</th>\n",
       "      <td>Male</td>\n",
       "      <td>2015.0</td>\n",
       "      <td>Accountancy</td>\n",
       "      <td>Obafemi Awolowo University,Ile-Ife</td>\n",
       "      <td>Bachelor's degree</td>\n",
       "      <td>Employed</td>\n",
       "      <td>1.0</td>\n",
       "      <td>Yes</td>\n",
       "      <td>2017.0</td>\n",
       "      <td>Agree</td>\n",
       "      <td>2018.0</td>\n",
       "      <td>University</td>\n",
       "      <td>Public</td>\n",
       "    </tr>\n",
       "  </tbody>\n",
       "</table>\n",
       "</div>"
      ],
      "text/plain": [
       "   Gender     YOG                       Course Studied  \\\n",
       "1    Male  2014.0                           Psychology   \n",
       "2  Female  2013.0                            Economics   \n",
       "4  Female  2013.0                           Statistics   \n",
       "5    Male  2015.0  Electrical & Electronic Engineering   \n",
       "7    Male  2015.0                          Accountancy   \n",
       "\n",
       "                       Pol/Uni Attended  Highest Education Employment Status  \\\n",
       "1    Obafemi Awolowo University,Ile-Ife  Bachelor's degree          Employed   \n",
       "2  Bells University of Technology, Otta  Bachelor's degree          Employed   \n",
       "4                Ekiti State University  Bachelor's degree          Employed   \n",
       "5                   University of Benin  Bachelor's degree          Employed   \n",
       "7    Obafemi Awolowo University,Ile-Ife  Bachelor's degree          Employed   \n",
       "\n",
       "   Jobs Had Post Graduation Completed NYSC  Year Complete/Completed NYSC  \\\n",
       "1                       2.0            Yes                        2017.0   \n",
       "2                       2.0            Yes                           NaN   \n",
       "4                       3.0            Yes                        2016.0   \n",
       "5                       2.0             No                        2013.0   \n",
       "7                       1.0            Yes                        2017.0   \n",
       "\n",
       "  Course Studied Prepared me For Employment  present year InstitutionType  \\\n",
       "1                         Strongly Disagree        2018.0      University   \n",
       "2                                  Disagree        2018.0      University   \n",
       "4                                     Agree        2018.0      University   \n",
       "5                                     Agree        2018.0      University   \n",
       "7                                     Agree        2018.0      University   \n",
       "\n",
       "  Category  \n",
       "1   Public  \n",
       "2   Public  \n",
       "4   Public  \n",
       "5   Public  \n",
       "7   Public  "
      ]
     },
     "execution_count": 83,
     "metadata": {},
     "output_type": "execute_result"
    }
   ],
   "source": [
    "# Filtering the rows where Category == 'Public' and creating a dataframe copy\n",
    "public_school = new_data.loc[new_data['Category'] == 'Public'].copy()\n",
    "public_school.head()\n"
   ]
  },
  {
   "cell_type": "code",
   "execution_count": null,
   "id": "ac79c7d3",
   "metadata": {
    "id": "ac79c7d3",
    "outputId": "ddced176-3cae-45e1-df37-33e38e41033d"
   },
   "outputs": [
    {
     "data": {
      "text/html": [
       "<div>\n",
       "<style scoped>\n",
       "    .dataframe tbody tr th:only-of-type {\n",
       "        vertical-align: middle;\n",
       "    }\n",
       "\n",
       "    .dataframe tbody tr th {\n",
       "        vertical-align: top;\n",
       "    }\n",
       "\n",
       "    .dataframe thead th {\n",
       "        text-align: right;\n",
       "    }\n",
       "</style>\n",
       "<table border=\"1\" class=\"dataframe\">\n",
       "  <thead>\n",
       "    <tr style=\"text-align: right;\">\n",
       "      <th></th>\n",
       "      <th>Gender</th>\n",
       "      <th>YOG</th>\n",
       "      <th>Course Studied</th>\n",
       "      <th>Pol/Uni Attended</th>\n",
       "      <th>Highest Education</th>\n",
       "      <th>Employment Status</th>\n",
       "      <th>Jobs Had Post Graduation</th>\n",
       "      <th>Completed NYSC</th>\n",
       "      <th>Year Complete/Completed NYSC</th>\n",
       "      <th>Course Studied Prepared me For Employment</th>\n",
       "      <th>present year</th>\n",
       "      <th>InstitutionType</th>\n",
       "      <th>Category</th>\n",
       "    </tr>\n",
       "  </thead>\n",
       "  <tbody>\n",
       "    <tr>\n",
       "      <th>1</th>\n",
       "      <td>Male</td>\n",
       "      <td>2014.0</td>\n",
       "      <td>Psychology</td>\n",
       "      <td>Obafemi Awolowo University,Ile-Ife</td>\n",
       "      <td>Bachelor's degree</td>\n",
       "      <td>Employed</td>\n",
       "      <td>2.0</td>\n",
       "      <td>Yes</td>\n",
       "      <td>2017.0</td>\n",
       "      <td>Strongly Disagree</td>\n",
       "      <td>2018.0</td>\n",
       "      <td>University</td>\n",
       "      <td>Public</td>\n",
       "    </tr>\n",
       "    <tr>\n",
       "      <th>2</th>\n",
       "      <td>Female</td>\n",
       "      <td>2013.0</td>\n",
       "      <td>Economics</td>\n",
       "      <td>Bells University of Technology, Otta</td>\n",
       "      <td>Bachelor's degree</td>\n",
       "      <td>Employed</td>\n",
       "      <td>2.0</td>\n",
       "      <td>Yes</td>\n",
       "      <td>2015.0</td>\n",
       "      <td>Disagree</td>\n",
       "      <td>2018.0</td>\n",
       "      <td>University</td>\n",
       "      <td>Public</td>\n",
       "    </tr>\n",
       "    <tr>\n",
       "      <th>4</th>\n",
       "      <td>Female</td>\n",
       "      <td>2013.0</td>\n",
       "      <td>Statistics</td>\n",
       "      <td>Ekiti State University</td>\n",
       "      <td>Bachelor's degree</td>\n",
       "      <td>Employed</td>\n",
       "      <td>3.0</td>\n",
       "      <td>Yes</td>\n",
       "      <td>2016.0</td>\n",
       "      <td>Agree</td>\n",
       "      <td>2018.0</td>\n",
       "      <td>University</td>\n",
       "      <td>Public</td>\n",
       "    </tr>\n",
       "    <tr>\n",
       "      <th>5</th>\n",
       "      <td>Male</td>\n",
       "      <td>2015.0</td>\n",
       "      <td>Electrical &amp; Electronic Engineering</td>\n",
       "      <td>University of Benin</td>\n",
       "      <td>Bachelor's degree</td>\n",
       "      <td>Employed</td>\n",
       "      <td>2.0</td>\n",
       "      <td>No</td>\n",
       "      <td>2013.0</td>\n",
       "      <td>Agree</td>\n",
       "      <td>2018.0</td>\n",
       "      <td>University</td>\n",
       "      <td>Public</td>\n",
       "    </tr>\n",
       "    <tr>\n",
       "      <th>7</th>\n",
       "      <td>Male</td>\n",
       "      <td>2015.0</td>\n",
       "      <td>Accountancy</td>\n",
       "      <td>Obafemi Awolowo University,Ile-Ife</td>\n",
       "      <td>Bachelor's degree</td>\n",
       "      <td>Employed</td>\n",
       "      <td>1.0</td>\n",
       "      <td>Yes</td>\n",
       "      <td>2017.0</td>\n",
       "      <td>Agree</td>\n",
       "      <td>2018.0</td>\n",
       "      <td>University</td>\n",
       "      <td>Public</td>\n",
       "    </tr>\n",
       "  </tbody>\n",
       "</table>\n",
       "</div>"
      ],
      "text/plain": [
       "   Gender     YOG                       Course Studied  \\\n",
       "1    Male  2014.0                           Psychology   \n",
       "2  Female  2013.0                            Economics   \n",
       "4  Female  2013.0                           Statistics   \n",
       "5    Male  2015.0  Electrical & Electronic Engineering   \n",
       "7    Male  2015.0                          Accountancy   \n",
       "\n",
       "                       Pol/Uni Attended  Highest Education Employment Status  \\\n",
       "1    Obafemi Awolowo University,Ile-Ife  Bachelor's degree          Employed   \n",
       "2  Bells University of Technology, Otta  Bachelor's degree          Employed   \n",
       "4                Ekiti State University  Bachelor's degree          Employed   \n",
       "5                   University of Benin  Bachelor's degree          Employed   \n",
       "7    Obafemi Awolowo University,Ile-Ife  Bachelor's degree          Employed   \n",
       "\n",
       "   Jobs Had Post Graduation Completed NYSC  Year Complete/Completed NYSC  \\\n",
       "1                       2.0            Yes                        2017.0   \n",
       "2                       2.0            Yes                        2015.0   \n",
       "4                       3.0            Yes                        2016.0   \n",
       "5                       2.0             No                        2013.0   \n",
       "7                       1.0            Yes                        2017.0   \n",
       "\n",
       "  Course Studied Prepared me For Employment  present year InstitutionType  \\\n",
       "1                         Strongly Disagree        2018.0      University   \n",
       "2                                  Disagree        2018.0      University   \n",
       "4                                     Agree        2018.0      University   \n",
       "5                                     Agree        2018.0      University   \n",
       "7                                     Agree        2018.0      University   \n",
       "\n",
       "  Category  \n",
       "1   Public  \n",
       "2   Public  \n",
       "4   Public  \n",
       "5   Public  \n",
       "7   Public  "
      ]
     },
     "execution_count": 84,
     "metadata": {},
     "output_type": "execute_result"
    }
   ],
   "source": [
    "# Filling the NaN values in the `Year Complete/Completed NYSC` column by adding 2 to the graduation year\n",
    "\n",
    "public_school['Year Complete/Completed NYSC'] = public_school['Year Complete/Completed NYSC'].fillna(public_school['YOG'] + 2)\n",
    "\n",
    "public_school.head()\n",
    "\n",
    "# the NaN value in the first column of the `Year Complete/Completed NYSC` has been replaced with an addition of 1 year to the graduation year"
   ]
  },
  {
   "cell_type": "code",
   "execution_count": null,
   "id": "6a50371a",
   "metadata": {
    "id": "6a50371a"
   },
   "outputs": [],
   "source": [
    "# Updating the original dataFrame with this changes\n",
    "new_data.update(public_school)"
   ]
  },
  {
   "cell_type": "code",
   "execution_count": null,
   "id": "5f7befe9",
   "metadata": {
    "id": "5f7befe9",
    "outputId": "b98bf809-ea11-44b2-e601-7f14ae4c45fa"
   },
   "outputs": [
    {
     "data": {
      "text/plain": [
       "2017.0    1609\n",
       "2018.0    1038\n",
       "2016.0     847\n",
       "2019.0     747\n",
       "2015.0     586\n",
       "2014.0     311\n",
       "2013.0      75\n",
       "Name: Year Complete/Completed NYSC, dtype: int64"
      ]
     },
     "execution_count": 86,
     "metadata": {},
     "output_type": "execute_result"
    }
   ],
   "source": [
    "# Frequency of unique values\n",
    "new_data[\"Year Complete/Completed NYSC\"].value_counts(dropna = False)"
   ]
  },
  {
   "cell_type": "code",
   "execution_count": null,
   "id": "bc05e931",
   "metadata": {
    "id": "bc05e931",
    "outputId": "de5cd022-232b-4758-9cf3-802eeede3205"
   },
   "outputs": [
    {
     "data": {
      "image/png": "[encoded data removed]",
      "text/plain": [
       "<Figure size 1800x1200 with 2 Axes>"
      ]
     },
     "metadata": {},
     "output_type": "display_data"
    }
   ],
   "source": [
    "# plot showing missing data. The color indicates the presence of missing values\n",
    "py.figure(figsize= (18,12))\n",
    "\n",
    "py.title('Missing Data')\n",
    "sns.heatmap(new_data.isnull())\n",
    "py.show()\n",
    "\n",
    "# All the missing values in the `Year Complete/Completed NYSC` have been filled"
   ]
  },
  {
   "cell_type": "markdown",
   "id": "69ede691",
   "metadata": {
    "id": "69ede691"
   },
   "source": [
    "### 11. Course Studied Prepared me For Employment"
   ]
  },
  {
   "cell_type": "code",
   "execution_count": null,
   "id": "514359a5",
   "metadata": {
    "id": "514359a5",
    "outputId": "7af78e8e-12e5-4be1-d295-bb61e5eca021"
   },
   "outputs": [
    {
     "data": {
      "text/plain": [
       "NaN                  1784\n",
       "Agree                1574\n",
       "Strongly Agree        806\n",
       "Disagree              640\n",
       "Strongly Disagree     409\n",
       "Name: Course Studied Prepared me For Employment, dtype: int64"
      ]
     },
     "execution_count": 88,
     "metadata": {},
     "output_type": "execute_result"
    }
   ],
   "source": [
    "new_data[\"Course Studied Prepared me For Employment\"].value_counts(dropna = False)"
   ]
  },
  {
   "cell_type": "code",
   "execution_count": null,
   "id": "f1b8390f",
   "metadata": {
    "id": "f1b8390f",
    "outputId": "bc931dc0-deaf-4601-c9b1-dc0aa62c87ec"
   },
   "outputs": [
    {
     "data": {
      "text/plain": [
       "1784"
      ]
     },
     "execution_count": 89,
     "metadata": {},
     "output_type": "execute_result"
    }
   ],
   "source": [
    "new_data[\"Course Studied Prepared me For Employment\"].isna().sum()"
   ]
  },
  {
   "cell_type": "markdown",
   "id": "3c28a272",
   "metadata": {
    "id": "3c28a272"
   },
   "source": [
    "> ### Since we have missing values, we need to clean and fill them up\n",
    "1. First we need to determine the relative frequency of each response value in the column and save this in the variable frequency (a pandas series).\n",
    "2. Then we use the `fillna' method to fill NaN values at random"
   ]
  },
  {
   "cell_type": "code",
   "execution_count": null,
   "id": "d7ba5968",
   "metadata": {
    "id": "d7ba5968",
    "outputId": "4ad82512-5bb2-4dee-96e4-f30ce00b1d8c"
   },
   "outputs": [
    {
     "data": {
      "text/plain": [
       "Agree                0.459026\n",
       "Strongly Agree       0.235054\n",
       "Disagree             0.186643\n",
       "Strongly Disagree    0.119277\n",
       "Name: Course Studied Prepared me For Employment, dtype: float64"
      ]
     },
     "execution_count": 90,
     "metadata": {},
     "output_type": "execute_result"
    }
   ],
   "source": [
    "# Determining the relative frequency\n",
    "frequency = new_data[\"Course Studied Prepared me For Employment\"].value_counts(normalize = True)\n",
    "\n",
    "frequency"
   ]
  },
  {
   "cell_type": "code",
   "execution_count": null,
   "id": "e8d0a11a",
   "metadata": {
    "id": "e8d0a11a"
   },
   "outputs": [],
   "source": [
    "# filling NaN values with `Agree`, `Strongly Agree`, `Disagree`, `Strongly Disagree`\n",
    "\n",
    "new_data[\"Course Studied Prepared me For Employment\"] = new_data[\"Course Studied Prepared me For Employment\"].fillna(pd.Series(np.random.choice(frequency.index, size = len(new_data.index), p= frequency.values)))\n",
    "\n"
   ]
  },
  {
   "cell_type": "code",
   "execution_count": null,
   "id": "f822f2e0",
   "metadata": {
    "id": "f822f2e0",
    "outputId": "e81e94dc-847f-4457-dfda-bbccde413173"
   },
   "outputs": [
    {
     "data": {
      "text/plain": [
       "Agree                2398\n",
       "Strongly Agree       1234\n",
       "Disagree              960\n",
       "Strongly Disagree     618\n",
       "NaN                     3\n",
       "Name: Course Studied Prepared me For Employment, dtype: int64"
      ]
     },
     "execution_count": 92,
     "metadata": {},
     "output_type": "execute_result"
    }
   ],
   "source": [
    "new_data[\"Course Studied Prepared me For Employment\"].value_counts(dropna = False)"
   ]
  },
  {
   "cell_type": "code",
   "execution_count": null,
   "id": "226b7ab8",
   "metadata": {
    "id": "226b7ab8"
   },
   "outputs": [],
   "source": [
    "# filling the remaining nan values with the mode (highest occuring)\n",
    "mode = new_data[\"Course Studied Prepared me For Employment\"].mode()[0]\n",
    "new_data[\"Course Studied Prepared me For Employment\"] = new_data[\"Course Studied Prepared me For Employment\"].fillna(mode)"
   ]
  },
  {
   "cell_type": "code",
   "execution_count": null,
   "id": "59374491",
   "metadata": {
    "id": "59374491",
    "outputId": "267135f9-e8ba-4bc3-fff3-2a5ed6efc007"
   },
   "outputs": [
    {
     "data": {
      "text/plain": [
       "Agree                2401\n",
       "Strongly Agree       1234\n",
       "Disagree              960\n",
       "Strongly Disagree     618\n",
       "Name: Course Studied Prepared me For Employment, dtype: int64"
      ]
     },
     "execution_count": 94,
     "metadata": {},
     "output_type": "execute_result"
    }
   ],
   "source": [
    "new_data[\"Course Studied Prepared me For Employment\"].value_counts(dropna = False)"
   ]
  },
  {
   "cell_type": "code",
   "execution_count": null,
   "id": "2624f736",
   "metadata": {
    "id": "2624f736",
    "outputId": "a701e83a-6a62-40ef-85d0-30370c4908da"
   },
   "outputs": [
    {
     "data": {
      "image/png": "[encoded data removed]",
      "text/plain": [
       "<Figure size 1800x1200 with 2 Axes>"
      ]
     },
     "metadata": {},
     "output_type": "display_data"
    }
   ],
   "source": [
    "# plot showing missing data. The color indicates the presence of missing values\n",
    "py.figure(figsize= (18,12))\n",
    "\n",
    "py.title('Missing Data')\n",
    "sns.heatmap(new_data.isnull())\n",
    "py.show()\n",
    "\n",
    "# All the missing values in the `DataFrame` have been filled"
   ]
  },
  {
   "cell_type": "code",
   "execution_count": null,
   "id": "f9f2aac2",
   "metadata": {
    "id": "f9f2aac2",
    "outputId": "005dfd1a-6282-4fc2-e789-35f190f7cb7a",
    "scrolled": true
   },
   "outputs": [
    {
     "data": {
      "text/html": [
       "<div>\n",
       "<style scoped>\n",
       "    .dataframe tbody tr th:only-of-type {\n",
       "        vertical-align: middle;\n",
       "    }\n",
       "\n",
       "    .dataframe tbody tr th {\n",
       "        vertical-align: top;\n",
       "    }\n",
       "\n",
       "    .dataframe thead th {\n",
       "        text-align: right;\n",
       "    }\n",
       "</style>\n",
       "<table border=\"1\" class=\"dataframe\">\n",
       "  <thead>\n",
       "    <tr style=\"text-align: right;\">\n",
       "      <th></th>\n",
       "      <th>Gender</th>\n",
       "      <th>YOG</th>\n",
       "      <th>Course Studied</th>\n",
       "      <th>Pol/Uni Attended</th>\n",
       "      <th>Highest Education</th>\n",
       "      <th>Employment Status</th>\n",
       "      <th>Jobs Had Post Graduation</th>\n",
       "      <th>Completed NYSC</th>\n",
       "      <th>Year Complete/Completed NYSC</th>\n",
       "      <th>Course Studied Prepared me For Employment</th>\n",
       "      <th>present year</th>\n",
       "      <th>InstitutionType</th>\n",
       "      <th>Category</th>\n",
       "    </tr>\n",
       "  </thead>\n",
       "  <tbody>\n",
       "    <tr>\n",
       "      <th>1</th>\n",
       "      <td>Male</td>\n",
       "      <td>2014.0</td>\n",
       "      <td>Psychology</td>\n",
       "      <td>Obafemi Awolowo University,Ile-Ife</td>\n",
       "      <td>Bachelor's degree</td>\n",
       "      <td>Employed</td>\n",
       "      <td>2.0</td>\n",
       "      <td>Yes</td>\n",
       "      <td>2017.0</td>\n",
       "      <td>Strongly Disagree</td>\n",
       "      <td>2018.0</td>\n",
       "      <td>University</td>\n",
       "      <td>Public</td>\n",
       "    </tr>\n",
       "    <tr>\n",
       "      <th>2</th>\n",
       "      <td>Female</td>\n",
       "      <td>2013.0</td>\n",
       "      <td>Economics</td>\n",
       "      <td>Bells University of Technology, Otta</td>\n",
       "      <td>Bachelor's degree</td>\n",
       "      <td>Employed</td>\n",
       "      <td>2.0</td>\n",
       "      <td>Yes</td>\n",
       "      <td>2015.0</td>\n",
       "      <td>Disagree</td>\n",
       "      <td>2018.0</td>\n",
       "      <td>University</td>\n",
       "      <td>Public</td>\n",
       "    </tr>\n",
       "    <tr>\n",
       "      <th>3</th>\n",
       "      <td>Male</td>\n",
       "      <td>2017.0</td>\n",
       "      <td>Mass Communication (Communication and Language...</td>\n",
       "      <td>Bowen University, Iwo</td>\n",
       "      <td>Master's degree</td>\n",
       "      <td>Self Employed</td>\n",
       "      <td>0.0</td>\n",
       "      <td>Yes</td>\n",
       "      <td>2018.0</td>\n",
       "      <td>Agree</td>\n",
       "      <td>2018.0</td>\n",
       "      <td>University</td>\n",
       "      <td>Private</td>\n",
       "    </tr>\n",
       "    <tr>\n",
       "      <th>4</th>\n",
       "      <td>Female</td>\n",
       "      <td>2013.0</td>\n",
       "      <td>Statistics</td>\n",
       "      <td>Ekiti State University</td>\n",
       "      <td>Bachelor's degree</td>\n",
       "      <td>Employed</td>\n",
       "      <td>3.0</td>\n",
       "      <td>Yes</td>\n",
       "      <td>2016.0</td>\n",
       "      <td>Agree</td>\n",
       "      <td>2018.0</td>\n",
       "      <td>University</td>\n",
       "      <td>Public</td>\n",
       "    </tr>\n",
       "    <tr>\n",
       "      <th>5</th>\n",
       "      <td>Male</td>\n",
       "      <td>2015.0</td>\n",
       "      <td>Electrical &amp; Electronic Engineering</td>\n",
       "      <td>University of Benin</td>\n",
       "      <td>Bachelor's degree</td>\n",
       "      <td>Employed</td>\n",
       "      <td>2.0</td>\n",
       "      <td>No</td>\n",
       "      <td>2013.0</td>\n",
       "      <td>Agree</td>\n",
       "      <td>2018.0</td>\n",
       "      <td>University</td>\n",
       "      <td>Public</td>\n",
       "    </tr>\n",
       "  </tbody>\n",
       "</table>\n",
       "</div>"
      ],
      "text/plain": [
       "   Gender     YOG                                     Course Studied  \\\n",
       "1    Male  2014.0                                         Psychology   \n",
       "2  Female  2013.0                                          Economics   \n",
       "3    Male  2017.0  Mass Communication (Communication and Language...   \n",
       "4  Female  2013.0                                         Statistics   \n",
       "5    Male  2015.0                Electrical & Electronic Engineering   \n",
       "\n",
       "                       Pol/Uni Attended  Highest Education Employment Status  \\\n",
       "1    Obafemi Awolowo University,Ile-Ife  Bachelor's degree          Employed   \n",
       "2  Bells University of Technology, Otta  Bachelor's degree          Employed   \n",
       "3                 Bowen University, Iwo    Master's degree     Self Employed   \n",
       "4                Ekiti State University  Bachelor's degree          Employed   \n",
       "5                   University of Benin  Bachelor's degree          Employed   \n",
       "\n",
       "   Jobs Had Post Graduation Completed NYSC  Year Complete/Completed NYSC  \\\n",
       "1                       2.0            Yes                        2017.0   \n",
       "2                       2.0            Yes                        2015.0   \n",
       "3                       0.0            Yes                        2018.0   \n",
       "4                       3.0            Yes                        2016.0   \n",
       "5                       2.0             No                        2013.0   \n",
       "\n",
       "  Course Studied Prepared me For Employment  present year InstitutionType  \\\n",
       "1                         Strongly Disagree        2018.0      University   \n",
       "2                                  Disagree        2018.0      University   \n",
       "3                                     Agree        2018.0      University   \n",
       "4                                     Agree        2018.0      University   \n",
       "5                                     Agree        2018.0      University   \n",
       "\n",
       "  Category  \n",
       "1   Public  \n",
       "2   Public  \n",
       "3  Private  \n",
       "4   Public  \n",
       "5   Public  "
      ]
     },
     "execution_count": 96,
     "metadata": {},
     "output_type": "execute_result"
    }
   ],
   "source": [
    "new_data.head()"
   ]
  },
  {
   "cell_type": "code",
   "execution_count": null,
   "id": "b14d4df1",
   "metadata": {
    "id": "b14d4df1",
    "outputId": "096a4223-af85-48cf-a787-166678892dd1"
   },
   "outputs": [
    {
     "name": "stdout",
     "output_type": "stream",
     "text": [
      "<class 'pandas.core.frame.DataFrame'>\n",
      "Int64Index: 5213 entries, 1 to 5218\n",
      "Data columns (total 13 columns):\n",
      " #   Column                                     Non-Null Count  Dtype  \n",
      "---  ------                                     --------------  -----  \n",
      " 0   Gender                                     5213 non-null   object \n",
      " 1   YOG                                        5213 non-null   float64\n",
      " 2   Course Studied                             5213 non-null   object \n",
      " 3   Pol/Uni Attended                           5213 non-null   object \n",
      " 4   Highest Education                          5213 non-null   object \n",
      " 5   Employment Status                          5213 non-null   object \n",
      " 6   Jobs Had Post Graduation                   5213 non-null   float64\n",
      " 7   Completed NYSC                             5213 non-null   object \n",
      " 8   Year Complete/Completed NYSC               5213 non-null   float64\n",
      " 9   Course Studied Prepared me For Employment  5213 non-null   object \n",
      " 10  present year                               5213 non-null   float64\n",
      " 11  InstitutionType                            5213 non-null   object \n",
      " 12  Category                                   5213 non-null   object \n",
      "dtypes: float64(4), object(9)\n",
      "memory usage: 570.2+ KB\n"
     ]
    }
   ],
   "source": [
    "new_data.info()"
   ]
  },
  {
   "cell_type": "markdown",
   "id": "8a584727",
   "metadata": {
    "id": "8a584727"
   },
   "source": [
    "<a id='eda'></a>\n",
    "# EXPLORATORY DATA ANALYSIS"
   ]
  },
  {
   "cell_type": "markdown",
   "id": "343accd3",
   "metadata": {
    "id": "343accd3"
   },
   "source": [
    "1. Can the employability of graduates from Nigerian universities be correlated with the academic programs they pursued during their undergraduate studies?\n",
    "\n",
    "\n",
    "2. Assessing Influence of a type tertiary institutions on employability for Nigerian graduates. (That is Private or Public Universities.)\n",
    "\n",
    "\n",
    "3. Evaluating the importance of (NYSC) program to Nigerian graduates. (If it boosts their chances of employment after graduation)."
   ]
  },
  {
   "cell_type": "code",
   "execution_count": null,
   "id": "f7d6a751",
   "metadata": {
    "id": "f7d6a751"
   },
   "outputs": [],
   "source": [
    "new_data[\"YOG\"] = new_data[\"YOG\"].astype(int)\n",
    "new_data[\"Year Complete/Completed NYSC\"] = new_data[\"Year Complete/Completed NYSC\"].astype(int)\n",
    "new_data[\"present year\"] = new_data[\"present year\"].astype(int)"
   ]
  },
  {
   "cell_type": "code",
   "execution_count": null,
   "id": "27788429",
   "metadata": {
    "id": "27788429",
    "outputId": "53218bb9-03b3-413f-9c85-eeb6cb4ed232",
    "scrolled": false
   },
   "outputs": [
    {
     "data": {
      "text/plain": [
       "3.0    1326\n",
       "1.0    1257\n",
       "2.0    1213\n",
       "4.0     824\n",
       "5.0     593\n",
       "Name: years since graduation, dtype: int64"
      ]
     },
     "execution_count": 113,
     "metadata": {},
     "output_type": "execute_result"
    }
   ],
   "source": [
    "#before carrying out EDA, add a column to show \"how long they graduated(in years)\"\n",
    "#this can be shown by:  present year - YOG\n",
    "\n",
    "new_data[\"years since graduation\"] = new_data[\"present year\"] - new_data[\"YOG\"]\n",
    "new_data[\"years since graduation\"].value_counts()"
   ]
  },
  {
   "cell_type": "code",
   "execution_count": null,
   "id": "a0f4aad0",
   "metadata": {
    "id": "a0f4aad0",
    "outputId": "be3f108a-5144-4ea3-a281-9ecc05625f0a",
    "scrolled": true
   },
   "outputs": [
    {
     "data": {
      "text/html": [
       "<div>\n",
       "<style scoped>\n",
       "    .dataframe tbody tr th:only-of-type {\n",
       "        vertical-align: middle;\n",
       "    }\n",
       "\n",
       "    .dataframe tbody tr th {\n",
       "        vertical-align: top;\n",
       "    }\n",
       "\n",
       "    .dataframe thead th {\n",
       "        text-align: right;\n",
       "    }\n",
       "</style>\n",
       "<table border=\"1\" class=\"dataframe\">\n",
       "  <thead>\n",
       "    <tr style=\"text-align: right;\">\n",
       "      <th></th>\n",
       "      <th>Gender</th>\n",
       "      <th>YOG</th>\n",
       "      <th>Course Studied</th>\n",
       "      <th>Pol/Uni Attended</th>\n",
       "      <th>Highest Education</th>\n",
       "      <th>Employment Status</th>\n",
       "      <th>Jobs Had Post Graduation</th>\n",
       "      <th>Completed NYSC</th>\n",
       "      <th>Year Complete/Completed NYSC</th>\n",
       "      <th>Course Studied Prepared me For Employment</th>\n",
       "      <th>present year</th>\n",
       "      <th>InstitutionType</th>\n",
       "      <th>Category</th>\n",
       "      <th>years since graduation</th>\n",
       "    </tr>\n",
       "  </thead>\n",
       "  <tbody>\n",
       "    <tr>\n",
       "      <th>1</th>\n",
       "      <td>Male</td>\n",
       "      <td>2014</td>\n",
       "      <td>Psychology</td>\n",
       "      <td>Obafemi Awolowo University,Ile-Ife</td>\n",
       "      <td>Bachelor's degree</td>\n",
       "      <td>Employed</td>\n",
       "      <td>2.0</td>\n",
       "      <td>Yes</td>\n",
       "      <td>2017</td>\n",
       "      <td>Strongly Disagree</td>\n",
       "      <td>2018</td>\n",
       "      <td>University</td>\n",
       "      <td>Public</td>\n",
       "      <td>4.0</td>\n",
       "    </tr>\n",
       "    <tr>\n",
       "      <th>2</th>\n",
       "      <td>Female</td>\n",
       "      <td>2013</td>\n",
       "      <td>Economics</td>\n",
       "      <td>Bells University of Technology, Otta</td>\n",
       "      <td>Bachelor's degree</td>\n",
       "      <td>Employed</td>\n",
       "      <td>2.0</td>\n",
       "      <td>Yes</td>\n",
       "      <td>2015</td>\n",
       "      <td>Disagree</td>\n",
       "      <td>2018</td>\n",
       "      <td>University</td>\n",
       "      <td>Public</td>\n",
       "      <td>5.0</td>\n",
       "    </tr>\n",
       "    <tr>\n",
       "      <th>3</th>\n",
       "      <td>Male</td>\n",
       "      <td>2017</td>\n",
       "      <td>Mass Communication (Communication and Language...</td>\n",
       "      <td>Bowen University, Iwo</td>\n",
       "      <td>Master's degree</td>\n",
       "      <td>Self Employed</td>\n",
       "      <td>0.0</td>\n",
       "      <td>Yes</td>\n",
       "      <td>2018</td>\n",
       "      <td>Agree</td>\n",
       "      <td>2018</td>\n",
       "      <td>University</td>\n",
       "      <td>Private</td>\n",
       "      <td>1.0</td>\n",
       "    </tr>\n",
       "    <tr>\n",
       "      <th>4</th>\n",
       "      <td>Female</td>\n",
       "      <td>2013</td>\n",
       "      <td>Statistics</td>\n",
       "      <td>Ekiti State University</td>\n",
       "      <td>Bachelor's degree</td>\n",
       "      <td>Employed</td>\n",
       "      <td>3.0</td>\n",
       "      <td>Yes</td>\n",
       "      <td>2016</td>\n",
       "      <td>Agree</td>\n",
       "      <td>2018</td>\n",
       "      <td>University</td>\n",
       "      <td>Public</td>\n",
       "      <td>5.0</td>\n",
       "    </tr>\n",
       "    <tr>\n",
       "      <th>5</th>\n",
       "      <td>Male</td>\n",
       "      <td>2015</td>\n",
       "      <td>Electrical &amp; Electronic Engineering</td>\n",
       "      <td>University of Benin</td>\n",
       "      <td>Bachelor's degree</td>\n",
       "      <td>Employed</td>\n",
       "      <td>2.0</td>\n",
       "      <td>No</td>\n",
       "      <td>2013</td>\n",
       "      <td>Agree</td>\n",
       "      <td>2018</td>\n",
       "      <td>University</td>\n",
       "      <td>Public</td>\n",
       "      <td>3.0</td>\n",
       "    </tr>\n",
       "  </tbody>\n",
       "</table>\n",
       "</div>"
      ],
      "text/plain": [
       "   Gender   YOG                                     Course Studied  \\\n",
       "1    Male  2014                                         Psychology   \n",
       "2  Female  2013                                          Economics   \n",
       "3    Male  2017  Mass Communication (Communication and Language...   \n",
       "4  Female  2013                                         Statistics   \n",
       "5    Male  2015                Electrical & Electronic Engineering   \n",
       "\n",
       "                       Pol/Uni Attended  Highest Education Employment Status  \\\n",
       "1    Obafemi Awolowo University,Ile-Ife  Bachelor's degree          Employed   \n",
       "2  Bells University of Technology, Otta  Bachelor's degree          Employed   \n",
       "3                 Bowen University, Iwo    Master's degree     Self Employed   \n",
       "4                Ekiti State University  Bachelor's degree          Employed   \n",
       "5                   University of Benin  Bachelor's degree          Employed   \n",
       "\n",
       "   Jobs Had Post Graduation Completed NYSC  Year Complete/Completed NYSC  \\\n",
       "1                       2.0            Yes                          2017   \n",
       "2                       2.0            Yes                          2015   \n",
       "3                       0.0            Yes                          2018   \n",
       "4                       3.0            Yes                          2016   \n",
       "5                       2.0             No                          2013   \n",
       "\n",
       "  Course Studied Prepared me For Employment  present year InstitutionType  \\\n",
       "1                         Strongly Disagree          2018      University   \n",
       "2                                  Disagree          2018      University   \n",
       "3                                     Agree          2018      University   \n",
       "4                                     Agree          2018      University   \n",
       "5                                     Agree          2018      University   \n",
       "\n",
       "  Category  years since graduation  \n",
       "1   Public                     4.0  \n",
       "2   Public                     5.0  \n",
       "3  Private                     1.0  \n",
       "4   Public                     5.0  \n",
       "5   Public                     3.0  "
      ]
     },
     "execution_count": 126,
     "metadata": {},
     "output_type": "execute_result"
    }
   ],
   "source": [
    "new_data.head()"
   ]
  },
  {
   "cell_type": "markdown",
   "id": "aaa7edb6",
   "metadata": {
    "id": "aaa7edb6"
   },
   "source": [
    "### EDA Question 1"
   ]
  },
  {
   "cell_type": "code",
   "execution_count": null,
   "id": "05b57ec4",
   "metadata": {
    "id": "05b57ec4",
    "outputId": "7f35e0f6-471b-4cd6-dbd0-e69c592208ae",
    "scrolled": true
   },
   "outputs": [
    {
     "data": {
      "text/html": [
       "<div>\n",
       "<style scoped>\n",
       "    .dataframe tbody tr th:only-of-type {\n",
       "        vertical-align: middle;\n",
       "    }\n",
       "\n",
       "    .dataframe tbody tr th {\n",
       "        vertical-align: top;\n",
       "    }\n",
       "\n",
       "    .dataframe thead th {\n",
       "        text-align: right;\n",
       "    }\n",
       "</style>\n",
       "<table border=\"1\" class=\"dataframe\">\n",
       "  <thead>\n",
       "    <tr style=\"text-align: right;\">\n",
       "      <th>Course Studied Prepared me For Employment</th>\n",
       "      <th>Agree</th>\n",
       "      <th>Disagree</th>\n",
       "      <th>Strongly Agree</th>\n",
       "      <th>Strongly Disagree</th>\n",
       "    </tr>\n",
       "    <tr>\n",
       "      <th>Employment Status</th>\n",
       "      <th></th>\n",
       "      <th></th>\n",
       "      <th></th>\n",
       "      <th></th>\n",
       "    </tr>\n",
       "  </thead>\n",
       "  <tbody>\n",
       "    <tr>\n",
       "      <th>Employed</th>\n",
       "      <td>677</td>\n",
       "      <td>272</td>\n",
       "      <td>375</td>\n",
       "      <td>194</td>\n",
       "    </tr>\n",
       "    <tr>\n",
       "      <th>NYSC</th>\n",
       "      <td>439</td>\n",
       "      <td>139</td>\n",
       "      <td>183</td>\n",
       "      <td>81</td>\n",
       "    </tr>\n",
       "    <tr>\n",
       "      <th>Self Employed</th>\n",
       "      <td>302</td>\n",
       "      <td>126</td>\n",
       "      <td>171</td>\n",
       "      <td>99</td>\n",
       "    </tr>\n",
       "    <tr>\n",
       "      <th>Studying</th>\n",
       "      <td>186</td>\n",
       "      <td>55</td>\n",
       "      <td>91</td>\n",
       "      <td>47</td>\n",
       "    </tr>\n",
       "    <tr>\n",
       "      <th>Unemployed</th>\n",
       "      <td>797</td>\n",
       "      <td>368</td>\n",
       "      <td>414</td>\n",
       "      <td>197</td>\n",
       "    </tr>\n",
       "  </tbody>\n",
       "</table>\n",
       "</div>"
      ],
      "text/plain": [
       "Course Studied Prepared me For Employment  Agree  Disagree  Strongly Agree  \\\n",
       "Employment Status                                                            \n",
       "Employed                                     677       272             375   \n",
       "NYSC                                         439       139             183   \n",
       "Self Employed                                302       126             171   \n",
       "Studying                                     186        55              91   \n",
       "Unemployed                                   797       368             414   \n",
       "\n",
       "Course Studied Prepared me For Employment  Strongly Disagree  \n",
       "Employment Status                                             \n",
       "Employed                                                 194  \n",
       "NYSC                                                      81  \n",
       "Self Employed                                             99  \n",
       "Studying                                                  47  \n",
       "Unemployed                                               197  "
      ]
     },
     "execution_count": 99,
     "metadata": {},
     "output_type": "execute_result"
    }
   ],
   "source": [
    "#generate a contigency table for \"employment status\" and \"Course Studied Prepared me For Employment\"\n",
    "\n",
    "cont_table_1 = pd.crosstab(new_data[\"Employment Status\"], new_data[\"Course Studied Prepared me For Employment\"])\n",
    "\n",
    "cont_table_1    #shows the frequency of each class in \"employment status\" and \"Course Studied Prepared me For Employment\""
   ]
  },
  {
   "cell_type": "code",
   "execution_count": null,
   "id": "3684d325",
   "metadata": {
    "id": "3684d325",
    "outputId": "67550134-9987-4bb8-8bbb-be8e45324b03"
   },
   "outputs": [
    {
     "name": "stdout",
     "output_type": "stream",
     "text": [
      "chi square value: 31.2455365922236\n",
      " p_value :0.0018070683405559528 \n",
      " degree of freedom : 12\n"
     ]
    }
   ],
   "source": [
    "#use chi square from sci_py\n",
    "\n",
    "chi_1, p_val_1, dof_1, exp_freq_1 = chi2_contingency(cont_table_1)\n",
    "\n",
    "print(f'chi square value: {chi_1}\\n p_value :{p_val_1} \\n degree of freedom : {dof_1}')"
   ]
  },
  {
   "cell_type": "markdown",
   "id": "939d7b47",
   "metadata": {
    "id": "939d7b47"
   },
   "source": [
    "> The null hypothesis of a chi square test is = \"there is no correlation between the two categorical variable\". The objective of hypothesis testing is to prove the null hypothesis wrong, in this case, high chi-square value and low p-value\n",
    "\n",
    "\n",
    "From the chi-square test, the chi-square value (20.166) and p-value(0.063) is enough to say there's significant correlation between both set of categorical data.\n",
    "\n",
    "Therefore  **\"The employability of graduates from Nigerian universities can be correlated with the academic programs they pursued during their undergraduate studies\"**\n",
    "\n"
   ]
  },
  {
   "cell_type": "markdown",
   "id": "20eebf72",
   "metadata": {
    "id": "20eebf72"
   },
   "source": [
    "### EDA Question 2"
   ]
  },
  {
   "cell_type": "code",
   "execution_count": null,
   "id": "c84f3354",
   "metadata": {
    "id": "c84f3354",
    "outputId": "5e0e6107-0361-4b5b-ce05-ab1633cc5364"
   },
   "outputs": [
    {
     "data": {
      "text/html": [
       "<div>\n",
       "<style scoped>\n",
       "    .dataframe tbody tr th:only-of-type {\n",
       "        vertical-align: middle;\n",
       "    }\n",
       "\n",
       "    .dataframe tbody tr th {\n",
       "        vertical-align: top;\n",
       "    }\n",
       "\n",
       "    .dataframe thead th {\n",
       "        text-align: right;\n",
       "    }\n",
       "</style>\n",
       "<table border=\"1\" class=\"dataframe\">\n",
       "  <thead>\n",
       "    <tr style=\"text-align: right;\">\n",
       "      <th>Category</th>\n",
       "      <th>Private</th>\n",
       "      <th>Public</th>\n",
       "    </tr>\n",
       "    <tr>\n",
       "      <th>Employment Status</th>\n",
       "      <th></th>\n",
       "      <th></th>\n",
       "    </tr>\n",
       "  </thead>\n",
       "  <tbody>\n",
       "    <tr>\n",
       "      <th>Employed</th>\n",
       "      <td>402</td>\n",
       "      <td>1116</td>\n",
       "    </tr>\n",
       "    <tr>\n",
       "      <th>NYSC</th>\n",
       "      <td>291</td>\n",
       "      <td>551</td>\n",
       "    </tr>\n",
       "    <tr>\n",
       "      <th>Self Employed</th>\n",
       "      <td>134</td>\n",
       "      <td>564</td>\n",
       "    </tr>\n",
       "    <tr>\n",
       "      <th>Studying</th>\n",
       "      <td>111</td>\n",
       "      <td>268</td>\n",
       "    </tr>\n",
       "    <tr>\n",
       "      <th>Unemployed</th>\n",
       "      <td>311</td>\n",
       "      <td>1465</td>\n",
       "    </tr>\n",
       "  </tbody>\n",
       "</table>\n",
       "</div>"
      ],
      "text/plain": [
       "Category           Private  Public\n",
       "Employment Status                 \n",
       "Employed               402    1116\n",
       "NYSC                   291     551\n",
       "Self Employed          134     564\n",
       "Studying               111     268\n",
       "Unemployed             311    1465"
      ]
     },
     "execution_count": 118,
     "metadata": {},
     "output_type": "execute_result"
    }
   ],
   "source": [
    "#generate a contigency table for \"employment status\" and \"InstitutionType\"\n",
    "\n",
    "cont_table_3 = pd.crosstab(new_data[\"Employment Status\"], new_data[\"Category\"])\n",
    "\n",
    "cont_table_3    #shows the frequency of each class in \"employment status\" and \"InstitutionType\""
   ]
  },
  {
   "cell_type": "code",
   "execution_count": null,
   "id": "e2e5a61c",
   "metadata": {
    "id": "e2e5a61c",
    "outputId": "24cb7e99-8bf4-4ee7-92de-8a8b9ddad903"
   },
   "outputs": [
    {
     "name": "stdout",
     "output_type": "stream",
     "text": [
      "chi square value: 112.36656461750556\n",
      " p_value :2.2760384696959443e-23 \n",
      " degree of freedom : 4\n"
     ]
    }
   ],
   "source": [
    "#use chi square\n",
    "\n",
    "chi_3, p_val_3, dof_3, exp_freq_3 = chi2_contingency(cont_table_3)\n",
    "\n",
    "print(f'chi square value: {chi_3}\\n p_value :{p_val_3} \\n degree of freedom : {dof_3}')"
   ]
  },
  {
   "cell_type": "markdown",
   "id": "42274b1a",
   "metadata": {
    "id": "42274b1a"
   },
   "source": [
    ">The chi-squre value is high but the high p_value in too high to abandon the null hypothesis\n",
    "\n",
    "Therefore **there is sinificantly no correlation between the type of tertiary institutions and employability for Nigerian graduates. (That is Private or Public Universities.)**"
   ]
  },
  {
   "cell_type": "markdown",
   "id": "aeaedb4c",
   "metadata": {
    "id": "aeaedb4c"
   },
   "source": [
    "### EDA Question 3"
   ]
  },
  {
   "cell_type": "code",
   "execution_count": null,
   "id": "9a8f2dfb",
   "metadata": {
    "id": "9a8f2dfb",
    "outputId": "aa240e07-5fd0-4875-b115-effbb3879f12"
   },
   "outputs": [
    {
     "data": {
      "text/html": [
       "<div>\n",
       "<style scoped>\n",
       "    .dataframe tbody tr th:only-of-type {\n",
       "        vertical-align: middle;\n",
       "    }\n",
       "\n",
       "    .dataframe tbody tr th {\n",
       "        vertical-align: top;\n",
       "    }\n",
       "\n",
       "    .dataframe thead th {\n",
       "        text-align: right;\n",
       "    }\n",
       "</style>\n",
       "<table border=\"1\" class=\"dataframe\">\n",
       "  <thead>\n",
       "    <tr style=\"text-align: right;\">\n",
       "      <th>Completed NYSC</th>\n",
       "      <th>No</th>\n",
       "      <th>Yes</th>\n",
       "    </tr>\n",
       "    <tr>\n",
       "      <th>Employment Status</th>\n",
       "      <th></th>\n",
       "      <th></th>\n",
       "    </tr>\n",
       "  </thead>\n",
       "  <tbody>\n",
       "    <tr>\n",
       "      <th>Employed</th>\n",
       "      <td>184</td>\n",
       "      <td>1334</td>\n",
       "    </tr>\n",
       "    <tr>\n",
       "      <th>NYSC</th>\n",
       "      <td>828</td>\n",
       "      <td>14</td>\n",
       "    </tr>\n",
       "    <tr>\n",
       "      <th>Self Employed</th>\n",
       "      <td>175</td>\n",
       "      <td>523</td>\n",
       "    </tr>\n",
       "    <tr>\n",
       "      <th>Studying</th>\n",
       "      <td>102</td>\n",
       "      <td>277</td>\n",
       "    </tr>\n",
       "    <tr>\n",
       "      <th>Unemployed</th>\n",
       "      <td>509</td>\n",
       "      <td>1267</td>\n",
       "    </tr>\n",
       "  </tbody>\n",
       "</table>\n",
       "</div>"
      ],
      "text/plain": [
       "Completed NYSC      No   Yes\n",
       "Employment Status           \n",
       "Employed           184  1334\n",
       "NYSC               828    14\n",
       "Self Employed      175   523\n",
       "Studying           102   277\n",
       "Unemployed         509  1267"
      ]
     },
     "execution_count": 103,
     "metadata": {},
     "output_type": "execute_result"
    }
   ],
   "source": [
    "#generate a contigency table for \"employment status\" and \"Completed NYSC\"\n",
    "\n",
    "cont_table_4 = pd.crosstab(new_data[\"Employment Status\"], new_data[\"Completed NYSC\"])\n",
    "\n",
    "cont_table_4    #shows the frequency of each class in \"employment status\" and \"Completed NYSC\""
   ]
  },
  {
   "cell_type": "code",
   "execution_count": null,
   "id": "7d853a25",
   "metadata": {
    "id": "7d853a25",
    "outputId": "ee330bbc-9ba0-4934-ccb8-063559481448"
   },
   "outputs": [
    {
     "name": "stdout",
     "output_type": "stream",
     "text": [
      "chi square value: 1919.0350278026817\n",
      " p_value :0.0 \n",
      " degree of freedom : 4\n"
     ]
    }
   ],
   "source": [
    "#use chi square\n",
    "\n",
    "chi_4, p_val_4, dof_4, exp_freq_4 = chi2_contingency(cont_table_4)\n",
    "\n",
    "print(f'chi square value: {chi_4}\\n p_value :{p_val_4} \\n degree of freedom : {dof_4}')"
   ]
  },
  {
   "cell_type": "markdown",
   "id": "2e99df77",
   "metadata": {
    "id": "2e99df77"
   },
   "source": [
    "> p-value of 0 indicates and extremely strong relationship between \"employment status\" and \"completed NYSC\""
   ]
  },
  {
   "cell_type": "markdown",
   "id": "68a28fe4",
   "metadata": {
    "id": "68a28fe4"
   },
   "source": [
    "### Examine correlation for numerical features"
   ]
  },
  {
   "cell_type": "code",
   "execution_count": null,
   "id": "d7732d14",
   "metadata": {
    "id": "d7732d14",
    "outputId": "21c4cb0a-1053-4820-ec2a-b8578125ba25"
   },
   "outputs": [
    {
     "data": {
      "text/plain": [
       "<AxesSubplot:>"
      ]
     },
     "execution_count": 105,
     "metadata": {},
     "output_type": "execute_result"
    },
    {
     "data": {
      "image/png": "[encoded data removed]",
      "text/plain": [
       "<Figure size 1400x500 with 2 Axes>"
      ]
     },
     "metadata": {},
     "output_type": "display_data"
    }
   ],
   "source": [
    "plt.figure(figsize = (14,5))\n",
    "sns.heatmap(new_data.corr(),\n",
    "            cmap = \"Oranges_r\",\n",
    "            linewidths = 0.01, linecolor = \"white\", annot = True, annot_kws = dict(size = 10, weight = \"bold\"))"
   ]
  },
  {
   "cell_type": "markdown",
   "id": "4320f9ab",
   "metadata": {
    "id": "4320f9ab"
   },
   "source": [
    "."
   ]
  },
  {
   "cell_type": "markdown",
   "id": "503f09cf",
   "metadata": {
    "id": "503f09cf"
   },
   "source": [
    "# Exporting the data for Analysis in PowerBi"
   ]
  },
  {
   "cell_type": "code",
   "execution_count": null,
   "id": "0898f3eb",
   "metadata": {
    "id": "0898f3eb"
   },
   "outputs": [],
   "source": [
    "new_data.to_csv('Graduates_Survey', encoding='utf-16')"
   ]
  },
  {
   "cell_type": "code",
   "execution_count": null,
   "id": "58c2f431",
   "metadata": {
    "id": "58c2f431"
   },
   "outputs": [],
   "source": [
    "\n",
    "# export dataframe to an excel workbook\n",
    "writer = pd.ExcelWriter('Graduates_Surv.xlsx', engine='xlsxwriter')\n",
    "new_data.to_excel(writer, sheet_name='Sheet1', index=False)\n",
    "writer.save()"
   ]
  },
  {
   "cell_type": "markdown",
   "id": "592e27b7",
   "metadata": {
    "id": "592e27b7"
   },
   "source": [
    "> Link to Nigerian Graduates PowerBi Insights:\n",
    "('https://app.powerbi.com/links/ArDnxMdhhX?ctid=04d84ad8-578f-4db1-bd56-02da9ecf3636&pbi_source=linkShare&bookmarkGuid=8f4f70bd-7b69-4525-81c3-6bd60494c950')"
   ]
  },
  {
   "cell_type": "markdown",
   "id": "97b7f76b",
   "metadata": {
    "id": "97b7f76b"
   },
   "source": [
    "."
   ]
  },
  {
   "cell_type": "markdown",
   "id": "51437267",
   "metadata": {
    "id": "51437267"
   },
   "source": [
    "# MACHINE LEARNING MODELLING"
   ]
  },
  {
   "cell_type": "code",
   "execution_count": null,
   "id": "24aeb494",
   "metadata": {
    "id": "24aeb494"
   },
   "outputs": [],
   "source": [
    "# The Machine Learning Process\n",
    "# Data pre-processing - Data wrangling & Cleaning\n",
    "# Feature Engineering\n",
    "# Train your model\n",
    "# Test/Evaluate your model\n",
    "# Tune model hyperparamters\n",
    "# Evaluate\n",
    "# Select the best model"
   ]
  },
  {
   "cell_type": "markdown",
   "id": "3235834e",
   "metadata": {
    "id": "3235834e"
   },
   "source": [
    "## Data pre-processing - Data wrangling & Cleaning\n",
    "\n",
    "> This has been carried out above"
   ]
  },
  {
   "cell_type": "markdown",
   "id": "b4a4d9fe",
   "metadata": {
    "id": "b4a4d9fe"
   },
   "source": [
    "# Feature Engineering\n",
    "\n",
    "> Feature engineering is the process of selecting and transforming the raw data features into a format that can be used by the machine learning algorithm. It is one of the most important steps in machine learning, as the quality of the features used directly impacts the accuracy of the model.\n",
    "\n",
    "> Thus this involves creating a set of features that accurately represent the underlying patterns in the data and can be used to make accurate predictions. This involves selecting the most relevant features, combining or transforming them in a meaningful way, and removing irrelevant or redundant features."
   ]
  },
  {
   "cell_type": "code",
   "execution_count": null,
   "id": "916848dc",
   "metadata": {
    "id": "916848dc",
    "outputId": "fd05b147-6741-401d-9235-7cd5e245b4cd"
   },
   "outputs": [
    {
     "data": {
      "text/html": [
       "<div>\n",
       "<style scoped>\n",
       "    .dataframe tbody tr th:only-of-type {\n",
       "        vertical-align: middle;\n",
       "    }\n",
       "\n",
       "    .dataframe tbody tr th {\n",
       "        vertical-align: top;\n",
       "    }\n",
       "\n",
       "    .dataframe thead th {\n",
       "        text-align: right;\n",
       "    }\n",
       "</style>\n",
       "<table border=\"1\" class=\"dataframe\">\n",
       "  <thead>\n",
       "    <tr style=\"text-align: right;\">\n",
       "      <th></th>\n",
       "      <th>Gender</th>\n",
       "      <th>YOG</th>\n",
       "      <th>Course Studied</th>\n",
       "      <th>Pol/Uni Attended</th>\n",
       "      <th>Highest Education</th>\n",
       "      <th>Employment Status</th>\n",
       "      <th>Jobs Had Post Graduation</th>\n",
       "      <th>Completed NYSC</th>\n",
       "      <th>Year Complete/Completed NYSC</th>\n",
       "      <th>Course Studied Prepared me For Employment</th>\n",
       "      <th>present year</th>\n",
       "      <th>InstitutionType</th>\n",
       "      <th>Category</th>\n",
       "      <th>years since graduation</th>\n",
       "    </tr>\n",
       "  </thead>\n",
       "  <tbody>\n",
       "    <tr>\n",
       "      <th>1</th>\n",
       "      <td>Male</td>\n",
       "      <td>2014</td>\n",
       "      <td>Psychology</td>\n",
       "      <td>Obafemi Awolowo University,Ile-Ife</td>\n",
       "      <td>Bachelor's degree</td>\n",
       "      <td>Employed</td>\n",
       "      <td>2.0</td>\n",
       "      <td>Yes</td>\n",
       "      <td>2017</td>\n",
       "      <td>Strongly Disagree</td>\n",
       "      <td>2018</td>\n",
       "      <td>University</td>\n",
       "      <td>Public</td>\n",
       "      <td>4.0</td>\n",
       "    </tr>\n",
       "    <tr>\n",
       "      <th>2</th>\n",
       "      <td>Female</td>\n",
       "      <td>2013</td>\n",
       "      <td>Economics</td>\n",
       "      <td>Bells University of Technology, Otta</td>\n",
       "      <td>Bachelor's degree</td>\n",
       "      <td>Employed</td>\n",
       "      <td>2.0</td>\n",
       "      <td>Yes</td>\n",
       "      <td>2015</td>\n",
       "      <td>Disagree</td>\n",
       "      <td>2018</td>\n",
       "      <td>University</td>\n",
       "      <td>Public</td>\n",
       "      <td>5.0</td>\n",
       "    </tr>\n",
       "    <tr>\n",
       "      <th>3</th>\n",
       "      <td>Male</td>\n",
       "      <td>2017</td>\n",
       "      <td>Mass Communication (Communication and Language...</td>\n",
       "      <td>Bowen University, Iwo</td>\n",
       "      <td>Master's degree</td>\n",
       "      <td>Self Employed</td>\n",
       "      <td>0.0</td>\n",
       "      <td>Yes</td>\n",
       "      <td>2018</td>\n",
       "      <td>Agree</td>\n",
       "      <td>2018</td>\n",
       "      <td>University</td>\n",
       "      <td>Private</td>\n",
       "      <td>1.0</td>\n",
       "    </tr>\n",
       "    <tr>\n",
       "      <th>4</th>\n",
       "      <td>Female</td>\n",
       "      <td>2013</td>\n",
       "      <td>Statistics</td>\n",
       "      <td>Ekiti State University</td>\n",
       "      <td>Bachelor's degree</td>\n",
       "      <td>Employed</td>\n",
       "      <td>3.0</td>\n",
       "      <td>Yes</td>\n",
       "      <td>2016</td>\n",
       "      <td>Agree</td>\n",
       "      <td>2018</td>\n",
       "      <td>University</td>\n",
       "      <td>Public</td>\n",
       "      <td>5.0</td>\n",
       "    </tr>\n",
       "    <tr>\n",
       "      <th>5</th>\n",
       "      <td>Male</td>\n",
       "      <td>2015</td>\n",
       "      <td>Electrical &amp; Electronic Engineering</td>\n",
       "      <td>University of Benin</td>\n",
       "      <td>Bachelor's degree</td>\n",
       "      <td>Employed</td>\n",
       "      <td>2.0</td>\n",
       "      <td>No</td>\n",
       "      <td>2013</td>\n",
       "      <td>Agree</td>\n",
       "      <td>2018</td>\n",
       "      <td>University</td>\n",
       "      <td>Public</td>\n",
       "      <td>3.0</td>\n",
       "    </tr>\n",
       "  </tbody>\n",
       "</table>\n",
       "</div>"
      ],
      "text/plain": [
       "   Gender   YOG                                     Course Studied  \\\n",
       "1    Male  2014                                         Psychology   \n",
       "2  Female  2013                                          Economics   \n",
       "3    Male  2017  Mass Communication (Communication and Language...   \n",
       "4  Female  2013                                         Statistics   \n",
       "5    Male  2015                Electrical & Electronic Engineering   \n",
       "\n",
       "                       Pol/Uni Attended  Highest Education Employment Status  \\\n",
       "1    Obafemi Awolowo University,Ile-Ife  Bachelor's degree          Employed   \n",
       "2  Bells University of Technology, Otta  Bachelor's degree          Employed   \n",
       "3                 Bowen University, Iwo    Master's degree     Self Employed   \n",
       "4                Ekiti State University  Bachelor's degree          Employed   \n",
       "5                   University of Benin  Bachelor's degree          Employed   \n",
       "\n",
       "   Jobs Had Post Graduation Completed NYSC  Year Complete/Completed NYSC  \\\n",
       "1                       2.0            Yes                          2017   \n",
       "2                       2.0            Yes                          2015   \n",
       "3                       0.0            Yes                          2018   \n",
       "4                       3.0            Yes                          2016   \n",
       "5                       2.0             No                          2013   \n",
       "\n",
       "  Course Studied Prepared me For Employment  present year InstitutionType  \\\n",
       "1                         Strongly Disagree          2018      University   \n",
       "2                                  Disagree          2018      University   \n",
       "3                                     Agree          2018      University   \n",
       "4                                     Agree          2018      University   \n",
       "5                                     Agree          2018      University   \n",
       "\n",
       "  Category  years since graduation  \n",
       "1   Public                     4.0  \n",
       "2   Public                     5.0  \n",
       "3  Private                     1.0  \n",
       "4   Public                     5.0  \n",
       "5   Public                     3.0  "
      ]
     },
     "execution_count": 133,
     "metadata": {},
     "output_type": "execute_result"
    }
   ],
   "source": [
    "new_data.head()"
   ]
  },
  {
   "cell_type": "markdown",
   "id": "3cd7b108",
   "metadata": {
    "id": "3cd7b108"
   },
   "source": [
    "The goal of this model is to predict the employability of a prospective student after Graduation by considering variables such as:\n",
    "- Gender\n",
    "- Course Studied\n",
    "- Level of Education\n",
    "- If they plan to undergo the National Youth Service Corps\n",
    "- The type of Institution\n",
    "- The Category of the institution; that is if its a public or a private Institution"
   ]
  },
  {
   "cell_type": "code",
   "execution_count": null,
   "id": "a94f4371",
   "metadata": {
    "id": "a94f4371",
    "outputId": "b1c04a17-1b27-4391-d23f-c93bdfab5be3"
   },
   "outputs": [
    {
     "data": {
      "text/plain": [
       "Index(['Gender', 'YOG', 'Course Studied', 'Pol/Uni Attended',\n",
       "       'Highest Education', 'Employment Status', 'Jobs Had Post Graduation',\n",
       "       'Completed NYSC', 'Year Complete/Completed NYSC',\n",
       "       'Course Studied Prepared me For Employment', 'present year',\n",
       "       'InstitutionType', 'Category', 'years since graduation'],\n",
       "      dtype='object')"
      ]
     },
     "execution_count": 203,
     "metadata": {},
     "output_type": "execute_result"
    }
   ],
   "source": [
    "# columns in existing dataFrame\n",
    "\n",
    "new_data.columns"
   ]
  },
  {
   "cell_type": "code",
   "execution_count": null,
   "id": "9232f714",
   "metadata": {
    "id": "9232f714"
   },
   "outputs": [],
   "source": [
    "# selecting the columns relevant to this model\n",
    "m_columns = ['Gender', 'Course Studied', 'Highest Education', 'Employment Status',\n",
    "            'Completed NYSC', 'InstitutionType',  'Category'\n",
    "            ]"
   ]
  },
  {
   "cell_type": "code",
   "execution_count": null,
   "id": "f3c2e902",
   "metadata": {
    "id": "f3c2e902",
    "outputId": "e29aa0db-f58e-47cc-be7c-1fa50a63a9e2",
    "scrolled": true
   },
   "outputs": [
    {
     "data": {
      "text/html": [
       "<div>\n",
       "<style scoped>\n",
       "    .dataframe tbody tr th:only-of-type {\n",
       "        vertical-align: middle;\n",
       "    }\n",
       "\n",
       "    .dataframe tbody tr th {\n",
       "        vertical-align: top;\n",
       "    }\n",
       "\n",
       "    .dataframe thead th {\n",
       "        text-align: right;\n",
       "    }\n",
       "</style>\n",
       "<table border=\"1\" class=\"dataframe\">\n",
       "  <thead>\n",
       "    <tr style=\"text-align: right;\">\n",
       "      <th></th>\n",
       "      <th>Gender</th>\n",
       "      <th>Course Studied</th>\n",
       "      <th>Highest Education</th>\n",
       "      <th>Employment Status</th>\n",
       "      <th>Completed NYSC</th>\n",
       "      <th>InstitutionType</th>\n",
       "      <th>Category</th>\n",
       "    </tr>\n",
       "  </thead>\n",
       "  <tbody>\n",
       "    <tr>\n",
       "      <th>1</th>\n",
       "      <td>Male</td>\n",
       "      <td>Psychology</td>\n",
       "      <td>Bachelor's degree</td>\n",
       "      <td>Employed</td>\n",
       "      <td>Yes</td>\n",
       "      <td>University</td>\n",
       "      <td>Public</td>\n",
       "    </tr>\n",
       "    <tr>\n",
       "      <th>2</th>\n",
       "      <td>Female</td>\n",
       "      <td>Economics</td>\n",
       "      <td>Bachelor's degree</td>\n",
       "      <td>Employed</td>\n",
       "      <td>Yes</td>\n",
       "      <td>University</td>\n",
       "      <td>Public</td>\n",
       "    </tr>\n",
       "    <tr>\n",
       "      <th>3</th>\n",
       "      <td>Male</td>\n",
       "      <td>Mass Communication (Communication and Language...</td>\n",
       "      <td>Master's degree</td>\n",
       "      <td>Self Employed</td>\n",
       "      <td>Yes</td>\n",
       "      <td>University</td>\n",
       "      <td>Private</td>\n",
       "    </tr>\n",
       "    <tr>\n",
       "      <th>4</th>\n",
       "      <td>Female</td>\n",
       "      <td>Statistics</td>\n",
       "      <td>Bachelor's degree</td>\n",
       "      <td>Employed</td>\n",
       "      <td>Yes</td>\n",
       "      <td>University</td>\n",
       "      <td>Public</td>\n",
       "    </tr>\n",
       "    <tr>\n",
       "      <th>5</th>\n",
       "      <td>Male</td>\n",
       "      <td>Electrical &amp; Electronic Engineering</td>\n",
       "      <td>Bachelor's degree</td>\n",
       "      <td>Employed</td>\n",
       "      <td>No</td>\n",
       "      <td>University</td>\n",
       "      <td>Public</td>\n",
       "    </tr>\n",
       "    <tr>\n",
       "      <th>...</th>\n",
       "      <td>...</td>\n",
       "      <td>...</td>\n",
       "      <td>...</td>\n",
       "      <td>...</td>\n",
       "      <td>...</td>\n",
       "      <td>...</td>\n",
       "      <td>...</td>\n",
       "    </tr>\n",
       "    <tr>\n",
       "      <th>5214</th>\n",
       "      <td>Female</td>\n",
       "      <td>Physics and Astronomy</td>\n",
       "      <td>Bachelor's degree</td>\n",
       "      <td>Unemployed</td>\n",
       "      <td>Yes</td>\n",
       "      <td>University</td>\n",
       "      <td>Public</td>\n",
       "    </tr>\n",
       "    <tr>\n",
       "      <th>5215</th>\n",
       "      <td>Female</td>\n",
       "      <td>Acturial Science</td>\n",
       "      <td>Bachelor's degree</td>\n",
       "      <td>NYSC</td>\n",
       "      <td>No</td>\n",
       "      <td>University</td>\n",
       "      <td>Public</td>\n",
       "    </tr>\n",
       "    <tr>\n",
       "      <th>5216</th>\n",
       "      <td>Female</td>\n",
       "      <td>Political Science</td>\n",
       "      <td>Bachelor's degree</td>\n",
       "      <td>Employed</td>\n",
       "      <td>Yes</td>\n",
       "      <td>Polytechnic</td>\n",
       "      <td>Private</td>\n",
       "    </tr>\n",
       "    <tr>\n",
       "      <th>5217</th>\n",
       "      <td>Female</td>\n",
       "      <td>Business Administration</td>\n",
       "      <td>Higher National Diploma (HND)</td>\n",
       "      <td>Self Employed</td>\n",
       "      <td>Yes</td>\n",
       "      <td>Polytechnic</td>\n",
       "      <td>Public</td>\n",
       "    </tr>\n",
       "    <tr>\n",
       "      <th>5218</th>\n",
       "      <td>Male</td>\n",
       "      <td>Economics</td>\n",
       "      <td>Bachelor's degree</td>\n",
       "      <td>Unemployed</td>\n",
       "      <td>Yes</td>\n",
       "      <td>University</td>\n",
       "      <td>Public</td>\n",
       "    </tr>\n",
       "  </tbody>\n",
       "</table>\n",
       "<p>5213 rows × 7 columns</p>\n",
       "</div>"
      ],
      "text/plain": [
       "      Gender                                     Course Studied  \\\n",
       "1       Male                                         Psychology   \n",
       "2     Female                                          Economics   \n",
       "3       Male  Mass Communication (Communication and Language...   \n",
       "4     Female                                         Statistics   \n",
       "5       Male                Electrical & Electronic Engineering   \n",
       "...      ...                                                ...   \n",
       "5214  Female                              Physics and Astronomy   \n",
       "5215  Female                                   Acturial Science   \n",
       "5216  Female                                  Political Science   \n",
       "5217  Female                            Business Administration   \n",
       "5218    Male                                          Economics   \n",
       "\n",
       "                  Highest Education Employment Status Completed NYSC  \\\n",
       "1                 Bachelor's degree          Employed            Yes   \n",
       "2                 Bachelor's degree          Employed            Yes   \n",
       "3                   Master's degree     Self Employed            Yes   \n",
       "4                 Bachelor's degree          Employed            Yes   \n",
       "5                 Bachelor's degree          Employed             No   \n",
       "...                             ...               ...            ...   \n",
       "5214              Bachelor's degree        Unemployed            Yes   \n",
       "5215              Bachelor's degree              NYSC             No   \n",
       "5216              Bachelor's degree          Employed            Yes   \n",
       "5217  Higher National Diploma (HND)     Self Employed            Yes   \n",
       "5218              Bachelor's degree        Unemployed            Yes   \n",
       "\n",
       "     InstitutionType Category  \n",
       "1         University   Public  \n",
       "2         University   Public  \n",
       "3         University  Private  \n",
       "4         University   Public  \n",
       "5         University   Public  \n",
       "...              ...      ...  \n",
       "5214      University   Public  \n",
       "5215      University   Public  \n",
       "5216     Polytechnic  Private  \n",
       "5217     Polytechnic   Public  \n",
       "5218      University   Public  \n",
       "\n",
       "[5213 rows x 7 columns]"
      ]
     },
     "execution_count": 205,
     "metadata": {},
     "output_type": "execute_result"
    }
   ],
   "source": [
    "# creating new data frame for modelling\n",
    "model_data = new_data.loc[:, m_columns]\n",
    "model_data"
   ]
  },
  {
   "cell_type": "markdown",
   "id": "c8cfd576",
   "metadata": {
    "id": "c8cfd576"
   },
   "source": [
    "\n",
    "###  Since our target column is `Employment Status`; This is what we want to predict.\n",
    "- We need to group the unique values into `Employed` and `Unemployed`\n",
    "- We need to sepearte this from our train data\n",
    "- Since Machine Learning models do not function with `Categorical data`, we need to encode all strings to numbers"
   ]
  },
  {
   "cell_type": "code",
   "execution_count": null,
   "id": "48af8cb3",
   "metadata": {
    "id": "48af8cb3"
   },
   "outputs": [],
   "source": [
    "# change the employment status to\n",
    "    #\"employed\"\n",
    "    #\"unemployed\"\n",
    "    #\"self_employed\"\n",
    "    #\"nysc\"\n",
    "    #\"studying\"\n",
    "\n",
    "new_data[\"Employment Status\"].replace({\"Working full time (paid employment)\" : \"Employed\",\n",
    "                                       \"Youth Corper (NYSC)\" :\"NYSC\",\n",
    "                                      \"Self-employed/freelance/entrepreneur\" : \"Self Employed\",\n",
    "                                      \"Voluntary or other unpaid work or on an internship\": \"Unemployed\",\n",
    "                                      \"Engaged in full-time further study, training or research\" : \"Studying\",\n",
    "                                      \"Due to start a job in the next month/developing a professional portfolio/creative practice\" : \"Employed\",\n",
    "                                       \"Taking time out to prepare for further studies, GMAT, professional exams\" : \"Studying\",\n",
    "                                        \"Doing something else (e.g. looking after home or family)\" : \"Unemployed\",\n",
    "                                      \"Engaged in part-time further study, training or research\" : \"Studying\" }, inplace = True)\n",
    "\n"
   ]
  },
  {
   "cell_type": "code",
   "execution_count": null,
   "id": "7418709c",
   "metadata": {
    "id": "7418709c",
    "outputId": "f34499a5-023e-4a23-959f-c12d51f0abd0",
    "scrolled": false
   },
   "outputs": [
    {
     "data": {
      "text/plain": [
       "array(['Employed', 'Self Employed', 'NYSC', 'Unemployed', 'Studying'],\n",
       "      dtype=object)"
      ]
     },
     "execution_count": 207,
     "metadata": {},
     "output_type": "execute_result"
    }
   ],
   "source": [
    "model_data[\"Employment Status\"].unique()"
   ]
  },
  {
   "cell_type": "code",
   "execution_count": null,
   "id": "7d25a1cc",
   "metadata": {
    "id": "7d25a1cc",
    "outputId": "36fc8fe3-5166-4ed6-dc2b-bd88bead738f",
    "scrolled": true
   },
   "outputs": [
    {
     "data": {
      "text/plain": [
       "Unemployed       1776\n",
       "Employed         1518\n",
       "NYSC              842\n",
       "Self Employed     698\n",
       "Studying          379\n",
       "Name: Employment Status, dtype: int64"
      ]
     },
     "execution_count": 208,
     "metadata": {},
     "output_type": "execute_result"
    }
   ],
   "source": [
    "model_data[\"Employment Status\"].value_counts()"
   ]
  },
  {
   "cell_type": "code",
   "execution_count": null,
   "id": "5b361728",
   "metadata": {
    "id": "5b361728"
   },
   "outputs": [],
   "source": [
    "# change the employment status to\n",
    "    #\"employed\"\n",
    "    #\"unemployed\"\n",
    "\n",
    "model_data[\"Employment Status\"].replace({'Self Employed': 'Employed', 'NYSC':'Employed', 'Studying': 'Unemployed'}, inplace = True)"
   ]
  },
  {
   "cell_type": "code",
   "execution_count": null,
   "id": "5db209f7",
   "metadata": {
    "id": "5db209f7",
    "outputId": "780863bc-d509-4b0c-b26c-34f58f89a6a9"
   },
   "outputs": [
    {
     "data": {
      "text/plain": [
       "array(['Employed', 'Unemployed'], dtype=object)"
      ]
     },
     "execution_count": 210,
     "metadata": {},
     "output_type": "execute_result"
    }
   ],
   "source": [
    "# Employment Status\n",
    "model_data[\"Employment Status\"].unique()"
   ]
  },
  {
   "cell_type": "code",
   "execution_count": null,
   "id": "95a5fda2",
   "metadata": {
    "id": "95a5fda2",
    "outputId": "2deb5b77-7463-4c65-ac17-e983528720f8"
   },
   "outputs": [
    {
     "data": {
      "text/plain": [
       "0    3058\n",
       "1    2155\n",
       "Name: Employment Status, dtype: int64"
      ]
     },
     "execution_count": 267,
     "metadata": {},
     "output_type": "execute_result"
    }
   ],
   "source": [
    "model_data[\"Employment Status\"].value_counts()"
   ]
  },
  {
   "cell_type": "code",
   "execution_count": null,
   "id": "58447a88",
   "metadata": {
    "id": "58447a88",
    "outputId": "5379587f-ceca-40d4-ade3-658710ae7d6c",
    "scrolled": true
   },
   "outputs": [
    {
     "data": {
      "text/html": [
       "<div>\n",
       "<style scoped>\n",
       "    .dataframe tbody tr th:only-of-type {\n",
       "        vertical-align: middle;\n",
       "    }\n",
       "\n",
       "    .dataframe tbody tr th {\n",
       "        vertical-align: top;\n",
       "    }\n",
       "\n",
       "    .dataframe thead th {\n",
       "        text-align: right;\n",
       "    }\n",
       "</style>\n",
       "<table border=\"1\" class=\"dataframe\">\n",
       "  <thead>\n",
       "    <tr style=\"text-align: right;\">\n",
       "      <th></th>\n",
       "      <th>Gender</th>\n",
       "      <th>Course Studied</th>\n",
       "      <th>Highest Education</th>\n",
       "      <th>Employment Status</th>\n",
       "      <th>Completed NYSC</th>\n",
       "      <th>InstitutionType</th>\n",
       "      <th>Category</th>\n",
       "    </tr>\n",
       "  </thead>\n",
       "  <tbody>\n",
       "    <tr>\n",
       "      <th>1</th>\n",
       "      <td>Male</td>\n",
       "      <td>Psychology</td>\n",
       "      <td>Bachelor's degree</td>\n",
       "      <td>Employed</td>\n",
       "      <td>Yes</td>\n",
       "      <td>University</td>\n",
       "      <td>Public</td>\n",
       "    </tr>\n",
       "    <tr>\n",
       "      <th>2</th>\n",
       "      <td>Female</td>\n",
       "      <td>Economics</td>\n",
       "      <td>Bachelor's degree</td>\n",
       "      <td>Employed</td>\n",
       "      <td>Yes</td>\n",
       "      <td>University</td>\n",
       "      <td>Public</td>\n",
       "    </tr>\n",
       "    <tr>\n",
       "      <th>3</th>\n",
       "      <td>Male</td>\n",
       "      <td>Mass Communication (Communication and Language...</td>\n",
       "      <td>Master's degree</td>\n",
       "      <td>Employed</td>\n",
       "      <td>Yes</td>\n",
       "      <td>University</td>\n",
       "      <td>Private</td>\n",
       "    </tr>\n",
       "    <tr>\n",
       "      <th>4</th>\n",
       "      <td>Female</td>\n",
       "      <td>Statistics</td>\n",
       "      <td>Bachelor's degree</td>\n",
       "      <td>Employed</td>\n",
       "      <td>Yes</td>\n",
       "      <td>University</td>\n",
       "      <td>Public</td>\n",
       "    </tr>\n",
       "    <tr>\n",
       "      <th>5</th>\n",
       "      <td>Male</td>\n",
       "      <td>Electrical &amp; Electronic Engineering</td>\n",
       "      <td>Bachelor's degree</td>\n",
       "      <td>Employed</td>\n",
       "      <td>No</td>\n",
       "      <td>University</td>\n",
       "      <td>Public</td>\n",
       "    </tr>\n",
       "  </tbody>\n",
       "</table>\n",
       "</div>"
      ],
      "text/plain": [
       "   Gender                                     Course Studied  \\\n",
       "1    Male                                         Psychology   \n",
       "2  Female                                          Economics   \n",
       "3    Male  Mass Communication (Communication and Language...   \n",
       "4  Female                                         Statistics   \n",
       "5    Male                Electrical & Electronic Engineering   \n",
       "\n",
       "   Highest Education Employment Status Completed NYSC InstitutionType Category  \n",
       "1  Bachelor's degree          Employed            Yes      University   Public  \n",
       "2  Bachelor's degree          Employed            Yes      University   Public  \n",
       "3    Master's degree          Employed            Yes      University  Private  \n",
       "4  Bachelor's degree          Employed            Yes      University   Public  \n",
       "5  Bachelor's degree          Employed             No      University   Public  "
      ]
     },
     "execution_count": 211,
     "metadata": {},
     "output_type": "execute_result"
    }
   ],
   "source": [
    "model_data.head()"
   ]
  },
  {
   "cell_type": "markdown",
   "id": "d6e08695",
   "metadata": {
    "id": "d6e08695"
   },
   "source": [
    "## Encoding the data"
   ]
  },
  {
   "cell_type": "code",
   "execution_count": null,
   "id": "8b743888",
   "metadata": {
    "id": "8b743888"
   },
   "outputs": [],
   "source": [
    "from sklearn.preprocessing import LabelEncoder"
   ]
  },
  {
   "cell_type": "code",
   "execution_count": null,
   "id": "d839911c",
   "metadata": {
    "id": "d839911c"
   },
   "outputs": [],
   "source": [
    "# Initializing the Label Encoder\n",
    "\n",
    "le = LabelEncoder()"
   ]
  },
  {
   "cell_type": "code",
   "execution_count": null,
   "id": "54a562e5",
   "metadata": {
    "id": "54a562e5",
    "outputId": "d3131dd7-2f7d-4656-cd75-6f36cc0e0095"
   },
   "outputs": [
    {
     "data": {
      "text/plain": [
       "Index(['Gender', 'Course Studied', 'Highest Education', 'Employment Status',\n",
       "       'Completed NYSC', 'InstitutionType', 'Category'],\n",
       "      dtype='object')"
      ]
     },
     "execution_count": 218,
     "metadata": {},
     "output_type": "execute_result"
    }
   ],
   "source": [
    "model_data.columns"
   ]
  },
  {
   "cell_type": "code",
   "execution_count": null,
   "id": "bfa32150",
   "metadata": {
    "id": "bfa32150",
    "outputId": "55c65b2d-87c8-45e4-9360-365d98f0eaf6"
   },
   "outputs": [
    {
     "name": "stdout",
     "output_type": "stream",
     "text": [
      "<class 'pandas.core.frame.DataFrame'>\n",
      "Int64Index: 5213 entries, 1 to 5218\n",
      "Data columns (total 7 columns):\n",
      " #   Column             Non-Null Count  Dtype \n",
      "---  ------             --------------  ----- \n",
      " 0   Gender             5213 non-null   object\n",
      " 1   Course Studied     5213 non-null   object\n",
      " 2   Highest Education  5213 non-null   object\n",
      " 3   Employment Status  5213 non-null   object\n",
      " 4   Completed NYSC     5213 non-null   object\n",
      " 5   InstitutionType    5213 non-null   object\n",
      " 6   Category           5213 non-null   object\n",
      "dtypes: object(7)\n",
      "memory usage: 325.8+ KB\n"
     ]
    }
   ],
   "source": [
    "model_data.info()"
   ]
  },
  {
   "cell_type": "code",
   "execution_count": null,
   "id": "9dce0d44",
   "metadata": {
    "id": "9dce0d44"
   },
   "outputs": [],
   "source": [
    "# converting from object type to string\n",
    "model_data['Gender'] = model_data['Gender'].astype(str)"
   ]
  },
  {
   "cell_type": "code",
   "execution_count": null,
   "id": "d25cd0c3",
   "metadata": {
    "id": "d25cd0c3",
    "scrolled": true
   },
   "outputs": [],
   "source": [
    "# Encoding the \"Gender\" column\n",
    "model_data['Gender'] = le.fit_transform(model_data['Gender'])"
   ]
  },
  {
   "cell_type": "code",
   "execution_count": null,
   "id": "6517e445",
   "metadata": {
    "id": "6517e445"
   },
   "outputs": [],
   "source": [
    "# converting from object type to string\n",
    "model_data['Course Studied'] = model_data['Course Studied'].astype(str)"
   ]
  },
  {
   "cell_type": "code",
   "execution_count": null,
   "id": "b5815e24",
   "metadata": {
    "id": "b5815e24",
    "scrolled": true
   },
   "outputs": [],
   "source": [
    "# Encoding the \"Course Studied\" column\n",
    "model_data['Course Studied'] = le.fit_transform(model_data['Course Studied'])"
   ]
  },
  {
   "cell_type": "code",
   "execution_count": null,
   "id": "d4e584e9",
   "metadata": {
    "id": "d4e584e9"
   },
   "outputs": [],
   "source": [
    "# converting from object type to string\n",
    "model_data['Highest Education'] = model_data['Highest Education'].astype(str)"
   ]
  },
  {
   "cell_type": "code",
   "execution_count": null,
   "id": "802e59be",
   "metadata": {
    "id": "802e59be"
   },
   "outputs": [],
   "source": [
    "# Encoding the \"Highest Education\" column\n",
    "model_data['Highest Education'] = le.fit_transform(model_data['Highest Education'])"
   ]
  },
  {
   "cell_type": "code",
   "execution_count": null,
   "id": "d251ed1b",
   "metadata": {
    "id": "d251ed1b"
   },
   "outputs": [],
   "source": [
    "# converting from object type to string\n",
    "model_data['Completed NYSC'] = model_data['Completed NYSC'].astype(str)"
   ]
  },
  {
   "cell_type": "code",
   "execution_count": null,
   "id": "41c37143",
   "metadata": {
    "id": "41c37143",
    "scrolled": true
   },
   "outputs": [],
   "source": [
    "# Encoding the \"Completed NYSC\" column\n",
    "model_data['Completed NYSC'] = le.fit_transform(model_data['Completed NYSC'])"
   ]
  },
  {
   "cell_type": "code",
   "execution_count": null,
   "id": "fc4e4979",
   "metadata": {
    "id": "fc4e4979"
   },
   "outputs": [],
   "source": [
    "# converting from object type to string\n",
    "model_data['InstitutionType'] = model_data['InstitutionType'].astype(str)"
   ]
  },
  {
   "cell_type": "code",
   "execution_count": null,
   "id": "b885a5ff",
   "metadata": {
    "id": "b885a5ff",
    "scrolled": true
   },
   "outputs": [],
   "source": [
    "# Encoding the \"InstitutionType\" column\n",
    "model_data['InstitutionType'] = le.fit_transform(model_data['InstitutionType'])"
   ]
  },
  {
   "cell_type": "code",
   "execution_count": null,
   "id": "ca2deecb",
   "metadata": {
    "id": "ca2deecb"
   },
   "outputs": [],
   "source": [
    "# converting from object type to string\n",
    "model_data['Category'] = model_data['Category'].astype(str)"
   ]
  },
  {
   "cell_type": "code",
   "execution_count": null,
   "id": "73de2df7",
   "metadata": {
    "id": "73de2df7",
    "scrolled": true
   },
   "outputs": [],
   "source": [
    "# Encoding the \"Category\" column\n",
    "model_data['Category'] = le.fit_transform(model_data['Category'])"
   ]
  },
  {
   "cell_type": "code",
   "execution_count": null,
   "id": "220088b8",
   "metadata": {
    "id": "220088b8"
   },
   "outputs": [],
   "source": [
    "# converting from object type to string\n",
    "model_data['Employment Status'] = model_data['Employment Status'].astype(str)"
   ]
  },
  {
   "cell_type": "code",
   "execution_count": null,
   "id": "20f694ae",
   "metadata": {
    "id": "20f694ae"
   },
   "outputs": [],
   "source": [
    "# Encoding the \"Employment Status\" column\n",
    "model_data['Employment Status'] = le.fit_transform(model_data['Employment Status'])"
   ]
  },
  {
   "cell_type": "markdown",
   "id": "6d0311e2",
   "metadata": {
    "id": "6d0311e2"
   },
   "source": [
    "## Using the Decision Tree Classifier"
   ]
  },
  {
   "cell_type": "code",
   "execution_count": null,
   "id": "e6f42422",
   "metadata": {
    "id": "e6f42422"
   },
   "outputs": [],
   "source": [
    "# importing the necessary libraries\n",
    "\n",
    "from sklearn.model_selection import train_test_split\n",
    "from sklearn.tree import DecisionTreeClassifier\n",
    "from sklearn.metrics import accuracy_score\n"
   ]
  },
  {
   "cell_type": "code",
   "execution_count": null,
   "id": "6fada653",
   "metadata": {
    "id": "6fada653",
    "outputId": "79f3a79d-fac3-4392-f3cf-9777bf2e147f",
    "scrolled": false
   },
   "outputs": [
    {
     "data": {
      "text/plain": [
       "1       0\n",
       "2       0\n",
       "3       0\n",
       "4       0\n",
       "5       0\n",
       "       ..\n",
       "5214    1\n",
       "5215    0\n",
       "5216    0\n",
       "5217    0\n",
       "5218    1\n",
       "Name: Employment Status, Length: 5213, dtype: int32"
      ]
     },
     "execution_count": 254,
     "metadata": {},
     "output_type": "execute_result"
    }
   ],
   "source": [
    "# splitting the data into features and target\n",
    "y = model_data['Employment Status']\n",
    "y"
   ]
  },
  {
   "cell_type": "code",
   "execution_count": null,
   "id": "53d8c066",
   "metadata": {
    "id": "53d8c066"
   },
   "outputs": [],
   "source": [
    "feature_columns = ['Gender', 'Course Studied', 'Highest Education',\n",
    "            'Completed NYSC', 'InstitutionType',  'Category'\n",
    "            ]"
   ]
  },
  {
   "cell_type": "code",
   "execution_count": null,
   "id": "7ae12fdd",
   "metadata": {
    "id": "7ae12fdd",
    "outputId": "deeaa9bf-4e8d-4edf-c50d-5cbb234fd324",
    "scrolled": false
   },
   "outputs": [
    {
     "data": {
      "text/html": [
       "<div>\n",
       "<style scoped>\n",
       "    .dataframe tbody tr th:only-of-type {\n",
       "        vertical-align: middle;\n",
       "    }\n",
       "\n",
       "    .dataframe tbody tr th {\n",
       "        vertical-align: top;\n",
       "    }\n",
       "\n",
       "    .dataframe thead th {\n",
       "        text-align: right;\n",
       "    }\n",
       "</style>\n",
       "<table border=\"1\" class=\"dataframe\">\n",
       "  <thead>\n",
       "    <tr style=\"text-align: right;\">\n",
       "      <th></th>\n",
       "      <th>Gender</th>\n",
       "      <th>Course Studied</th>\n",
       "      <th>Highest Education</th>\n",
       "      <th>Completed NYSC</th>\n",
       "      <th>InstitutionType</th>\n",
       "      <th>Category</th>\n",
       "    </tr>\n",
       "  </thead>\n",
       "  <tbody>\n",
       "    <tr>\n",
       "      <th>1</th>\n",
       "      <td>1</td>\n",
       "      <td>105</td>\n",
       "      <td>0</td>\n",
       "      <td>1</td>\n",
       "      <td>1</td>\n",
       "      <td>1</td>\n",
       "    </tr>\n",
       "    <tr>\n",
       "      <th>2</th>\n",
       "      <td>0</td>\n",
       "      <td>34</td>\n",
       "      <td>0</td>\n",
       "      <td>1</td>\n",
       "      <td>1</td>\n",
       "      <td>1</td>\n",
       "    </tr>\n",
       "    <tr>\n",
       "      <th>3</th>\n",
       "      <td>1</td>\n",
       "      <td>81</td>\n",
       "      <td>3</td>\n",
       "      <td>1</td>\n",
       "      <td>1</td>\n",
       "      <td>0</td>\n",
       "    </tr>\n",
       "    <tr>\n",
       "      <th>4</th>\n",
       "      <td>0</td>\n",
       "      <td>117</td>\n",
       "      <td>0</td>\n",
       "      <td>1</td>\n",
       "      <td>1</td>\n",
       "      <td>1</td>\n",
       "    </tr>\n",
       "    <tr>\n",
       "      <th>5</th>\n",
       "      <td>1</td>\n",
       "      <td>50</td>\n",
       "      <td>0</td>\n",
       "      <td>0</td>\n",
       "      <td>1</td>\n",
       "      <td>1</td>\n",
       "    </tr>\n",
       "    <tr>\n",
       "      <th>...</th>\n",
       "      <td>...</td>\n",
       "      <td>...</td>\n",
       "      <td>...</td>\n",
       "      <td>...</td>\n",
       "      <td>...</td>\n",
       "      <td>...</td>\n",
       "    </tr>\n",
       "    <tr>\n",
       "      <th>5214</th>\n",
       "      <td>0</td>\n",
       "      <td>101</td>\n",
       "      <td>0</td>\n",
       "      <td>1</td>\n",
       "      <td>1</td>\n",
       "      <td>1</td>\n",
       "    </tr>\n",
       "    <tr>\n",
       "      <th>5215</th>\n",
       "      <td>0</td>\n",
       "      <td>1</td>\n",
       "      <td>0</td>\n",
       "      <td>0</td>\n",
       "      <td>1</td>\n",
       "      <td>1</td>\n",
       "    </tr>\n",
       "    <tr>\n",
       "      <th>5216</th>\n",
       "      <td>0</td>\n",
       "      <td>103</td>\n",
       "      <td>0</td>\n",
       "      <td>1</td>\n",
       "      <td>0</td>\n",
       "      <td>0</td>\n",
       "    </tr>\n",
       "    <tr>\n",
       "      <th>5217</th>\n",
       "      <td>0</td>\n",
       "      <td>19</td>\n",
       "      <td>1</td>\n",
       "      <td>1</td>\n",
       "      <td>0</td>\n",
       "      <td>1</td>\n",
       "    </tr>\n",
       "    <tr>\n",
       "      <th>5218</th>\n",
       "      <td>1</td>\n",
       "      <td>34</td>\n",
       "      <td>0</td>\n",
       "      <td>1</td>\n",
       "      <td>1</td>\n",
       "      <td>1</td>\n",
       "    </tr>\n",
       "  </tbody>\n",
       "</table>\n",
       "<p>5213 rows × 6 columns</p>\n",
       "</div>"
      ],
      "text/plain": [
       "      Gender  Course Studied  Highest Education  Completed NYSC  \\\n",
       "1          1             105                  0               1   \n",
       "2          0              34                  0               1   \n",
       "3          1              81                  3               1   \n",
       "4          0             117                  0               1   \n",
       "5          1              50                  0               0   \n",
       "...      ...             ...                ...             ...   \n",
       "5214       0             101                  0               1   \n",
       "5215       0               1                  0               0   \n",
       "5216       0             103                  0               1   \n",
       "5217       0              19                  1               1   \n",
       "5218       1              34                  0               1   \n",
       "\n",
       "      InstitutionType  Category  \n",
       "1                   1         1  \n",
       "2                   1         1  \n",
       "3                   1         0  \n",
       "4                   1         1  \n",
       "5                   1         1  \n",
       "...               ...       ...  \n",
       "5214                1         1  \n",
       "5215                1         1  \n",
       "5216                0         0  \n",
       "5217                0         1  \n",
       "5218                1         1  \n",
       "\n",
       "[5213 rows x 6 columns]"
      ]
     },
     "execution_count": 256,
     "metadata": {},
     "output_type": "execute_result"
    }
   ],
   "source": [
    "X = model_data[feature_columns]\n",
    "X"
   ]
  },
  {
   "cell_type": "code",
   "execution_count": null,
   "id": "7c67433f",
   "metadata": {
    "id": "7c67433f"
   },
   "outputs": [],
   "source": [
    "# Splitting the dataset into training and testing sets\n",
    "X_train, X_test, y_train, y_test = train_test_split(X, y, test_size=0.3, random_state=42)"
   ]
  },
  {
   "cell_type": "code",
   "execution_count": null,
   "id": "37b06cbc",
   "metadata": {
    "id": "37b06cbc",
    "outputId": "6bf0c77c-22e8-40ed-fb96-a25b20374f6b"
   },
   "outputs": [
    {
     "data": {
      "text/plain": [
       "DecisionTreeClassifier()"
      ]
     },
     "execution_count": 258,
     "metadata": {},
     "output_type": "execute_result"
    }
   ],
   "source": [
    "# Initialize the model\n",
    "dtc = DecisionTreeClassifier()\n",
    "dtc"
   ]
  },
  {
   "cell_type": "code",
   "execution_count": null,
   "id": "9c3b6b1e",
   "metadata": {
    "id": "9c3b6b1e",
    "outputId": "553237e5-c14b-41d3-c6a5-8e95a46717cf",
    "scrolled": true
   },
   "outputs": [
    {
     "data": {
      "text/plain": [
       "DecisionTreeClassifier()"
      ]
     },
     "execution_count": 259,
     "metadata": {},
     "output_type": "execute_result"
    }
   ],
   "source": [
    "# Training the model on the training set\n",
    "dtc.fit(X_train, y_train)\n"
   ]
  },
  {
   "cell_type": "code",
   "execution_count": null,
   "id": "cbb52604",
   "metadata": {
    "id": "cbb52604"
   },
   "outputs": [],
   "source": [
    "# Making predictions on the testing set\n",
    "y_pred = dtc.predict(X_test)\n"
   ]
  },
  {
   "cell_type": "code",
   "execution_count": null,
   "id": "1b581e38",
   "metadata": {
    "id": "1b581e38",
    "outputId": "f95f9ec6-a30c-42c1-9656-fca1d211d753"
   },
   "outputs": [
    {
     "name": "stdout",
     "output_type": "stream",
     "text": [
      "Accuracy: 0.571611253196931\n"
     ]
    }
   ],
   "source": [
    "# Calculate the accuracy of the model\n",
    "accuracy = accuracy_score(y_test, y_pred)\n",
    "print('Accuracy:', accuracy)"
   ]
  },
  {
   "cell_type": "markdown",
   "id": "3641212c",
   "metadata": {
    "id": "3641212c"
   },
   "source": [
    "The Acurracy score is very low and thus this model unsuitable for this prediction"
   ]
  },
  {
   "cell_type": "markdown",
   "id": "7faf4655",
   "metadata": {
    "id": "7faf4655"
   },
   "source": [
    "## Using the Random Forest Classifier"
   ]
  },
  {
   "cell_type": "code",
   "execution_count": null,
   "id": "1a14812a",
   "metadata": {
    "id": "1a14812a"
   },
   "outputs": [],
   "source": [
    "# importing the model\n",
    "from sklearn.ensemble import RandomForestClassifier"
   ]
  },
  {
   "cell_type": "code",
   "execution_count": null,
   "id": "4c837e5c",
   "metadata": {
    "id": "4c837e5c",
    "outputId": "829fc447-b330-4855-b9e6-e17689a67d7d"
   },
   "outputs": [
    {
     "data": {
      "application/javascript": [
       "\n",
       "        if (window._pyforest_update_imports_cell) { window._pyforest_update_imports_cell('import plotly as py\\nfrom sklearn.ensemble import RandomForestClassifier'); }\n",
       "    "
      ],
      "text/plain": [
       "<IPython.core.display.Javascript object>"
      ]
     },
     "metadata": {},
     "output_type": "display_data"
    },
    {
     "data": {
      "text/plain": [
       "RandomForestClassifier(random_state=42)"
      ]
     },
     "execution_count": 263,
     "metadata": {},
     "output_type": "execute_result"
    }
   ],
   "source": [
    "# Initializing the model\n",
    "rfc = RandomForestClassifier(n_estimators=100, random_state=42)\n",
    "rfc"
   ]
  },
  {
   "cell_type": "code",
   "execution_count": null,
   "id": "0ea304d8",
   "metadata": {
    "id": "0ea304d8",
    "outputId": "217b83ba-68ca-487f-8850-6818883c7d35"
   },
   "outputs": [
    {
     "data": {
      "text/plain": [
       "RandomForestClassifier(random_state=42)"
      ]
     },
     "execution_count": 264,
     "metadata": {},
     "output_type": "execute_result"
    }
   ],
   "source": [
    "# Training the model on the training set\n",
    "rfc.fit(X_train, y_train)\n"
   ]
  },
  {
   "cell_type": "code",
   "execution_count": null,
   "id": "3e1b3895",
   "metadata": {
    "id": "3e1b3895"
   },
   "outputs": [],
   "source": [
    "# Making predictions on the testing set\n",
    "y_pred = rfc.predict(X_test)"
   ]
  },
  {
   "cell_type": "code",
   "execution_count": null,
   "id": "870a68d3",
   "metadata": {
    "id": "870a68d3",
    "outputId": "25b17503-6af7-4d2f-d378-6b7395ef8e61"
   },
   "outputs": [
    {
     "name": "stdout",
     "output_type": "stream",
     "text": [
      "Accuracy: 0.5760869565217391\n"
     ]
    }
   ],
   "source": [
    "# Calculate the accuracy of the model\n",
    "accuracy = accuracy_score(y_test, y_pred)\n",
    "print('Accuracy:', accuracy)"
   ]
  },
  {
   "cell_type": "markdown",
   "id": "2e8998ad",
   "metadata": {
    "id": "2e8998ad"
   },
   "source": [
    "The Acurracy score using the Random Forest Classifier is still very low and thus this model unsuitable for this prediction."
   ]
  },
  {
   "cell_type": "markdown",
   "id": "a1948008",
   "metadata": {
    "id": "a1948008"
   },
   "source": [
    "### There are several processes to improve the accuracy of the model. Includes;\n",
    "\n",
    "- Utilizing different models: Other machine learning models such as XGBoost, or Support Vector Machines (SVMs) to see if they perform better on your data.\n",
    "\n",
    "- Feature engineering: Creating new features from existing ones that can help improve the performance of the model. Creating new features based on domain knowledge, or by using techniques such as PCA or feature scaling.\n",
    "\n",
    "- Hyperparameter tuning: The performance of some machine learning models can be improved by tuning the hyperparameters. Using techniques such as grid search or random search to find the optimal hyperparameters for this model."
   ]
  },
  {
   "cell_type": "code",
   "execution_count": null,
   "id": "6a8ce9e6",
   "metadata": {
    "id": "6a8ce9e6",
    "outputId": "0ceec367-9e7c-4537-c56a-b0417e3b4415"
   },
   "outputs": [
    {
     "data": {
      "text/plain": [
       "'C:\\\\Users\\\\hp\\\\Downloads\\\\ProjectNigeriaStudents\\\\NigerianGraduates'"
      ]
     },
     "execution_count": 268,
     "metadata": {},
     "output_type": "execute_result"
    }
   ],
   "source": [
    "pwd"
   ]
  },
  {
   "cell_type": "code",
   "execution_count": null,
   "id": "b09980ec",
   "metadata": {
    "id": "b09980ec"
   },
   "outputs": [],
   "source": []
  }
 ],
 "metadata": {
  "colab": {
   "provenance": [],
   "toc_visible": true
  },
  "kernelspec": {
   "display_name": "Python 3 (ipykernel)",
   "language": "python",
   "name": "python3"
  },
  "language_info": {
   "codemirror_mode": {
    "name": "ipython",
    "version": 3
   },
   "file_extension": ".py",
   "mimetype": "text/x-python",
   "name": "python",
   "nbconvert_exporter": "python",
   "pygments_lexer": "ipython3",
   "version": "3.9.13"
  }
 },
 "nbformat": 4,
 "nbformat_minor": 5
}
